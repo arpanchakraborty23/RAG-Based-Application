{
 "cells": [
  {
   "cell_type": "markdown",
   "metadata": {},
   "source": [
    "## Data Ingestion"
   ]
  },
  {
   "cell_type": "markdown",
   "metadata": {},
   "source": []
  },
  {
   "cell_type": "code",
   "execution_count": 1,
   "metadata": {},
   "outputs": [
    {
     "name": "stderr",
     "output_type": "stream",
     "text": [
      "USER_AGENT environment variable not set, consider setting it to identify your requests.\n"
     ]
    }
   ],
   "source": [
    "from langchain_community.document_loaders import WebBaseLoader"
   ]
  },
  {
   "cell_type": "code",
   "execution_count": 2,
   "metadata": {},
   "outputs": [],
   "source": [
    "from src.constants import traning_pipline\n",
    "url=traning_pipline.DATA_INGESTION_DATA_URL"
   ]
  },
  {
   "cell_type": "code",
   "execution_count": 3,
   "metadata": {},
   "outputs": [],
   "source": [
    "#url='https://en.wikipedia.org/wiki/DeepSeek'\n",
    "loder=WebBaseLoader(url)\n",
    "docs=loder.load()"
   ]
  },
  {
   "cell_type": "code",
   "execution_count": 4,
   "metadata": {},
   "outputs": [],
   "source": [
    "all_text=''\n",
    "filename=r'D:\\assamement-project\\Wikipedia-RAG-Based-Application\\data\\data.txt'"
   ]
  },
  {
   "cell_type": "code",
   "execution_count": 5,
   "metadata": {},
   "outputs": [],
   "source": [
    "import os\n",
    "dir_path = os.path.dirname(filename)\n",
    "os.makedirs(dir_path, exist_ok=True)"
   ]
  },
  {
   "cell_type": "code",
   "execution_count": 6,
   "metadata": {},
   "outputs": [],
   "source": [
    "with open(filename, \"w\", encoding=\"utf-8\") as f:\n",
    "   f.write(all_text)"
   ]
  },
  {
   "cell_type": "code",
   "execution_count": 7,
   "metadata": {},
   "outputs": [
    {
     "data": {
      "text/plain": [
       "0"
      ]
     },
     "execution_count": 7,
     "metadata": {},
     "output_type": "execute_result"
    }
   ],
   "source": [
    "len(all_text)"
   ]
  },
  {
   "cell_type": "code",
   "execution_count": 8,
   "metadata": {},
   "outputs": [
    {
     "data": {
      "text/plain": [
       "''"
      ]
     },
     "execution_count": 8,
     "metadata": {},
     "output_type": "execute_result"
    }
   ],
   "source": [
    "all_text"
   ]
  },
  {
   "cell_type": "markdown",
   "metadata": {},
   "source": [
    "# Chunking Documents"
   ]
  },
  {
   "cell_type": "code",
   "execution_count": 9,
   "metadata": {},
   "outputs": [],
   "source": [
    "with open(filename,'r',encoding='utf-8') as f:\n",
    "    raw_text= f.read()"
   ]
  },
  {
   "cell_type": "code",
   "execution_count": 10,
   "metadata": {},
   "outputs": [],
   "source": [
    "import re\n",
    "def preprocess_text(text: str) -> str:\n",
    "    text = text.lower()  # Convert to lowercase\n",
    "    text = re.sub(r\"[^a-zA-Z0-9\\n]\", \" \", text)  # Remove special characters\n",
    "    text = re.sub(r\"([a-z])([A-Z])\", r\"\\1 \\2\", text)  # Add spaces between camelCase words\n",
    "    text = re.sub(r\"(\\d+)\", r\" \\1 \", text)  # Add spaces around numbers\n",
    "    text = re.sub(r\"\\s+\", \" \", text).strip()  # Remove extra spaces\n",
    "    return text"
   ]
  },
  {
   "cell_type": "code",
   "execution_count": 11,
   "metadata": {},
   "outputs": [
    {
     "data": {
      "text/plain": [
       "''"
      ]
     },
     "execution_count": 11,
     "metadata": {},
     "output_type": "execute_result"
    }
   ],
   "source": [
    "raw_text"
   ]
  },
  {
   "cell_type": "code",
   "execution_count": 12,
   "metadata": {},
   "outputs": [],
   "source": [
    "cleaned_text=preprocess_text(all_text)"
   ]
  },
  {
   "cell_type": "code",
   "execution_count": 13,
   "metadata": {},
   "outputs": [
    {
     "data": {
      "text/plain": [
       "''"
      ]
     },
     "execution_count": 13,
     "metadata": {},
     "output_type": "execute_result"
    }
   ],
   "source": [
    "cleaned_text"
   ]
  },
  {
   "cell_type": "code",
   "execution_count": 14,
   "metadata": {},
   "outputs": [],
   "source": [
    "from langchain.text_splitter import RecursiveCharacterTextSplitter\n",
    "text_splitter = RecursiveCharacterTextSplitter(\n",
    "        chunk_size=500,\n",
    "        chunk_overlap=50\n",
    "         )"
   ]
  },
  {
   "cell_type": "code",
   "execution_count": 15,
   "metadata": {},
   "outputs": [],
   "source": [
    "# split doc\n",
    "chunks= text_splitter.split_text(cleaned_text)"
   ]
  },
  {
   "cell_type": "code",
   "execution_count": 16,
   "metadata": {},
   "outputs": [
    {
     "ename": "IndexError",
     "evalue": "list index out of range",
     "output_type": "error",
     "traceback": [
      "\u001b[1;31m---------------------------------------------------------------------------\u001b[0m",
      "\u001b[1;31mIndexError\u001b[0m                                Traceback (most recent call last)",
      "Cell \u001b[1;32mIn[16], line 1\u001b[0m\n\u001b[1;32m----> 1\u001b[0m \u001b[43mchunks\u001b[49m\u001b[43m[\u001b[49m\u001b[38;5;241;43m1\u001b[39;49m\u001b[43m]\u001b[49m\n",
      "\u001b[1;31mIndexError\u001b[0m: list index out of range"
     ]
    }
   ],
   "source": [
    "chunks[1]"
   ]
  },
  {
   "cell_type": "code",
   "execution_count": 80,
   "metadata": {},
   "outputs": [
    {
     "data": {
      "text/plain": [
       "90"
      ]
     },
     "execution_count": 80,
     "metadata": {},
     "output_type": "execute_result"
    }
   ],
   "source": [
    "len(chunks)"
   ]
  },
  {
   "cell_type": "code",
   "execution_count": 82,
   "metadata": {},
   "outputs": [
    {
     "data": {
      "text/plain": [
       "'https en wikipedia org wiki deepseek deepseek wikipedia jump to content main menu main menu move to sidebar hide navigation main pagecontentscurrent eventsrandom articleabout wikipediacontact us contribute helplearn to editcommunity portalrecent changesupload file search search appearance donate create account log in personal tools donate create account log in pages for logged out editors learn more contributionstalk contents move to sidebar hide top 1 background 2 release history toggle release'"
      ]
     },
     "execution_count": 82,
     "metadata": {},
     "output_type": "execute_result"
    }
   ],
   "source": [
    "chunks[0]"
   ]
  },
  {
   "cell_type": "code",
   "execution_count": 166,
   "metadata": {},
   "outputs": [],
   "source": [
    "filename=r'D:\\assamement-project\\Wikipedia-RAG-Based-Application\\expariment\\chunk\\data.json'\n",
    "dir_path = os.path.dirname(filename)\n",
    "os.makedirs(dir_path, exist_ok=True)\n"
   ]
  },
  {
   "cell_type": "code",
   "execution_count": 167,
   "metadata": {},
   "outputs": [],
   "source": [
    "import json\n",
    "\n",
    "\n",
    "with open(filename, \"w\", encoding=\"utf-8\") as f:\n",
    "    json.dump(chunks, f, indent=4, ensure_ascii=False)  # Save list as JSON\n"
   ]
  },
  {
   "cell_type": "code",
   "execution_count": 168,
   "metadata": {},
   "outputs": [
    {
     "name": "stdout",
     "output_type": "stream",
     "text": [
      "['https en wikipedia org wiki deepseek deepseek wikipedia jump to content main menu main menu move to sidebar hide navigation main pagecontentscurrent eventsrandom articleabout wikipediacontact us contribute helplearn to editcommunity portalrecent changesupload file search search appearance donate create account log in personal tools donate create account log in pages for logged out editors learn more contributionstalk contents move to sidebar hide top 1 background 2 release history toggle release', 'top 1 background 2 release history toggle release history subsection 2 1 deepseek llm 2 2 v 2 2 3 v 3 2 4 r 1 3 assessment and reactions 4 concerns toggle concerns subsection 4 1 censorship 4 2 security and privacy 5 see also 6 notes 7 references 8 external links toggle the table of contents deepseek 47 languages afrikaans aragon s catal e tinadanskdeutsch espa olesperanto fran aisfulfuldegaeilge bahasa indonesiaitaliano kiswahilimagyar nederlands o zbekcha polskiportugu sqaraqalpaqsharom n', 'o zbekcha polskiportugu sqaraqalpaqsharom n srpskisuomitagalog t rk e uyghurcheti ng vi t edit links articletalk english readview sourceview history tools tools move to sidebar hide actions readview sourceview history general what links hererelated changesupload filespecial pagespermanent linkpage informationcite this pageget shortened urldownload qr code print export download as pdfprintable version in other projects wikimedia commonswikidata item appearance move to sidebar hide from wikipedia', 'appearance move to sidebar hide from wikipedia the free encyclopedia chinese artificial intelligence company hangzhou deepseek artificial intelligence basic technology research co ltd native name company typeprivateindustryinformation technologyartificial intelligencefoundedmay 2023 1 year ago 2023 05 founderliang wenfengheadquartershangzhou zhejiang chinakey peopleliang wenfeng ceo ownerhigh flyerwebsitedeepseek com deepseek chinese pinyin sh nd qi su is a chinese artificial intelligence', 'sh nd qi su is a chinese artificial intelligence company that develops open source large language models llm based in hangzhou zhejiang it is owned and solely funded by chinese hedge fund high flyer whose co founder liang wenfeng established the company in 2023 and serves as its ceo the deepseek r 1 model provides responses comparable to other contemporary llms such openai s gpt 4 o and o 1 1 despite being trained at a significantly lower cost stated at us 6 million compared to 100 million for', 'at us 6 million compared to 100 million for openai s gpt 4 in 2023 2 and requiring a tenth of the computing power of a comparable llm 2 3 4 5 deepseek s a i models were developed amid united states sanctions on china for nvidia chips which were intended to restrict the country s ability to develop advanced a i systems 6 7 on 10 january 2025 deepseek released its first free chatbot app based on the deepseek r 1 model for apple ios and android by 27 january deepseek r 1 had surpassed chatgpt as', '27 january deepseek r 1 had surpassed chatgpt as the most downloaded free app on the ios app store in the united states 8 causing nvidia s share price to drop by 18 9 10 deepseek s success against larger and more established rivals has been described as upending ai 8 constituting the first shot at what is emerging as a global ai space race 11 and ushering in a new era of a i brinkmanship 12 deepseek makes its generative artificial intelligence algorithms models and training details open source', 'models and training details open source allowing its code to be freely available for use modification viewing and designing documents for building purposes 13 the company reportedly vigorously recruits young a i researchers from top chinese universities 8 and hires from outside the computer science field to diversify its models knowledge and abilities 4 deepseek ai chatbot is developed entirely by chinese software engineers whereas ai models established in silicon valley are created by people', 'in silicon valley are created by people of various nationalities including h 1 b visa holders from different countries working in the us deepseek ai models can be seen as a significant step toward developing indigenous high end technologies by asian countries helping to retain talent and reduce brain drain from nations like india and china 14 background in february 2016 high flyer was co founded by ai enthusiast liang wenfeng who had been trading since the 2007 2008 financial crisis while', 'since the 2007 2008 financial crisis while attending zhejiang university 15 by 2019 he established high flyer as a hedge fund focused on developing and using ai trading algorithms by 2021 high flyer exclusively used ai in trading 16 deepseek has made its generative artificial intelligence chatbot open source meaning its code is freely available for use modification and viewing this includes permission to access and utilize the source code as well as design documents for building purposes 13 per', 'as design documents for building purposes 13 per 36 kr liang had built up a store of 10 000 nvidia a 100 gpus before the united states federal government imposed ai chip restrictions on china 16 some estimates put the number as high as 50 000 15 in april 2023 high flyer started an artificial general intelligence lab dedicated to research developing ai tools separate from high flyer s financial business 17 18 in may 2023 with high flyer as one of the investors the lab became its own company', 'of the investors the lab became its own company deepseek 16 19 18 venture capital firms were reluctant in providing funding as it was unlikely that it would be able to generate an exit in a short period of time 16 after releasing deepseek v 2 in may 2024 which offered strong performance for a low price deepseek became known as the catalyst for china s ai model price war it was quickly dubbed the pinduoduo of ai and other major tech giants such as bytedance tencent baidu and alibaba began to cut', 'bytedance tencent baidu and alibaba began to cut the price of their ai models to compete with the company despite the low price charged by deepseek it was profitable compared to its rivals that were losing money 20 deepseek is focused solely on research and has no detailed plans for commercialization 20 this also allows its technology to avoid the most stringent provisions of china s a i regulations such as requiring consumer facing technology to comply with the government s controls on', 'to comply with the government s controls on information 4 deepseek s hiring preferences target technical abilities rather than work experience resulting in most new hires being either recent university graduates or developers whose ai careers are less established 18 4 likewise the company recruits individuals without any computer science background to help its technology understand other topics and knowledge areas including being able to generate poetry and perform well on the notoriously', 'poetry and perform well on the notoriously difficult chinese college admissions exams gaokao 4 release history deepseek llm on 2 november 2023 deepseek released its first series of model deepseek coder which is available for free to both researchers and commercial users the code for the model was made open source under the mit license with an additional license agreement deepseek license regarding open and responsible downstream usage for the model itself 21 they are of the same architecture as', 'itself 21 they are of the same architecture as deepseek llm detailed below the series includes 8 models 4 pretrained base and 4 instruction finetuned instruct they all have 16 k context lengths the training was as follows 22 23 24 pretraining 1 8 t tokens 87 source code 10 code related english github markdown and stack exchange and 3 code unrelated chinese long context pretraining 200 b tokens this extends the context length from 4 k to 16 k this produced the base models supervised finetuning', 'produced the base models supervised finetuning sft 2 b tokens of instruction data this produced the instruct models they were trained on clusters of a 100 and h 800 nvidia gpus connected by infiniband nvlink nvswitch 22 deepseek coder properties 22 table 2 25 params n layers displaystyle n text layers d model displaystyle d text model d intermediate displaystyle d text intermediate n heads displaystyle n text heads n kv heads displaystyle n text kv heads 1 3 b 24 2048 5504 16 16 5 7 b 32 4096', 'kv heads 1 3 b 24 2048 5504 16 16 5 7 b 32 4096 11008 32 1 note 1 6 7 b 32 4096 11008 32 32 33 b 62 7168 19200 56 7 note 2 on 29 november 2023 deepseek released the deepseek llm series of models with 7 b and 67 b parameters in both base and chat forms no instruct was released it was developed to compete with other llms available at the time the paper claimed benchmark results higher than most open source llms at the time especially llama 2 26 section 5 like deepseek coder the code for the model', '5 like deepseek coder the code for the model was under mit license with deepseek license for the model itself 27 the architecture was essentially the same as those of the llama series they used the pre norm decoder only transformer with rmsnorm as the normalization swiglu in the feedforward layers rotary positional embedding rope and grouped query attention gqa both had vocabulary size 102400 byte level bpe and context length of 4096 they trained on 2 trillion tokens of english and chinese text', 'on 2 trillion tokens of english and chinese text obtained by deduplicating the common crawl 26 deepseek llm properties 26 table 2 params n layers displaystyle n text layers d model displaystyle d text model d intermediate displaystyle d text intermediate n heads displaystyle n text heads n kv heads displaystyle n text kv heads 7 b 30 4096 11008 32 32 67 b 95 8192 22016 64 8 note 3 the chat versions of the two base models was also released concurrently obtained by training base by supervised', 'obtained by training base by supervised finetuning sft followed by direct policy optimization dpo 26 in april 2024 they released 3 deepseek math models specialized for doing math base instruct rl it was trained as follows 28 initialize with a previously pretrained deepseek coder base v 1 5 7 b further pretrain with 500 b tokens 6 deepseekmath corpus 4 algebraicstack 10 arxiv 20 github code 10 common crawl this produced the base model train an instruction following model by sft base with 776 k', 'following model by sft base with 776 k math problems and their tool use integrated step by step solutions this produced the instruct model reinforcement learning rl the reward model was a process reward model prm trained from base according to the math shepherd method 29 this reward model was then used to train instruct using group relative policy optimization grpo on a dataset of 144 k math questions related to gsm 8 k and math the reward model was continuously updated during training to avoid', 'was continuously updated during training to avoid reward hacking this resulted in the rl model v 2 in may 2024 they released the deepseek v 2 series the series includes 4 models 2 base models deepseek v 2 deepseek v 2 lite and 2 chatbots chat the two larger models were trained as follows 30 pretrain on a dataset of 8 1 t tokens where chinese tokens are 12 more than english ones extend context length from 4 k to 128 k using yarn 31 this resulted in deepseek v 2 sft with 1 2 m instances for', 'in deepseek v 2 sft with 1 2 m instances for helpfulness and 0 3 m for safety this resulted in deepseek v 2 chat sft which was not released rl using grpo in two stages the first stage was trained to solve math and coding problems this stage used 1 reward model trained on compiler feedback for coding and ground truth labels for math the second stage was trained to be helpful safe and follow rules this stage used 3 reward models the helpfulness and safety reward models were trained on human', 'and safety reward models were trained on human preference data the rule based reward model was manually programmed all trained reward models were initialized from deepseek v 2 chat sft this resulted in the released version of deepseek v 2 chat they opted for 2 staged rl because they found that rl on reasoning data had unique characteristics different from rl on general data for example rl on reasoning could improve over more training steps 30 the two v 2 lite models were smaller and trained', 'the two v 2 lite models were smaller and trained similarly though deepseek v 2 lite chat only underwent sft not rl they trained the lite version to help further research and development on mla and deepseekmoe 30 architecturally the v 2 models were significantly modified from the deepseek llm series they changed the standard attention mechanism by a low rank approximation called multi head latent attention mla and used the mixture of experts moe variant previously published in january compared', 'variant previously published in january compared to the standard sparsely gated moe their variant had shared experts that are always queried and routed experts that might not be 32 deepseek v 2 properties 30 section 3 1 2 appendix b 33 34 name params active params n layers displaystyle n text layers context length n shared experts displaystyle n text shared experts n routed experts displaystyle n text routed experts v 2 lite 15 7 b 2 4 b 27 32 k 2 64 v 2 236 b 21 b 60 128 k 2 160 the financial', '2 64 v 2 236 b 21 b 60 128 k 2 160 the financial times reported that it was cheaper than its peers with a price of 2 rmb for every million output tokens the university of waterloo tiger lab s leaderboard ranked deepseek v 2 seventh on its llm ranking 19 in june they released 4 models in the deepseek coder v 2 series v 2 base v 2 lite base v 2 instruct v 2 lite instruct they were trained as follows 35 note 4 the base models were initialized from corresponding intermediate checkpoints after', 'from corresponding intermediate checkpoints after pretraining on 4 2 t tokens not the version at the end of pretraining then pretrained further for 6 t tokens then context extended to 128 k context length this produced the base models deepseek coder and deepseek math were used to generate 20 k code related and 30 k math related instruction data then combined with an instruction dataset of 300 m tokens this was used for sft rl with grpo the reward for math problems was computed by comparing with', 'for math problems was computed by comparing with the ground truth label the reward for code problems was generated by a reward model trained to predict whether a program would pass the unit tests deepseek v 2 5 was released in september and updated in december it was made by combining deepseek v 2 chat and deepseek coder v 2 instruct 36 v 3 in december 2024 they released a base model deepseek v 3 base and a chat model deepseek v 3 the model architecture is essentially the same as v 2 they were', 'is essentially the same as v 2 they were trained as follows 37 pretraining on 14 8 t tokens of a multilingual corpus mostly english and chinese it contained a higher ratio of math and programming than the pretraining dataset of v 2 extend context length twice from 4 k to 32 k and then to 128 k using yarn 31 this produced deepseek v 3 base sft for 2 epochs on 1 5 m samples of reasoning math programming logic and non reasoning creative writing roleplay simple question answering data reasoning', 'roleplay simple question answering data reasoning data was generated by expert models non reasoning data was generated by deepseek v 2 5 and checked by humans the expert models were trained by starting with an unspecified base model then sft on both problem original response data and synthetic system prompt problem r 1 response data generated by an internal deepseek r 1 model the system prompt asked the r 1 to reflect and verify during thinking then the expert models were rl using an', 'thinking then the expert models were rl using an unspecified reward function each expert model was trained to generate just synthetic reasoning data in one specific domain math programming logic expert models were used instead of r 1 itself since the output from r 1 itself suffered overthinking poor formatting and excessive length model based reward models were made by starting with a sft checkpoint of v 3 then finetuning on human preference data containing both final reward and chain of', 'data containing both final reward and chain of thought leading to the final reward the reward model produced reward signals for both questions with objective but free form answers and questions without objective answers such as creative writing a sft checkpoint of v 3 was trained by grpo using both reward models and rule based reward the rule based reward was computed for math problems with a final answer put in a box and for programming problems by unit tests this produced deepseek v 3', 'problems by unit tests this produced deepseek v 3 deepseek v 3 properties 37 section 4 2 38 name params active params n layers displaystyle n text layers context length n shared experts displaystyle n text shared experts n routed experts displaystyle n text routed experts v 3 671 b 37 b 61 128 k 1 256 they performed extensive low level engineering to achieve efficiency they used mixed precision arithmetic much of the forward pass was performed in 8 bit floating point numbers 5 e 2 m 5 bit', 'in 8 bit floating point numbers 5 e 2 m 5 bit exponent and 2 bit mantissa rather than the standard 32 bit requiring special gemm routines to accumulate accurately they used a custom 12 bit float e 5 m 6 for only the inputs to the linear layers after the attention modules optimizer states were in 16 bit bf 16 they minimized the communication latency by overlapping extensively computation and communication such as dedicating 20 streaming multiprocessors out of 132 per h 800 for just inter gpu', 'out of 132 per h 800 for just inter gpu communication they lowered communication by rearranging every 10 minutes the exact machine each expert was on in order to avoid certain machines being queried more often than the others adding auxiliary load balancing losses to the training loss function and other load balancing techniques 37 after training it was deployed on h 800 clusters the h 800 within a cluster are connected by nvlink the clusters are connected by infiniband 37 total cost of', 'are connected by infiniband 37 total cost of training the deepseek v 3 model 37 table 1 stage cost in one thousand gpu hours cost in one million usd pre training 2 664 5 328 context extension 119 0 24 fine tuning 5 0 01 total 2 788 5 576 benchmark tests show that deepseek v 3 outperformed llama 3 1 and qwen 2 5 whilst matching gpt 4 o and claude 3 5 sonnet 18 39 40 41 r 1 on 20 november 2024 deepseek r 1 lite preview became accessible via deepseek s api and chat deepseek com 42 it was trained', 's api and chat deepseek com 42 it was trained for logical inference mathematical reasoning and real time problem solving deepseek claimed that it exceeded performance of openai o 1 on benchmarks such as american invitational mathematics examination aime and math 43 however the wall street journal stated when it used 15 problems from the 2024 edition of aime the o 1 model reached a solution faster than deepseek r 1 lite preview 44 on 20 january 2025 deepseek r 1 and deepseek r 1 zero were', '2025 deepseek r 1 and deepseek r 1 zero were released 45 both were initialized from deepseek v 3 base and share its architecture the company also released some deepseek r 1 distill models which are not initialized on v 3 base but instead are initialized from other pretrained open weight models including llama and qwen then fine tuned on synthetic data generated by r 1 46 template for deepseek r 1 zero a conversation between user and assistant the user asks a question and the assistant solves it', 'user asks a question and the assistant solves it the assistant first thinks about the reasoning process in the mind and then provides the user with the answer the reasoning process and answer are enclosed within think think and answer answer tags respectively i e think reasoning process here think answer answer here answer user prompt assistant prompt is replaced with the specific reasoning question during training deepseek r 1 zero was trained exclusively using grpo rl without sft unlike', 'exclusively using grpo rl without sft unlike previous versions they used no model based reward all reward functions were rule based mainly of two types other types were not specified accuracy rewards and format rewards accuracy reward was checking whether a boxed answer is correct for math or whether a code passes tests for programming format reward was checking whether the model puts its thinking trace within think think 46 as r 1 zero has issues with readability and mixing languages r 1 was', 'with readability and mixing languages r 1 was trained to address these issues and further improve reasoning 46 sft deepseek v 3 base on thousands of cold start data all with the standard format of special token reasoning process special token summary apply the same rl process as r 1 zero but also with a language consistency reward to encourage it to respond monolingually this produced an internal model not released synthesize 600 k reasoning data from the internal model with rejection sampling', 'from the internal model with rejection sampling i e if the generated reasoning had a wrong final answer then it is removed synthesize 200 k non reasoning data writing factual qa self cognition translation using deepseek v 3 sft deepseek v 3 base on the 800 k synthetic data for 2 epochs grpo rl with both rule based reward for reasoning tasks and model based reward for non reasoning tasks helpfulness and harmlessness this produced deepseek r 1 distilled models were trained by sft on 800 k data', 'models were trained by sft on 800 k data synthesized from deepseek r 1 in a similar way as step 3 above they were not trained with rl 46 assessment and reactions deepseek released its a i assistant which utilizes the v 3 model as a chatbot app for apple ios and android by 27 january 2025 the app had surpassed chatgpt as the highest rated free app on the ios app store in the united states its chatbot reportedly answers questions solves logic problems and writes computer programs on par with', 'problems and writes computer programs on par with other chatbots on the market according to benchmark tests used by american a i companies 4 deepseek v 3 uses significantly fewer resources compared to its peers for example whereas the world s leading a i companies train their chatbots with supercomputers using as many as 16 000 graphics processing units gpus if not more deepseek claims to have needed only about 2 000 gpus namely the h 800 series chip from nvidia it was trained in around 55 days', 'chip from nvidia it was trained in around 55 days at a cost of us 5 58 million 37 which is roughly 10 times less than what u s tech giant meta spent building its latest a i technology 4 deepseek s competitive performance at relatively minimal cost has been recognized as potentially challenging the global dominance of american a i models 47 various publications and news media such as the hill and the guardian described the release of its chatbot as a sputnik moment for american a i 48 49 the', 'as a sputnik moment for american a i 48 49 the performance of its r 1 model was reportedly on par with one of openai s latest models when used for tasks such as mathematics coding and natural language reasoning 50 echoing other commentators american silicon valley venture capitalist marc andreessen likewise described r 1 as ai s sputnik moment 50 deepseek s founder liang wenfeng has been compared to open ai ceo sam altman with cnn calling him the sam altman of china and an evangelist for ai 51', 'sam altman of china and an evangelist for ai 51 the login error deepseek gave on 28 jan 2025 following a cyberattackdeepseek s optimization of limited resources has highlighted potential limits of u s sanctions on china s a i development which include export restrictions on advanced a i chips to china 18 52 the success of the company s a i models consequently sparked market turmoil 53 and caused shares in major global technology companies to plunge on 27 january nvidia s stock fell by as much', 'on 27 january nvidia s stock fell by as much as 17 18 54 as did the stock of rival broadcom other tech firms also sank including microsoft down 2 5 google s owner alphabet down over 4 and dutch chip equipment maker asml down over 7 50 a global selloff of technology stocks on nasdaq prompted by the release of the r 1 model had led to record losses of about 593 billion in the market capitalizations of ai and computer hardware companies 55 by 28 january a total of 1 trillion of value was wiped off', 'a total of 1 trillion of value was wiped off american stocks 49 leading figures in the american a i sector had mixed reactions to deepseek s success and performance 56 microsoft ceo satya nadella and openai ceo sam altman whose companies are involved in the u s government backed stargate project to develop american a i infrastructure both called deepseek super impressive 57 58 american president donald trump who announced the stargate project called deepseek a wake up call 59 and a positive', 'called deepseek a wake up call 59 and a positive development 60 49 61 62 other leaders in the field including scale ai ceo alexandr wang anthropic cofounder and ceo dario amodei and elon musk expressed skepticism of the app s performance or of the sustainability of its success 56 63 64 various companies including amazon web services toyota and stripe are seeking to use the model in their program 65 on 27 january deepseek limited its new user registration to chinese mainland phone numbers email', 'to chinese mainland phone numbers email and google login after a reported cyberattack that caused a slowdown to its servers and services 66 67 68 concerns censorship see also chinese censorship abroad and censorship in china deepseek responses when asked about xi jinping and narendra modi some sources have observed that the official api version of r 1 uses censorship mechanisms for topics that are considered politically sensitive for the government of the people s republic of china for example', 'of the people s republic of china for example the model refuses to answer questions about the 1989 tiananmen square protests and massacre persecution of uyghurs or human rights in china 69 70 the ai may initially generate an answer but then deletes it shortly afterwards and replaces it with a message such as sorry that s beyond my current scope let s talk about something else 70 the integrated censorship mechanisms and restrictions can only be removed to a limited extent in the open source', 'be removed to a limited extent in the open source version of the r 1 model if the core socialist values defined by the chinese internet regulatory authorities are touched upon or the political status of taiwan is raised discussions are terminated 71 when tested by nbc news deepseek s r 1 described taiwan as an inalienable part of china s territory and stated we firmly oppose any form of taiwan independence separatist activities and are committed to achieving the complete reunification of the', 'to achieving the complete reunification of the motherland through peaceful means 72 western researchers were able in january 2025 to trick deepseek into giving accurate answers to some of these topics by tailoring the question asked 73 security and privacy see also chinese information operations and information warfare there are also fears that the ai system could be used for foreign influence operations spreading disinformation surveillance and the development of cyberweapons for the', 'and the development of cyberweapons for the government of the people s republic of china 74 75 76 deepseek s privacy terms and conditions say we store the information we collect in secure servers located in the people s republic of china we may collect your text or audio input prompt uploaded files feedback chat history or other content that you provide to our model and services although the data storage and collection policy is consistent with chatgpt s privacy policy 77 a media article', 'with chatgpt s privacy policy 77 a media article reports this as security concerns 78 in response the italian data protection authority is seeking additional information on deepseek s collection and use of personal data and the united states national security council announced that it had started a national security review 79 80 see also artificial intelligence industry in china notes the number of heads does not equal the number of kv heads due to gqa the number of heads does not equal the', 'due to gqa the number of heads does not equal the number of kv heads due to gqa the number of heads does not equal the number of kv heads due to gqa inexplicably the model named deepseek coder v 2 chat in the paper was released as deepseek coder v 2 instruct in huggingface references gibney elizabeth 23 january 2025 china s cheap open ai model deepseek thrills scientists nature doi 10 1038 d 41586 025 00229 6 issn 1476 4687 pmid 39849139 a b vincent james 28 january 2025 the deepseek panic', 'vincent james 28 january 2025 the deepseek panic reveals an ai world ready to blow the guardian hoskins peter rahman jones imran 27 january 2025 nvidia shares sink as chinese ai app spooks markets bbc retrieved 28 january 2025 a b c d e f g metz cade tobin meaghan 23 january 2025 how chinese a i start up deepseek is competing with silicon valley giants the new york times issn 0362 4331 retrieved 27 january 2025 cosgrove emma 27 january 2025 deepseek s cheaper models and weaker chips call into', 's cheaper models and weaker chips call into question trillions in ai infrastructure spending business insider saran cliff 10 december 2024 nvidia investigation signals widening of us and china chip war computer weekly computer weekly retrieved 27 january 2025 sherman natalie 9 december 2024 nvidia targeted by china in new chip war probe bbc retrieved 27 january 2025 a b c metz cade 27 january 2025 what is deepseek and how is it upending a i the new york times issn 0362 4331 retrieved 27 january', 'york times issn 0362 4331 retrieved 27 january 2025 field hayden 27 january 2025 china s deepseek ai dethrones chatgpt on app store here s what you should know cnbc what is deepseek and why is it causing nvidia and other stocks to slump www cbsnews com 27 january 2025 zahn max nvidia microsoft shares tumble as china based ai app deepseek hammers tech giants abc news retrieved 27 january 2025 roose kevin 28 january 2025 why deepseek could change what silicon valley believe about a i the new york', 'silicon valley believe about a i the new york times issn 0362 4331 retrieved 28 january 2025 a b romero luis e chatgpt deepseek or llama meta s lecun says open source is the key forbes panda aishwarya 28 january 2025 deepseek wounds redirected to low cost h 1 bs m 9 news retrieved 28 january 2025 a b chen caiwei 24 january 2025 how a top chinese ai model overcame us sanctions mit technology review archived from the original on 25 january 2025 a b c d ottinger lily 9 december 2024 deepseek from', 'b c d ottinger lily 9 december 2024 deepseek from hedge fund to frontier model maker chinatalk archived from the original on 28 december 2024 retrieved 28 december 2024 yu xu 17 april 2023 exclusive chinese quant hedge fund high flyer won t use agi to trade stocks md says yicai global archived from the original on 31 december 2023 retrieved 28 december 2024 a b c d e jiang ben perezi bien 1 january 2025 meet deepseek the chinese start up that is changing how ai models are trained south china', 'is changing how ai models are trained south china morning post archived from the original on 22 january 2025 retrieved 1 january 2025 a b mcmorrow ryan olcott eleanor 9 june 2024 the chinese quant fund turned ai pioneer financial times archived from the original on 17 july 2024 retrieved 28 december 2024 a b schneider jordan 27 november 2024 deepseek the quiet giant leading china s ai race chinatalk retrieved 28 december 2024 deepseek coder license model at main deepseek ai deepseek coder', 'license model at main deepseek ai deepseek coder github archived from the original on 22 january 2025 retrieved 24 january 2025 a b c guo daya zhu qihao yang dejian xie zhenda dong kai zhang wentao chen guanting bi xiao wu y 26 january 2024 deepseek coder when the large language model meets programming the rise of code intelligence arxiv 2401 14196 deepseek coder deepseekcoder github io retrieved 27 january 2025 deepseek ai deepseek coder deepseek 27 january 2025 retrieved 27 january 2025', '27 january 2025 retrieved 27 january 2025 deepseek ai deepseek coder 5 7 bmqa base hugging face huggingface co retrieved 27 january 2025 a b c d deepseek ai bi xiao chen deli chen guanting chen shanhuang dai damai deng chengqi ding honghui dong kai 5 january 2024 deepseek llm scaling open source language models with longtermism arxiv 2401 02954 deepseek ai deepseek llm deepseek 27 january 2025 retrieved 27 january 2025 shao zhihong wang peiyi zhu qihao xu runxin song junxiao bi xiao zhang', 'zhu qihao xu runxin song junxiao bi xiao zhang haowei zhang mingchuan li y k 27 april 2024 deepseekmath pushing the limits of mathematical reasoning in open language models arxiv 2402 03300 wang peiyi li lei shao zhihong xu r x dai damai li yifei chen deli wu y sui zhifang 19 february 2024 math shepherd verify and reinforce llms step by step without human annotations arxiv 2312 08935 a b c d deepseek ai liu aixin feng bei wang bin wang bingxuan liu bo zhao chenggang dengr chengqi ruan chong 19', 'liu bo zhao chenggang dengr chengqi ruan chong 19 june 2024 deepseek v 2 a strong economical and efficient mixture of experts language model arxiv 2405 04434 a b peng bowen quesnelle jeffrey fan honglu shippole enrico 1 november 2023 yarn efficient context window extension of large language models arxiv 2309 00071 dai damai deng chengqi zhao chenggang xu r x gao huazuo chen deli li jiashi zeng wangding yu xingkai 11 january 2024 deepseekmoe towards ultimate expert specialization in mixture of', 'ultimate expert specialization in mixture of experts language models arxiv 2401 06066 config json deepseek ai deepseek v 2 lite at main huggingface co 15 may 2024 retrieved 28 january 2025 config json deepseek ai deepseek v 2 at main huggingface co 6 may 2024 retrieved 28 january 2025 deepseek ai zhu qihao guo daya shao zhihong yang dejian wang peiyi xu runxin wu y li yukun 17 june 2024 deepseek coder v 2 breaking the barrier of closed source models in code intelligence arxiv 2406 11931', 'models in code intelligence arxiv 2406 11931 deepseek ai deepseek v 2 5 hugging face huggingface co 3 january 2025 retrieved 28 january 2025 a b c d e f deepseek ai liu aixin feng bei xue bing wang bingxuan wu bochao lu chengda zhao chenggang deng chengqi 27 december 2024 deepseek v 3 technical report arxiv 2412 19437 config json deepseek ai deepseek v 3 at main huggingface co 26 december 2024 retrieved 28 january 2025 jiang ben 27 december 2024 chinese start up deepseek s new ai model', '2024 chinese start up deepseek s new ai model outperforms meta openai products south china morning post archived from the original on 27 december 2024 retrieved 28 december 2024 sharma shubham 26 december 2024 deepseek v 3 ultra large open source ai outperforms llama and qwen on launch venturebeat archived from the original on 27 december 2024 retrieved 28 december 2024 wiggers kyle 26 december 2024 deepseek s new ai model appears to be one of the best open challengers yet techcrunch archived', 'the best open challengers yet techcrunch archived from the original on 2 january 2025 retrieved 31 december 2024 news deepseek r 1 lite release 2024 11 20 deepseek r 1 lite preview is now live unleashing supercharged reasoning power deepseek api docs retrieved 28 january 2025 franzen carl 20 november 2024 deepseek s first reasoning model r 1 lite preview turns heads beating openai o 1 performance venturebeat archived from the original on 22 november 2024 retrieved 28 december 2024 huang', '22 november 2024 retrieved 28 december 2024 huang raffaele 24 december 2024 don t look now but china s ai is catching up fast the wall street journal archived from the original on 27 december 2024 retrieved 28 december 2024 release deepseek r 1 deepseek ai deepseek r 1 23807 ce github archived from the original on 21 january 2025 retrieved 21 january 2025 a b c d deepseek ai guo daya yang dejian zhang haowei song junxiao zhang ruoyu xu runxin zhu qihao ma shirong 22 january 2025 deepseek r 1', 'zhu qihao ma shirong 22 january 2025 deepseek r 1 incentivizing reasoning capability in llms via reinforcement learning arxiv 2501 12948 chinese ai startup deepseek overtakes chatgpt on apple app store reuters 27 january 2025 retrieved 27 january 2025 wade david 6 december 2024 american ai has reached its sputnik moment the hill archived from the original on 8 december 2024 retrieved 25 january 2025 a b c milmo dan hawkins amy booth robert kollewe julia 28 january 2025 sputnik moment 1 tn wiped', 'julia 28 january 2025 sputnik moment 1 tn wiped off us stocks after chinese firm unveils ai chatbot via the guardian a b c deepseek chinese ai chatbot sparks market turmoil for rivals www bbc com 27 january 2025 retrieved 27 january 2025 goldman david 27 january 2025 what is deepseek the chinese ai startup that shook the tech world cnn business cnn retrieved 29 january 2025 shilov anton 27 december 2024 chinese ai company s ai model breakthrough highlights limits of us sanctions tom s hardware', 'highlights limits of us sanctions tom s hardware archived from the original on 28 december 2024 retrieved 28 december 2024 deepseek updates chinese ai chatbot sparks us market turmoil wiping 500 bn off nvidia bbc news retrieved 27 january 2025 nazareth rita 26 january 2025 stock rout gets ugly as nvidia extends loss to 17 markets wrap bloomberg retrieved 27 january 2025 carew sin ad cooper amanda banerjee ankur 27 january 2025 deepseek sparks global ai selloff nvidia losses about 593 billion of', 'ai selloff nvidia losses about 593 billion of value reuters a b ai leaders in the u s react to deepseek calling it impressive but staying skeptical kevin okemwa 28 january 2025 microsoft ceo satya nadella touts deepseek s open source ai as super impressive we should take the developments out of china very very seriously windows central retrieved 28 january 2025 nazzaro miranda 28 january 2025 openai s sam altman calls deepseek model impressive the hill retrieved 28 january 2025 dou eva gregg', 'the hill retrieved 28 january 2025 dou eva gregg aaron zakrzewski cat tiku nitasha najmabadi shannon 28 january 2025 trump calls china s deepseek ai app a wake up call after tech stocks slide the washington post retrieved 28 january 2025 habeshian sareen 28 january 2025 johnson bashes china on ai trump calls deepseek development positive axios hoskins peter rahman jones imran 27 january 2025 nvidia shares sink as chinese ai app spooks markets bbc retrieved 28 january 2025 karaian jason rennison', 'retrieved 28 january 2025 karaian jason rennison joe 27 january 2025 china s a i advances spook big tech investors on wall street via nytimes com sharma manoj 6 january 2025 musk dismisses altman applauds what leaders say on deepseek s disruption fortune india retrieved 28 january 2025 elon musk questions deepseek s claims suggests massive nvidia gpu infrastructure financialexpress 28 january 2025 retrieved 28 january 2025 kim eugene big aws customers including stripe and toyota are hounding', 'including stripe and toyota are hounding the cloud giant for access to deepseek ai models business insider kerr dara 27 january 2025 deepseek hit with large scale cyber attack after ai chatbot tops app stores via the guardian tweedie steven altchek ana deepseek temporarily limited new sign ups citing large scale malicious attacks business insider kerr dara 27 january 2025 deepseek hit with large scale cyber attack after ai chatbot tops app stores the guardian retrieved 28 january 2025 field', 'the guardian retrieved 28 january 2025 field matthew titcomb james 27 january 2025 chinese ai has sparked a 1 trillion panic and it doesn t care about free speech the daily telegraph issn 0307 1235 retrieved 27 january 2025 a b steinschaden jakob 27 january 2025 deepseek this is what live censorship looks like in the chinese ai chatbot trending topics retrieved 27 january 2025 the guardian view on a global ai race geopolitics innovation and the rise of chaos the guardian 26 january 2025 issn', 'rise of chaos the guardian 26 january 2025 issn 0261 3077 retrieved 27 january 2025 yang angela cui jasmine 27 january 2025 chinese ai deepseek jolts silicon valley giving the ai race its sputnik moment nbc news retrieved 27 january 2025 lu donna 28 january 2025 we tried out deepseek it worked well until we asked it about tiananmen square and taiwan the guardian issn 0261 3077 retrieved 28 january 2025 kimery anthony 26 january 2025 china s deepseek ai poses formidable cyber data privacy', 's deepseek ai poses formidable cyber data privacy threats biometric update retrieved 27 january 2025 booth robert milmo dan 28 january 2025 experts urge caution over use of chinese ai deepseek the guardian issn 0261 3077 retrieved 28 january 2025 hornby rael 28 january 2025 deepseek s success has painted a huge tiktok shaped target on its back laptopmag retrieved 28 january 2025 privacy policy open ai retrieved 28 january 2025 burgess matt deepseek s popular ai app is explicitly sending us data', 's popular ai app is explicitly sending us data to china wired issn 1059 1028 retrieved 28 january 2025 italy regulator seeks information from deepseek on data protection reuters 28 january 2025 retrieved 28 january 2025 shalal andrea shepardson david 28 january 2025 white house evaluates effect of china ai app deepseek on national security official says reuters retrieved 28 january 2025 external links free and open source software portal wikimedia commons has media related to deepseek official', 'commons has media related to deepseek official website anthology of deepseek papers deepseek ai on github official api documentation deepseek ai on hugging face vtegenerative ai chatbotsactive chatgpt claude deepseek gemini grok microsoft copilot mistral poe qwen replika you com defunct bard related large language models category vtegenerative aiconcepts autoencoder deep learning generative adversarial network generative pre trained transformer large language model neural network prompt', 'large language model neural network prompt engineering retrieval augmented generation reinforcement learning from human feedback self supervised learning transformer variational autoencoder vision transformer word embedding modelstext claude dbrx gemini gpt 1 2 3 j chatgpt 4 4 o o 1 o 3 grok granite llama mistral large pangu qwen image aurora dall e firefly flux ideogram midjourney stable diffusion video dream machine gen 3 alpha hailuo ai kling sora veo videopoet music udio suno ai companies', 'sora veo videopoet music udio suno ai companies 01 ai alibaba anthropic baichuan deepseek elevenlabs google deepmind hugging face kuaishou meta ai minimax mistral ai moonshot ai openai runway stability ai synthesia xai zhipu ai category commons retrieved from https en wikipedia org w index php title deepseek oldid 1272566389 categories 2023 establishments in chinaartificial intelligence companiesartificial intelligence laboratoriescompanies based in hangzhoutechnology companies established in', 'in hangzhoutechnology companies established in 2023 hidden categories articles with short descriptionshort description matches wikidatawikipedia pages semi protected against vandalismuse dmy dates from january 2025 articles containing chinese language textarticles containing simplified chinese language textcommons category link from wikidata this page was last edited on 29 january 2025 at 08 12 utc text is available under the creative commons attribution sharealike 4 0 license additional terms', 'sharealike 4 0 license additional terms may apply by using this site you agree to the terms of use and privacy policy wikipedia is a registered trademark of the wikimedia foundation inc a non profit organization privacy policy about wikipedia disclaimers contact wikipedia code of conduct developers statistics cookie statement mobile view search search toggle the table of contents deepseek 47 languages add topic']\n"
     ]
    }
   ],
   "source": [
    "with open(filename, \"r\", encoding=\"utf-8\") as f:\n",
    "    chunks = json.load(f)  # Load list from JSON\n",
    "\n",
    "print(chunks)\n"
   ]
  },
  {
   "cell_type": "code",
   "execution_count": 169,
   "metadata": {},
   "outputs": [
    {
     "data": {
      "text/plain": [
       "'https en wikipedia org wiki deepseek deepseek wikipedia jump to content main menu main menu move to sidebar hide navigation main pagecontentscurrent eventsrandom articleabout wikipediacontact us contribute helplearn to editcommunity portalrecent changesupload file search search appearance donate create account log in personal tools donate create account log in pages for logged out editors learn more contributionstalk contents move to sidebar hide top 1 background 2 release history toggle release'"
      ]
     },
     "execution_count": 169,
     "metadata": {},
     "output_type": "execute_result"
    }
   ],
   "source": [
    "chunks[0]"
   ]
  },
  {
   "cell_type": "markdown",
   "metadata": {},
   "source": [
    "# vectordb"
   ]
  },
  {
   "cell_type": "code",
   "execution_count": 110,
   "metadata": {},
   "outputs": [],
   "source": [
    "from langchain_google_genai.embeddings import GoogleGenerativeAIEmbeddings\n",
    "\n",
    "embeddings=GoogleGenerativeAIEmbeddings(\n",
    "   google_api_key=os.getenv('GEMINI_API_KEY'),\n",
    "   model=\"models/embedding-001\"\n",
    ")"
   ]
  },
  {
   "cell_type": "code",
   "execution_count": 112,
   "metadata": {},
   "outputs": [
    {
     "data": {
      "text/plain": [
       "768"
      ]
     },
     "execution_count": 112,
     "metadata": {},
     "output_type": "execute_result"
    }
   ],
   "source": [
    "d=embeddings.embed_query('how are you')\n",
    "len(d)"
   ]
  },
  {
   "cell_type": "code",
   "execution_count": 114,
   "metadata": {},
   "outputs": [
    {
     "data": {
      "text/plain": [
       "768"
      ]
     },
     "execution_count": 114,
     "metadata": {},
     "output_type": "execute_result"
    }
   ],
   "source": [
    "d=embeddings.embed_query(' jdsv udpv vsouvepu \\buj\\\\')\n",
    "len(d)"
   ]
  },
  {
   "cell_type": "code",
   "execution_count": 134,
   "metadata": {},
   "outputs": [
    {
     "name": "stdout",
     "output_type": "stream",
     "text": [
      "None\n"
     ]
    }
   ],
   "source": [
    "print(os.getenv('PINCONE_API_KEY'))"
   ]
  },
  {
   "cell_type": "code",
   "execution_count": 142,
   "metadata": {},
   "outputs": [],
   "source": [
    "import time\n",
    "from pinecone import Pinecone,ServerlessSpec\n",
    "\n",
    "pinecone_api_key = os.environ.get(\"PINECONE_API_KEY\")\n",
    "\n",
    "pc = Pinecone(api_key='pcsk_2e9E7E_PTURkSdk3ktVBRXriXwcd8XmbcTD8dqKhcqNDbRomkKcVA6QexdHcrCcdxEP4dD')\n",
    "index_name = \"rag\" \n",
    "\n",
    "existing_indexes = [index_info[\"name\"] for index_info in pc.list_indexes()]\n",
    "\n",
    "if index_name not in existing_indexes:\n",
    "    pc.create_index(\n",
    "        name=index_name,\n",
    "        dimension=3072,\n",
    "        metric=\"cosine\",\n",
    "        spec=ServerlessSpec(cloud=\"aws\", region=\"us-east-1\"),\n",
    "    )\n",
    "    while not pc.describe_index(index_name).status[\"ready\"]:\n",
    "        time.sleep(1)\n",
    "\n",
    "index = pc.Index(index_name)"
   ]
  },
  {
   "cell_type": "code",
   "execution_count": 143,
   "metadata": {},
   "outputs": [],
   "source": [
    "from langchain_pinecone import PineconeVectorStore\n",
    "vector_store = PineconeVectorStore(index=index, embedding=embeddings)"
   ]
  },
  {
   "cell_type": "code",
   "execution_count": 145,
   "metadata": {},
   "outputs": [
    {
     "data": {
      "text/plain": [
       "['91430d65-3ae8-49b6-86fb-11be62e2955e',\n",
       " 'ef22e4cf-3b66-4c2f-b2f6-9911a007ace3',\n",
       " '7fdd630f-8bab-4b97-a7fd-d0d14e7eb475',\n",
       " 'de94371f-6299-4d28-81b0-f12b3dd146c5',\n",
       " 'fa25e20d-552f-4081-a6a7-40bf5ad36de0',\n",
       " 'fdaef7f9-a0ad-4789-ba90-2c6d3a8bdee6',\n",
       " 'b132ca4d-88b1-49b5-9596-f31b66ba4c99',\n",
       " 'de336e36-1f92-4730-8934-0364e8df2770',\n",
       " '3f169102-3bb9-4af1-beca-ea2db73a71be',\n",
       " '669ea975-098b-4534-b1d7-8b2c91a7c60f',\n",
       " 'cdb8ca66-5b73-44e2-b81c-882eaa5db020',\n",
       " 'ac65f7df-8ee7-4f97-95cc-2a0a6e7b6d1a',\n",
       " 'fff35f81-fa0b-4e85-b997-dc86acd0a120',\n",
       " '5b6d6e15-74eb-45e6-bb55-c8746f70a4fa',\n",
       " '0c276a49-a454-4e64-986a-051be4e0f671',\n",
       " 'd1d7556c-ee91-4252-894c-08ff2a96212d',\n",
       " 'd4d4fbd0-583b-4d4a-ab9e-51e62a278cb2',\n",
       " 'c7c0df9b-1621-42f8-a5df-baccbfce1481',\n",
       " 'f1b5624c-363e-499f-a369-b1ab1206d8e4',\n",
       " '05eec6c1-12d4-405c-9d6d-0d3d520b7c86',\n",
       " 'f0d9c070-171b-4937-9fc5-82c1756d2e0d',\n",
       " '03f656f1-1eb2-451a-87c1-77c517cdc2db',\n",
       " '95c9b040-1c64-48bf-8135-6b7da509c6fa',\n",
       " '9aebb245-c788-474d-a399-3c5eb65911f6',\n",
       " '10368cb3-90f4-467c-b1dd-e9267501f3d9',\n",
       " '9df6bf96-1aca-4ece-b535-95a28c7cef85',\n",
       " 'df6ee5b2-7ac7-4739-af20-fa0fe5e0fd00',\n",
       " 'f14e528c-9b71-4ccc-a5a6-59d21de4f6e9',\n",
       " '3645fb71-5c21-4b06-bd93-19449a111ca6',\n",
       " '88ad52af-2b1a-4ffe-b601-5fae03d483f0',\n",
       " 'b205c01b-85cf-4673-96c0-81ff1d6346ef',\n",
       " '613e23b6-9995-4b1f-9e7f-3936e15e851e',\n",
       " '34876165-eb77-44b2-9470-e1b3ee66ec75',\n",
       " '36368766-a29f-46de-80da-e383778a2200',\n",
       " 'dfb161e7-3d6b-46e4-ae2f-9f83817e5ee8',\n",
       " '007390c6-c352-4bc1-9bd0-7e1093281478',\n",
       " 'dcd9bb8c-6fce-4f70-8f79-6072618b4fc8',\n",
       " '4602987c-3fed-44ee-8c04-81a03b724ada',\n",
       " '0a5181ba-9b09-4b9a-b251-fe14bc2e0aa7',\n",
       " 'd311df1d-21b3-4e63-b4aa-9f65429e252a',\n",
       " '710a5864-fbbc-4a28-aaec-881d8278af34',\n",
       " '5cd6308c-f799-463a-991c-aff4a8da7dd4',\n",
       " '35f4b4a1-697b-417f-90cd-b69b804269e4',\n",
       " '9f7d2aec-8569-4eda-b7d8-a6a803363dac',\n",
       " '65ac00f2-ee8d-4ceb-b3fe-b791c53e4e1f',\n",
       " 'c12f64e1-00c3-4db0-b543-8c867e60c0b7',\n",
       " 'b098062e-0d47-4094-896f-473cc0912ae8',\n",
       " 'e32ca0b6-b6bb-4967-b844-6af3905908c9',\n",
       " '2b0d40d0-47e1-4c52-bb75-14ded3a40b3b',\n",
       " '6f0971b9-e809-41ac-a5bf-7ca4f87f1c52',\n",
       " '3dc633a6-ed32-4d68-9f08-8258d68c5af4',\n",
       " '8730069f-a90d-4ecc-bb46-900956af9dfa',\n",
       " '73298a31-601d-48c8-bc20-63f08465b711',\n",
       " 'bcfd5ce3-22ae-4487-a171-4393e5bd9107',\n",
       " '40c09183-0f07-4e66-b462-877d650f25ad',\n",
       " 'd9d545e0-8ae0-4a09-a1ec-c2bdedec7772',\n",
       " '79a87db3-ec7b-4abc-b3aa-228e2c875308',\n",
       " 'deae22f7-3b17-4ffc-929c-396782f2bf0e',\n",
       " '8206744b-d841-4fed-a727-223df19ae9f7',\n",
       " '990f812c-8126-43f1-80ac-50826cbb6ee1',\n",
       " '7d88b737-60b7-4b13-b8c0-c2158d91cf0b',\n",
       " 'eb24eb9d-5356-4420-8699-9ab07ab98e2c',\n",
       " '44ab4aae-11dc-424e-8553-711380e06536',\n",
       " '3dd7d472-d7fd-47e1-9518-86d4c02d238f',\n",
       " '7793db3e-a6fa-4fa0-8ece-af9d0cef3ce0',\n",
       " '5bdd09c0-f7d2-4649-b133-85afc124d9c2',\n",
       " '227c731a-2773-4af1-978b-955e33ec8be5',\n",
       " '72ce197b-0c52-4259-8f7a-8a2112836ca1',\n",
       " '00864c21-0a70-4373-a044-ace6b65d1340',\n",
       " 'c5927046-869e-4696-a268-df728218e16d',\n",
       " 'e126c751-4d1c-411f-a464-cd746fbe226e',\n",
       " 'a371f3e7-2e5d-4a53-9949-cace956bcf98',\n",
       " 'e0d5bb68-c2da-409d-ad1a-06cec5b43c51',\n",
       " '771c4cdf-ff42-430c-8818-46afe26b3eeb',\n",
       " '2bc99522-d0e0-4b80-b157-1f4809dafbb5',\n",
       " '5410b012-ff10-4b41-b94e-edbcde0f3dc9',\n",
       " 'a07c99ed-3311-4922-972e-65ddfffe32b1',\n",
       " 'd2bcb0a5-4609-4401-850b-01cb09053964',\n",
       " '5e28b1cb-f306-44ba-a20a-1bf56d995307',\n",
       " '0727907c-8aa3-41d7-8b55-d10c12ff0ce5',\n",
       " 'df7bcfc6-5aee-4154-9de8-b5e319ca77b4',\n",
       " '988594b5-d4b2-4436-898a-0ddff6b49f94',\n",
       " '1705a154-81c3-4c63-a62a-3f33f8467d13',\n",
       " '90bdd136-9cb4-40cc-b797-11f0add283a9',\n",
       " 'f0d3fcda-523a-4779-9c57-ce0b19d7cded',\n",
       " '2e39e7fe-76da-450e-b90b-95cb8dcff947',\n",
       " '2bf0e315-5764-4a80-91ee-f2fb946ae0fd',\n",
       " 'd3982d66-2ed5-48bf-8ad8-3529526d27b0',\n",
       " '62f2d4fa-dc37-4845-a336-392c7fc6e29e',\n",
       " '1a8380e3-0ab6-424f-8210-c728c6abb5d5']"
      ]
     },
     "execution_count": 145,
     "metadata": {},
     "output_type": "execute_result"
    }
   ],
   "source": [
    "vector_store.add_texts(texts=chunks)"
   ]
  },
  {
   "cell_type": "code",
   "execution_count": 146,
   "metadata": {},
   "outputs": [],
   "source": [
    "query='what is deepseek model'\n",
    "\n",
    "similarity_search=vector_store.similarity_search(query)"
   ]
  },
  {
   "cell_type": "code",
   "execution_count": 149,
   "metadata": {},
   "outputs": [
    {
     "data": {
      "text/plain": [
       "'for math problems was computed by comparing with the ground truth label the reward for code problems was generated by a reward model trained to predict whether a program would pass the unit tests deepseek v 2 5 was released in september and updated in december it was made by combining deepseek v 2 chat and deepseek coder v 2 instruct 36 v 3 in december 2024 they released a base model deepseek v 3 base and a chat model deepseek v 3 the model architecture is essentially the same as v 2 they were'"
      ]
     },
     "execution_count": 149,
     "metadata": {},
     "output_type": "execute_result"
    }
   ],
   "source": [
    "similarity_search[0].page_content"
   ]
  },
  {
   "cell_type": "code",
   "execution_count": 171,
   "metadata": {},
   "outputs": [],
   "source": [
    "from langchain_community.vectorstores import FAISS\n",
    "db= FAISS.from_texts(chunks,embeddings)"
   ]
  },
  {
   "cell_type": "code",
   "execution_count": 176,
   "metadata": {},
   "outputs": [
    {
     "data": {
      "text/plain": [
       "90"
      ]
     },
     "execution_count": 176,
     "metadata": {},
     "output_type": "execute_result"
    }
   ],
   "source": [
    "db.index.ntotal"
   ]
  },
  {
   "cell_type": "code",
   "execution_count": null,
   "metadata": {},
   "outputs": [],
   "source": [
    "db.save_local('vectordb/Faiss_db')"
   ]
  },
  {
   "cell_type": "markdown",
   "metadata": {},
   "source": [
    "## Retrival"
   ]
  },
  {
   "cell_type": "code",
   "execution_count": 152,
   "metadata": {},
   "outputs": [],
   "source": [
    "from langchain_google_genai import GoogleGenerativeAI\n",
    "from langchain.chains import RetrievalQA\n",
    "\n",
    "llm=GoogleGenerativeAI(\n",
    "   api_key=os.getenv('GEMINI_API_KEY'),\n",
    "   model='gemini-pro',\n",
    "   top_k=3\n",
    ")"
   ]
  },
  {
   "cell_type": "code",
   "execution_count": 153,
   "metadata": {},
   "outputs": [],
   "source": [
    "qa= RetrievalQA.from_chain_type(\n",
    "    llm=llm,\n",
    "    chain_type='stuff',\n",
    "    retriever=vector_store.as_retriever()\n",
    ")"
   ]
  },
  {
   "cell_type": "code",
   "execution_count": 154,
   "metadata": {},
   "outputs": [
    {
     "data": {
      "text/plain": [
       "{'query': 'Tell me about Deepseak models',\n",
       " 'result': 'Deepseak models are a series of large language models developed by Deepseak AI. The models are trained on a massive dataset of English and Chinese text, and they are designed to perform a variety of natural language processing tasks, such as text generation, translation, and question answering. Deepseak models have been used to develop a variety of applications, including chatbots, search engines, and language translation tools.'}"
      ]
     },
     "execution_count": 154,
     "metadata": {},
     "output_type": "execute_result"
    }
   ],
   "source": [
    "qa.invoke('Tell me about Deepseak models')"
   ]
  },
  {
   "cell_type": "code",
   "execution_count": 155,
   "metadata": {},
   "outputs": [
    {
     "data": {
      "text/plain": [
       "{'query': 'Tell me about Deepseak model architechure',\n",
       " 'result': 'v2 models were significantly modified from the deepseek llm series, they changed the standard attention mechanism by a low rank approximation called multi head latent attention mla and used the mixture of experts moe variant previously published in january compared'}"
      ]
     },
     "execution_count": 155,
     "metadata": {},
     "output_type": "execute_result"
    }
   ],
   "source": [
    "qa.invoke('Tell me about Deepseak model architechure')"
   ]
  },
  {
   "cell_type": "code",
   "execution_count": 172,
   "metadata": {},
   "outputs": [],
   "source": [
    "## fiaas db\n",
    "qa= RetrievalQA.from_chain_type(\n",
    "    llm=llm,\n",
    "    chain_type='stuff',\n",
    "    retriever=db.as_retriever()\n",
    ")"
   ]
  },
  {
   "cell_type": "code",
   "execution_count": 173,
   "metadata": {},
   "outputs": [
    {
     "data": {
      "text/plain": [
       "{'query': 'Tell me about Deepseak models',\n",
       " 'result': 'Deepseak models are a series of large language models (LLMs) developed by Chinese software engineers. The models are trained on a massive dataset of English and Chinese text, and they are capable of performing a wide range of natural language processing tasks, such as text generation, translation, question answering, and dialogue. Deepseak models have been used to develop a variety of applications, including chatbots, search engines, and language learning tools.'}"
      ]
     },
     "execution_count": 173,
     "metadata": {},
     "output_type": "execute_result"
    }
   ],
   "source": [
    "qa.invoke('Tell me about Deepseak models')"
   ]
  },
  {
   "cell_type": "code",
   "execution_count": 174,
   "metadata": {},
   "outputs": [
    {
     "data": {
      "text/plain": [
       "{'query': 'Tell me about Deepseak model architechure',\n",
       " 'result': 'Deepseak v2 models were significantly modified from the DeepSeek LLM series. They changed the standard attention mechanism to a low rank approximation called Multi-Head Latent Attention (MLA) and used the Mixture of Experts (MoE) variant published in January. DeepSeek v3 models have essentially the same architecture as v2, but are trained differently.'}"
      ]
     },
     "execution_count": 174,
     "metadata": {},
     "output_type": "execute_result"
    }
   ],
   "source": [
    "qa.invoke('Tell me about Deepseak model architechure')"
   ]
  },
  {
   "cell_type": "code",
   "execution_count": 180,
   "metadata": {},
   "outputs": [],
   "source": [
    "new_db= FAISS.load_local('vectordb/Faiss_db',embeddings,allow_dangerous_deserialization=True)"
   ]
  },
  {
   "cell_type": "code",
   "execution_count": 182,
   "metadata": {},
   "outputs": [
    {
     "data": {
      "text/plain": [
       "[Document(id='5b2895cc-825d-4f32-9c21-25f01f80e19d', metadata={}, page_content='the two v 2 lite models were smaller and trained similarly though deepseek v 2 lite chat only underwent sft not rl they trained the lite version to help further research and development on mla and deepseekmoe 30 architecturally the v 2 models were significantly modified from the deepseek llm series they changed the standard attention mechanism by a low rank approximation called multi head latent attention mla and used the mixture of experts moe variant previously published in january compared'),\n",
       " Document(id='0087d14b-1988-4178-b987-216b5b67ff5f', metadata={}, page_content='models and training details open source allowing its code to be freely available for use modification viewing and designing documents for building purposes 13 the company reportedly vigorously recruits young a i researchers from top chinese universities 8 and hires from outside the computer science field to diversify its models knowledge and abilities 4 deepseek ai chatbot is developed entirely by chinese software engineers whereas ai models established in silicon valley are created by people'),\n",
       " Document(id='02625a07-bfaf-4c06-a7d2-a5c6a1a38c0e', metadata={}, page_content='5 like deepseek coder the code for the model was under mit license with deepseek license for the model itself 27 the architecture was essentially the same as those of the llama series they used the pre norm decoder only transformer with rmsnorm as the normalization swiglu in the feedforward layers rotary positional embedding rope and grouped query attention gqa both had vocabulary size 102400 byte level bpe and context length of 4096 they trained on 2 trillion tokens of english and chinese text'),\n",
       " Document(id='dbe95373-a1ee-433e-9029-828c2d818c45', metadata={}, page_content='is essentially the same as v 2 they were trained as follows 37 pretraining on 14 8 t tokens of a multilingual corpus mostly english and chinese it contained a higher ratio of math and programming than the pretraining dataset of v 2 extend context length twice from 4 k to 32 k and then to 128 k using yarn 31 this produced deepseek v 3 base sft for 2 epochs on 1 5 m samples of reasoning math programming logic and non reasoning creative writing roleplay simple question answering data reasoning')]"
      ]
     },
     "execution_count": 182,
     "metadata": {},
     "output_type": "execute_result"
    }
   ],
   "source": [
    "new_db.similarity_search('Tell me about Deepseak model architechure')"
   ]
  },
  {
   "cell_type": "code",
   "execution_count": null,
   "metadata": {},
   "outputs": [],
   "source": []
  }
 ],
 "metadata": {
  "kernelspec": {
   "display_name": "genaivenv",
   "language": "python",
   "name": "python3"
  },
  "language_info": {
   "codemirror_mode": {
    "name": "ipython",
    "version": 3
   },
   "file_extension": ".py",
   "mimetype": "text/x-python",
   "name": "python",
   "nbconvert_exporter": "python",
   "pygments_lexer": "ipython3",
   "version": "3.12.0"
  }
 },
 "nbformat": 4,
 "nbformat_minor": 2
}
