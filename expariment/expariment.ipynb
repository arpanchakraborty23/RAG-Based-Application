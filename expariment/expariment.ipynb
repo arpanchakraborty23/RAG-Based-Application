{
 "cells": [
  {
   "cell_type": "markdown",
   "metadata": {},
   "source": [
    "## Data Ingestion"
   ]
  },
  {
   "cell_type": "markdown",
   "metadata": {},
   "source": []
  },
  {
   "cell_type": "code",
   "execution_count": 18,
   "metadata": {},
   "outputs": [],
   "source": [
    "from langchain_community.document_loaders import WebBaseLoader"
   ]
  },
  {
   "cell_type": "code",
   "execution_count": 19,
   "metadata": {},
   "outputs": [],
   "source": [
    "from src.constants import traning_pipline\n",
    "url=traning_pipline.DATA_INGESTION_DATA_URL"
   ]
  },
  {
   "cell_type": "code",
   "execution_count": 32,
   "metadata": {},
   "outputs": [],
   "source": [
    "#url='https://en.wikipedia.org/wiki/DeepSeek'\n",
    "loder=WebBaseLoader(url)\n",
    "docs=loder.load()"
   ]
  },
  {
   "cell_type": "code",
   "execution_count": 41,
   "metadata": {},
   "outputs": [],
   "source": [
    "all_text = \"\"\n",
    "if docs:\n",
    "      all_text += f\"=== {url} ===\\n{docs[0].page_content}\\n\\n\""
   ]
  },
  {
   "cell_type": "code",
   "execution_count": 42,
   "metadata": {},
   "outputs": [],
   "source": [
    "filename=r'D:\\assamement-project\\Wikipedia-RAG-Based-Application\\expariment\\data\\data.txt'"
   ]
  },
  {
   "cell_type": "code",
   "execution_count": 43,
   "metadata": {},
   "outputs": [],
   "source": [
    "import os\n",
    "dir_path = os.path.dirname(filename)\n",
    "os.makedirs(dir_path, exist_ok=True)"
   ]
  },
  {
   "cell_type": "code",
   "execution_count": 44,
   "metadata": {},
   "outputs": [],
   "source": [
    "with open(filename, \"w\", encoding=\"utf-8\") as f:\n",
    "   f.write(all_text)"
   ]
  },
  {
   "cell_type": "code",
   "execution_count": 45,
   "metadata": {},
   "outputs": [
    {
     "data": {
      "text/plain": [
       "44030"
      ]
     },
     "execution_count": 45,
     "metadata": {},
     "output_type": "execute_result"
    }
   ],
   "source": [
    "len(all_text)"
   ]
  },
  {
   "cell_type": "code",
   "execution_count": 46,
   "metadata": {},
   "outputs": [
    {
     "data": {
      "text/plain": [
       "'=== https://en.wikipedia.org/wiki/DeepSeek ===\\n\\n\\n\\n\\nDeepSeek - Wikipedia\\n\\n\\n\\n\\n\\n\\n\\n\\n\\n\\n\\n\\n\\n\\n\\n\\n\\n\\n\\n\\n\\n\\n\\n\\n\\n\\nJump to content\\n\\n\\n\\n\\n\\n\\n\\nMain menu\\n\\n\\n\\n\\n\\nMain menu\\nmove to sidebar\\nhide\\n\\n\\n\\n\\t\\tNavigation\\n\\t\\n\\n\\nMain pageContentsCurrent eventsRandom articleAbout WikipediaContact us\\n\\n\\n\\n\\n\\n\\t\\tContribute\\n\\t\\n\\n\\nHelpLearn to editCommunity portalRecent changesUpload file\\n\\n\\n\\n\\n\\n\\n\\n\\n\\n\\n\\n\\n\\n\\n\\n\\n\\n\\n\\nSearch\\n\\n\\n\\n\\n\\n\\n\\n\\n\\n\\n\\nSearch\\n\\n\\n\\n\\n\\n\\n\\n\\n\\n\\n\\n\\n\\n\\n\\n\\n\\n\\n\\n\\n\\n\\nAppearance\\n\\n\\n\\n\\n\\n\\n\\n\\n\\n\\n\\n\\n\\n\\n\\n\\nDonate\\n\\nCreate account\\n\\nLog in\\n\\n\\n\\n\\n\\n\\n\\n\\nPersonal tools\\n\\n\\n\\n\\n\\nDonate Create account Log in\\n\\n\\n\\n\\n\\n\\t\\tPages for logged out editors learn more\\n\\n\\n\\nContributionsTalk\\n\\n\\n\\n\\n\\n\\n\\n\\n\\n\\n\\n\\n\\n\\n\\n\\n\\n\\n\\n\\n\\n\\n\\n\\n\\n\\n\\n\\nContents\\nmove to sidebar\\nhide\\n\\n\\n\\n\\n(Top)\\n\\n\\n\\n\\n\\n1\\nBackground\\n\\n\\n\\n\\n\\n\\n\\n\\n2\\nRelease history\\n\\n\\n\\n\\nToggle Release history subsection\\n\\n\\n\\n\\n\\n2.1\\nDeepSeek LLM\\n\\n\\n\\n\\n\\n\\n\\n\\n2.2\\nV2\\n\\n\\n\\n\\n\\n\\n\\n\\n2.3\\nV3\\n\\n\\n\\n\\n\\n\\n\\n\\n2.4\\nR1\\n\\n\\n\\n\\n\\n\\n\\n\\n\\n\\n3\\nAssessment and reactions\\n\\n\\n\\n\\n\\n\\n\\n\\n4\\nConcerns\\n\\n\\n\\n\\nToggle Concerns subsection\\n\\n\\n\\n\\n\\n4.1\\nCensorship\\n\\n\\n\\n\\n\\n\\n\\n\\n4.2\\nSecurity and privacy\\n\\n\\n\\n\\n\\n\\n\\n\\n\\n\\n5\\nSee also\\n\\n\\n\\n\\n\\n\\n\\n\\n6\\nNotes\\n\\n\\n\\n\\n\\n\\n\\n\\n7\\nReferences\\n\\n\\n\\n\\n\\n\\n\\n\\n8\\nExternal links\\n\\n\\n\\n\\n\\n\\n\\n\\n\\n\\n\\n\\n\\n\\n\\n\\n\\n\\nToggle the table of contents\\n\\n\\n\\n\\n\\n\\n\\nDeepSeek\\n\\n\\n\\n50 languages\\n\\n\\n\\n\\nAfrikaansÿßŸÑÿπÿ±ÿ®Ÿäÿ©Aragon√©s‡¶Ö‡¶∏‡¶Æ‡ßÄ‡¶Ø‡¶º‡¶æ‡¶¨‡¶æ‡¶Ç‡¶≤‡¶æ–ë—ä–ª–≥–∞—Ä—Å–∫–∏Catal√†ƒåe≈°tinaDanskDeutschŒïŒªŒªŒ∑ŒΩŒπŒ∫Œ¨Espa√±olEsperantoEuskaraŸÅÿßÿ±ÿ≥€åFran√ßaisFulfuldeGaeilgeGalegoÌïúÍµ≠Ïñ¥Bahasa IndonesiaItaliano◊¢◊ë◊®◊ô◊™KiswahiliMagyar–ú–∞–∫–µ–¥–æ–Ω—Å–∫–∏‡¥Æ‡¥≤‡¥Ø‡¥æ‡¥≥‡¥ÇNederlands‡§®‡•á‡§™‡§æ‡§≤‡•ÄÊó•Êú¨Ë™ûO\\xa0ªzbekcha / —û–∑–±–µ–∫—á–∞PolskiPortugu√™sQaraqalpaqshaRom√¢nƒÉ–†—É—Å—Å–∫–∏–π–°—Ä–ø—Å–∫–∏ / srpskiSuomiTagalog‡Æ§‡ÆÆ‡Æø‡Æ¥‡Øç·ÅΩ·ÇÉ·Çá·Äû·ÇÉ·Çá·Äê·ÇÜ·Ä∏ ‡πÑ‡∏ó‡∏¢T√ºrk√ße–£–∫—Ä–∞—ó–Ω—Å—å–∫–∞ÿßÿ±ÿØŸàÿ¶€áŸäÿ∫€áÿ±⁄Ü€ï / UyghurcheTi·∫øng Vi·ªátÂê¥ËØ≠Á≤µË™û‰∏≠Êñá\\n\\nEdit links\\n\\n\\n\\n\\n\\n\\n\\n\\n\\n\\n\\nArticleTalk\\n\\n\\n\\n\\n\\nEnglish\\n\\n\\n\\n\\n\\n\\n\\n\\n\\n\\n\\n\\n\\n\\n\\n\\n\\nReadView sourceView history\\n\\n\\n\\n\\n\\n\\n\\nTools\\n\\n\\n\\n\\n\\nTools\\nmove to sidebar\\nhide\\n\\n\\n\\n\\t\\tActions\\n\\t\\n\\n\\nReadView sourceView history\\n\\n\\n\\n\\n\\n\\t\\tGeneral\\n\\t\\n\\n\\nWhat links hereRelated changesUpload fileSpecial pagesPermanent linkPage informationCite this pageGet shortened URLDownload QR code\\n\\n\\n\\n\\n\\n\\t\\tPrint/export\\n\\t\\n\\n\\nDownload as PDFPrintable version\\n\\n\\n\\n\\n\\n\\t\\tIn other projects\\n\\t\\n\\n\\nWikimedia CommonsWikidata item\\n\\n\\n\\n\\n\\n\\n\\n\\n\\n\\n\\n\\n\\n\\n\\n\\n\\n\\n\\n\\n\\nAppearance\\nmove to sidebar\\nhide\\n\\n\\n\\n\\n\\n\\n\\n\\n\\n\\n\\nFrom Wikipedia, the free encyclopedia\\n\\n\\nChinese artificial intelligence company\\n\\n\\nHangzhou DeepSeek Artificial Intelligence Basic Technology Research Co., Ltd.Native nameÊù≠Â∑ûÊ∑±Â∫¶Ê±ÇÁ¥¢‰∫∫Â∑•Êô∫ËÉΩÂü∫Á°ÄÊäÄÊúØÁ†îÁ©∂ÊúâÈôêÂÖ¨Âè∏Company typePrivateIndustryInformation technologyArtificial intelligenceFoundedMay\\xa02023; 1\\xa0year ago\\xa0(2023-05)FounderLiang WenfengHeadquartersHangzhou, Zhejiang, ChinaKey peopleLiang Wenfeng (CEO)OwnerHigh-FlyerNumber of employeesUnder 200Websitedeepseek.com\\nDeepSeek (Chinese: Ê∑±Â∫¶Ê±ÇÁ¥¢; pinyin: Shƒìnd√π Qi√∫su«í) is a Chinese artificial intelligence company that develops open-source large language models (LLMs). Based in Hangzhou, Zhejiang, it is owned and solely funded by Chinese hedge fund High-Flyer, whose co-founder, Liang Wenfeng, established the company in 2023 and serves as its CEO. \\nThe DeepSeek-R1 model provides responses comparable to other contemporary LLMs, such OpenAI\\'s GPT-4o and o1,[1] despite being trained at a significantly lower cost‚Äîstated at US$6 million compared to $100 million for OpenAI\\'s GPT-4 in 2023[2]‚Äîand requiring a tenth of the computing power of a comparable LLM.[2][3][4][5] DeepSeek\\'s A.I. models were developed amid United States sanctions on India and China for Nvidia chips[6], which were intended to restrict the country\\'s ability to develop advanced A.I. systems.[7][8]\\nOn 10 January 2025, DeepSeek released its first free chatbot app, based on the DeepSeek-R1 model, for iOS and Android; by 27 January, DeepSeek-R1 had surpassed ChatGPT as the most-downloaded free app on the iOS App Store in the United States,[9] causing Nvidia\\'s share price to drop by 18%.[10][11] DeepSeek\\'s success against larger and more established rivals has been described as \"upending AI\",[9] constituting \"the first shot at what is emerging as a global AI space race\",[12] and ushering in \"a new era of A.I. brinkmanship\".[13]\\nDeepSeek makes its generative artificial intelligence algorithms, models, and training details open-source, allowing its code to be freely available for use, modification, viewing, and designing documents for building purposes.[14] The company reportedly vigorously recruits young A.I. researchers from top Chinese universities,[9] and hires from outside the computer science field to diversify its models\\' knowledge and abilities.[4]\\nDeepSeek AI chatbot is developed entirely by Chinese software engineers, whereas AI models established in Silicon Valley are created by people of various nationalities, including H-1B visa holders from different countries working in the US. DeepSeek AI models can be seen as a significant step toward developing indigenous high-end technologies by Asian countries, helping to retain talent and reduce brain drain from nations like India and China.[15]\\n\\n\\nBackground\\nIn February 2016, High-Flyer was co-founded by AI enthusiast Liang Wenfeng, who had been trading since the 2007‚Äì2008 financial crisis while attending Zhejiang University.[16] By 2019, he established High-Flyer as a hedge fund focused on developing and using AI trading algorithms. By 2021, High-Flyer exclusively used AI in trading.[17] DeepSeek has made its generative artificial intelligence chatbot open source, meaning its code is freely available for use, modification, and viewing. This includes permission to access and utilize the source code, as well as design documents, for building purposes.[14]\\nPer 36Kr, Liang had built up a store of 10,000 Nvidia A100 GPUs before the United States federal government imposed AI chip restrictions on China.[17] Some estimates, with no evidence provided, put the number as high as 50,000.[16]\\nIn April 2023, High-Flyer started an artificial general intelligence lab dedicated to research developing AI tools separate from High-Flyer\\'s financial business.[18][19] In May 2023, with High-Flyer as one of the investors, the lab became its own company, DeepSeek.[17][20][19] Venture capital firms were reluctant in providing funding as it was unlikely that it would be able to generate an exit in a short period of time.[17]\\nAfter releasing DeepSeek-V2 in May 2024, which offered strong performance for a low price, DeepSeek became known as the catalyst for China\\'s AI model price war. It was quickly dubbed the \"Pinduoduo of AI\", and other major tech giants such as ByteDance, Tencent, Baidu, and Alibaba began to cut the price of their AI models to compete with the company. Despite the low price charged by DeepSeek, it was profitable compared to its rivals that were losing money.[21]\\nDeepSeek is focused solely on research and has no detailed plans for commercialization;[21] this also allows its technology to avoid the most stringent provisions of China\\'s A.I. regulations, such as requiring consumer-facing technology to comply with the government‚Äôs controls on information.[4]\\nDeepSeek\\'s hiring preferences target technical abilities rather than work experience, resulting in most new hires being either recent university graduates or developers whose AI careers are less established.[19][4] Likewise, the company recruits individuals without any computer science background to help its technology understand other topics and knowledge areas, including being able to generate poetry and perform well on the notoriously difficult Chinese college admissions exams (Gaokao).[4]\\n\\nRelease history\\nDeepSeek LLM\\nOn 2 November 2023, DeepSeek released its first series of model, DeepSeek-Coder, which is available for free to both researchers and commercial users. The code for the model was made open-source under the MIT license, with an additional license agreement (\"DeepSeek license\") regarding \"open and responsible downstream usage\" for the model itself.[22]\\nThey are of the same architecture as DeepSeek LLM detailed below. The series includes 8 models, 4 pretrained (Base) and 4 instruction-finetuned (Instruct). They all have 16K context lengths. The training was as follows:[23][24][25]\\n\\nPretraining: 1.8T tokens (87% source code, 10% code-related English (GitHub markdown and Stack Exchange), and 3% code-unrelated Chinese).\\nLong-context pretraining: 200B tokens. This extends the context length from 4K to 16K. This produced the Base models.\\nSupervised finetuning (SFT): 2B tokens of instruction data. This produced the Instruct models.\\nThey were trained on clusters of A100 and H800 Nvidia GPUs, connected by InfiniBand, NVLink, NVSwitch.[23]\\n\\n\\nDeepSeek Coder properties[23]:\\u200aTable 2\\u200a[26]\\n\\n\\nParams.\\n\\n\\n\\n\\n\\nn\\n\\nlayers\\n\\n\\n\\n\\n{\\\\displaystyle n_{\\\\text{layers}}}\\n\\n\\n\\n\\n\\n\\n\\nd\\n\\nmodel\\n\\n\\n\\n\\n{\\\\displaystyle d_{\\\\text{model}}}\\n\\n\\n\\n\\n\\n\\n\\n\\nd\\n\\nintermediate\\n\\n\\n\\n\\n{\\\\displaystyle d_{\\\\text{intermediate}}}\\n\\n\\n\\n\\n\\n\\n\\nn\\n\\nheads\\n\\n\\n\\n\\n{\\\\displaystyle n_{\\\\text{heads}}}\\n\\n\\n\\n\\n\\n\\n\\nn\\n\\nkv-heads\\n\\n\\n\\n\\n{\\\\displaystyle n_{\\\\text{kv-heads}}}\\n\\n\\n\\n\\n1.3B\\n24\\n2048\\n\\n5504\\n16\\n16\\n\\n\\n5.7B\\n\\n32\\n\\n4096\\n\\n11008\\n\\n32\\n\\n1[note 1]\\n\\n\\n6.7B\\n32\\n4096\\n\\n11008\\n32\\n32\\n\\n\\n33B\\n62\\n7168\\n\\n19200\\n56\\n7[note 2]\\n\\nOn 29 November 2023, DeepSeek released the DeepSeek-LLM series of models, with 7B and 67B parameters in both Base and Chat forms (no Instruct was released). It was developed to compete with other LLMs available at the time. The paper claimed benchmark results higher than most open source LLMs at the time, especially Llama 2.[27]:\\u200asection 5\\u200a Like DeepSeek Coder, the code for the model was under MIT license, with DeepSeek license for the model itself.[28]\\nThe architecture was essentially the same as those of the Llama series. They used the pre-norm decoder-only Transformer with RMSNorm as the normalization, SwiGLU in the feedforward layers, rotary positional embedding (RoPE), and grouped-query attention (GQA). Both had vocabulary size 102400 (byte-level BPE) and context length of 4096. They trained on 2 trillion tokens of English and Chinese text obtained by deduplicating the Common Crawl.[27]\\n\\n\\nDeepSeek LLM properties[27]:\\u200aTable 2\\u200a\\n\\n\\nParams.\\n\\n\\n\\n\\n\\nn\\n\\nlayers\\n\\n\\n\\n\\n{\\\\displaystyle n_{\\\\text{layers}}}\\n\\n\\n\\n\\n\\n\\n\\nd\\n\\nmodel\\n\\n\\n\\n\\n{\\\\displaystyle d_{\\\\text{model}}}\\n\\n\\n\\n\\n\\n\\n\\n\\nd\\n\\nintermediate\\n\\n\\n\\n\\n{\\\\displaystyle d_{\\\\text{intermediate}}}\\n\\n\\n\\n\\n\\n\\n\\nn\\n\\nheads\\n\\n\\n\\n\\n{\\\\displaystyle n_{\\\\text{heads}}}\\n\\n\\n\\n\\n\\n\\n\\nn\\n\\nkv-heads\\n\\n\\n\\n\\n{\\\\displaystyle n_{\\\\text{kv-heads}}}\\n\\n\\n\\n\\n7B\\n30\\n4096\\n\\n11008\\n32\\n32\\n\\n\\n67B\\n95\\n8192\\n\\n22016\\n64\\n8[note 3]\\n\\nThe Chat versions of the two Base models was also released concurrently, obtained by training Base by supervised finetuning (SFT) followed by direct policy optimization (DPO).[27]\\nIn April 2024, they released 3 DeepSeek-Math models specialized for doing math: Base, Instruct, RL. It was trained as follows:[29]\\n\\nInitialize with a previously pretrained DeepSeek-Coder-Base-v1.5 7B.\\nFurther pretrain with 500B tokens (6% DeepSeekMath Corpus, 4% AlgebraicStack, 10% arXiv, 20% GitHub code, 10% Common Crawl). This produced the Base model.\\nTrain an instruction-following model by SFT  Base with 776K math problems and their tool-use-integrated step-by-step solutions. This produced the Instruct model.\\nReinforcement learning (RL): The reward model was a process reward model (PRM) trained from  Base according to the Math-Shepherd method.[30] This reward model was then used to train Instruct using group relative policy optimization (GRPO) on a dataset of 144K math questions \"related to GSM8K and MATH\". The reward model was continuously updated during training to avoid reward hacking. This resulted in the RL model.\\nV2\\nIn May 2024, they released the DeepSeek-V2 series.\\nThe series includes 4 models, 2 base models (DeepSeek-V2, DeepSeek-V2-Lite) and 2 chatbots (-Chat).\\nThe two larger models were trained as follows:[31]\\n\\nPretrain on a dataset of 8.1T tokens, where Chinese tokens are 12% more than English ones.\\nExtend context length from 4K to 128K using YaRN.[32] This resulted in DeepSeek-V2.\\nSFT with 1.2M instances for helpfulness and 0.3M for safety. This resulted in DeepSeek-V2-Chat (SFT) which was not released.\\nRL using GRPO in two stages. The first stage was trained to solve math and coding problems. This stage used 1 reward model, trained on compiler feedback (for coding) and ground-truth labels (for math). The second stage was trained to be helpful, safe, and follow rules. This stage used 3 reward models. The helpfulness and safety reward models were trained on human preference data. The rule-based reward model was manually programmed. All trained reward models were initialized from DeepSeek-V2-Chat (SFT). This resulted in the released version of DeepSeek-V2-Chat.\\nThey opted for 2-staged RL, because they found that RL on reasoning data had \"unique characteristics\" different from RL on general data. For example, RL on reasoning could improve over more training steps.[31]\\nThe two V2-Lite models were smaller, and trained similarly, though DeepSeek-V2-Lite-Chat only underwent SFT, not RL. They trained the Lite version to help \"further research and development on MLA and DeepSeekMoE\".[31]\\nArchitecturally, the V2 models were significantly modified from the DeepSeek LLM series. They changed the standard attention mechanism by a low-rank approximation called multi-head latent attention (MLA), and used the mixture of experts (MoE) variant previously published in January. Compared to the standard sparsely-gated MoE, their variant had \"shared experts\" that are always queried, and \"routed experts\" that might not be.[33]\\n\\n\\nDeepSeek V2 properties[31]:\\u200aSection 3.1.2, Appendix B\\u200a[34][35]\\n\\n\\nName\\n\\nParams.\\n\\nActive params\\n\\n\\n\\n\\n\\nn\\n\\nlayers\\n\\n\\n\\n\\n{\\\\displaystyle n_{\\\\text{layers}}}\\n\\n\\nContext length\\n\\n\\n\\n\\n\\n\\nn\\n\\nshared experts\\n\\n\\n\\n\\n{\\\\displaystyle n_{\\\\text{shared experts}}}\\n\\n\\n\\n\\n\\n\\n\\nn\\n\\nrouted experts\\n\\n\\n\\n\\n{\\\\displaystyle n_{\\\\text{routed experts}}}\\n\\n\\n\\n\\nV2-Lite\\n\\n15.7B\\n\\n2.4B\\n27\\n32K\\n\\n2\\n64\\n\\n\\nV2\\n\\n236B\\n\\n21B\\n60\\n128K\\n\\n2\\n160\\n\\nThe Financial Times reported that it was cheaper than its peers with a price of 2 RMB for every million output tokens. The University of Waterloo Tiger Lab\\'s leaderboard ranked DeepSeek-V2 seventh on its LLM ranking.[20]\\nIn June, they released 4 models in the DeepSeek-Coder-V2 series: V2-Base, V2-Lite-Base, V2-Instruct, V2-Lite-Instruct. They were trained as follows:[36][note 4]\\n\\nThe Base models were initialized from corresponding intermediate checkpoints after pretraining on 4.2T tokens (not the version at the end of pretraining), then pretrained further for 6T tokens, then context-extended to 128K context length. This produced the Base models.\\nDeepSeek-Coder and DeepSeek-Math were used to generate 20K code-related and 30K math-related instruction data, then combined with an instruction dataset of 300M tokens. This was used for SFT.\\nRL with GRPO. The reward for math problems was computed by comparing with the ground-truth label. The reward for code problems was generated by a reward model trained to predict whether a program would pass the unit tests.\\nDeepSeek-V2.5 was released in September and updated in December. It was made by combining DeepSeek-V2-Chat and DeepSeek-Coder-V2-Instruct.[37]\\n\\nV3\\nIn December 2024, they released a base model DeepSeek-V3-Base and a chat model DeepSeek-V3. The model architecture is essentially the same as V2. They were trained as follows:[38]\\n\\nPretraining on 14.8T tokens of a multilingual corpus, mostly English and Chinese. It contained a higher ratio of math and programming than the pretraining dataset of V2.\\nExtend context length twice, from 4K to 32K and then to 128K, using YaRN.[32] This produced DeepSeek-V3-Base.\\nSFT for 2 epochs on 1.5M samples of reasoning (math, programming, logic) and non-reasoning (creative writing, roleplay, simple question answering) data. Reasoning data was generated by \"expert models\". Non-reasoning data was generated by DeepSeek-V2.5 and checked by humans.\\nThe \"expert models\" were trained by starting with an unspecified base model, then SFT on both <problem, original response> data, and synthetic <system prompt, problem, R1 response> data generated by an internal DeepSeek-R1 model. The system prompt asked the R1 to reflect and verify during thinking. Then the expert models were RL using an unspecified reward function.\\nEach expert model was trained to generate just synthetic reasoning data in one specific domain (math, programming, logic).\\nExpert models were used, instead of R1 itself, since the output from R1 itself suffered \"overthinking, poor formatting, and excessive length\".\\nModel-based reward models were made by starting with a SFT checkpoint of V3, then finetuning on human preference data containing both final reward and chain-of-thought leading to the final reward. The reward model produced reward signals for both questions with objective but free-form answers, and questions without objective answers (such as creative writing).\\nA SFT checkpoint of V3 was trained by GRPO using both reward models and rule-based reward. The rule-based reward was computed for math problems with a final answer (put in a box), and for programming problems by unit tests. This produced DeepSeek-V3.\\n\\nDeepSeek V3 properties[38]:\\u200aSection 4.2\\u200a[39]\\n\\n\\nName\\n\\nParams.\\n\\nActive params\\n\\n\\n\\n\\n\\nn\\n\\nlayers\\n\\n\\n\\n\\n{\\\\displaystyle n_{\\\\text{layers}}}\\n\\n\\nContext length\\n\\n\\n\\n\\n\\n\\nn\\n\\nshared experts\\n\\n\\n\\n\\n{\\\\displaystyle n_{\\\\text{shared experts}}}\\n\\n\\n\\n\\n\\n\\n\\nn\\n\\nrouted experts\\n\\n\\n\\n\\n{\\\\displaystyle n_{\\\\text{routed experts}}}\\n\\n\\n\\n\\nV3\\n\\n671B\\n\\n37B\\n61\\n128K\\n\\n1\\n256\\n\\nThey performed extensive low-level engineering to achieve efficiency. They used mixed-precision arithmetic. Much of the forward pass was performed in 8-bit floating point numbers (5E2M: 5-bit exponent and 2-bit mantissa) rather than the standard 32-bit, requiring special GEMM routines to accumulate accurately. They used a custom 12-bit float (E5M6) for only the inputs to the linear layers after the attention modules. Optimizer states were in 16-bit (BF16). They minimized the communication latency by overlapping extensively computation and communication, such as dedicating 20 streaming multiprocessors out of 132 per H800 for just inter-GPU communication. They lowered communication by rearranging (every 10 minutes) the exact machine each expert was on in order to avoid certain machines being queried more often than the others, adding auxiliary load-balancing losses to the training loss function, and other load-balancing techniques.[38]\\nAfter training, it was deployed on H800 clusters. The H800 within a cluster are connected by NVLink. The clusters are connected by InfiniBand.[38]\\n\\n\\nTotal cost of training the DeepSeek-V3 model[38]:\\u200aTable 1\\u200a\\n\\n\\nStage\\n\\nCost (in one thousand GPU hours)\\n\\nCost (in one million USD$)\\n\\n\\nPre-training\\n\\n2,664\\n\\n5.328\\n\\n\\nContext extension\\n\\n119\\n\\n0.24\\n\\n\\nFine-tuning\\n\\n5\\n\\n0.01\\n\\n\\nTotal\\n\\n2,788\\n\\n5.576\\n\\nBenchmark tests show that DeepSeek-V3 outperformed Llama 3.1 and Qwen 2.5 whilst matching GPT-4o and Claude 3.5 Sonnet.[19][40][41][42]\\n\\nR1\\nOn 20 November 2024, DeepSeek-R1-Lite-Preview became accessible via DeepSeek\\'s API.[43] It was trained for logical inference, mathematical reasoning, and real-time problem-solving. DeepSeek claimed that it exceeded performance of OpenAI o1 on benchmarks such as American Invitational Mathematics Examination (AIME) and MATH.[44] However, The Wall Street Journal stated when it used 15 problems from the 2024 edition of AIME, the o1 model reached a solution faster than DeepSeek-R1-Lite-Preview.[45]\\nOn 20 January 2025, DeepSeek-R1 and DeepSeek-R1-Zero were released.[46] Both were initialized from DeepSeek-V3-Base, and share its architecture. The company also released some \"DeepSeek-R1-Distill\" models, which are not initialized on V3-Base, but instead are initialized from other pretrained open-weight models, including LLaMA and Qwen, then fine-tuned on synthetic data generated by R1.[47]\\n\\n\\nTemplate for DeepSeek-R1-Zero\\n\\nA conversation between User and Assistant. The user asks a question, and the Assistant solves it. The assistant first thinks about the reasoning process in the mind and then provides the user with the answer. The reasoning process and answer are enclosed within <think> </think> and <answer> </answer> tags, respectively, i.e., <think> reasoning process here </think> <answer> answer here </answer>. User: <prompt>. Assistant:\\n\\n\\n‚Äì <prompt> is replaced with the specific reasoning question during training.\\n\\nDeepSeek-R1-Zero was trained exclusively using GRPO RL without SFT. Unlike previous versions, they used no model-based reward. All reward functions were rule-based, \"mainly\" of two types (other types were not specified): accuracy rewards and format rewards. Accuracy reward was checking whether a boxed answer is correct (for math) or whether a code passes tests (for programming). Format reward was checking whether the model puts its thinking trace within <think>...</think>.[47]\\nAs R1-Zero has issues with readability and mixing languages, R1 was trained to address these issues and further improve reasoning:[47]\\n\\nSFT DeepSeek-V3-Base on \"thousands\" of \"cold-start\" data all with the standard format of |special_token|<reasoning_process>|special_token|summary>.\\nApply the same RL process as R1-Zero, but also with a \"language consistency reward\" to encourage it to respond monolingually. This produced an internal model not released.\\nSynthesize 600K reasoning data from the internal model, with rejection sampling (i.e. if the generated reasoning had a wrong final answer, then it is removed). Synthesize 200K non-reasoning data (writing, factual QA, self-cognition, translation) using DeepSeek-V3.\\nSFT DeepSeek-V3-Base on the 800K synthetic data for 2 epochs.\\nGRPO RL with both rule-based reward (for reasoning tasks) and model-based reward (for non-reasoning tasks, helpfulness, and harmlessness). This produced DeepSeek-R1.\\nDistilled models were trained by SFT on 800K data synthesized from DeepSeek-R1, in a similar way as step 3 above. They were not trained with RL.[47]\\n\\nAssessment and reactions\\nDeepSeek released its A.I. Assistant, which utilizes the V3 model as a chatbot app for Apple IOS and Android. By 27 January 2025 the app had surpassed ChatGPT as the highest-rated free app on the iOS App Store in the United States; its chatbot reportedly answers questions, solves logic problems and writes computer programs on par with other chatbots on the market, according to benchmark tests used by American A.I. companies.[4]\\nDeepSeek-V3 uses significantly fewer resources compared to its peers; for example, whereas the world\\'s leading A.I. companies train their chatbots with supercomputers using as many as 16,000 graphics processing units (GPUs), if not more, DeepSeek claims to have needed only about 2,000 GPUs, namely the H800 series chip from Nvidia.[citation needed] It was trained in around 55 days at a cost of US$5.58\\xa0million,[38] which is roughly 10 times less than what U.S. tech giant Meta spent building its latest A.I. technology.[4]\\nDeepSeek\\'s competitive performance at relatively minimal cost has been recognized as potentially challenging the global dominance of American A.I. models.[48] Various publications and news media, such as The Hill and The Guardian, described the release of its chatbot as a \"Sputnik moment\" for American A.I.[49][50] The performance of its R1 model was reportedly \"on par with\" one of OpenAI\\'s latest models when used for tasks such as mathematics, coding, and natural language reasoning;[51] echoing other commentators, American Silicon Valley venture capitalist Marc Andreessen likewise described R1 as \"AI\\'s Sputnik moment\".[51]\\n\\nDeepSeek\\'s founder, Liang Wenfeng has been compared to Open AI CEO Sam Altman. With CNN calling him the Sam Altman of China and an evangelist for AI.[52]The login error DeepSeek gave on 28 Jan 2025 following a cyberattackDeepSeek\\'s optimization of limited resources has highlighted potential limits of U.S. sanctions on China\\'s A.I. development, which include export restrictions on advanced A.I. chips to China.[19][53] The success of the company\\'s A.I. models consequently \"sparked market turmoil\" [54] and caused shares in major global technology companies to plunge on 27 January: Nvidia\\'s stock fell by as much as 17‚Äì18%,[55] as did the stock of rival Broadcom. Other tech firms also sank, including Microsoft (down 2.5%), Google\\'s owner Alphabet (down over 4%), and Dutch chip equipment maker ASML (down over 7%).[51] A global selloff of technology stocks on Nasdaq, prompted by the release of the R1 model, had led to record losses of about $593 billion in the market capitalizations of AI and computer hardware companies;[56] by 28 January, a total of $1 trillion of value was wiped off American stocks.[50]\\nLeading figures in the American A.I. sector had mixed reactions to DeepSeek\\'s success and performance.[57] Microsoft CEO Satya Nadella and OpenAI CEO Sam Altman‚Äîwhose companies are involved in the U.S. government-backed \"Stargate Project\" to develop American A.I. infrastructure‚Äîboth called DeepSeek \"super impressive\".[58][59] American President Donald Trump, who announced The Stargate Project, called DeepSeek a wake-up call[60] and a positive development.[61][50][62][63] Other leaders in the field, including Scale AI CEO Alexandr Wang, Anthropic cofounder and CEO Dario Amodei, and Elon Musk expressed skepticism of the app\\'s performance or of the sustainability of its success.[57][64][65] Various companies, including Amazon Web Services, Toyota and Stripe, are seeking to use the model in their program.[66]\\nOn 27 January, DeepSeek limited its new user registration to Chinese mainland phone numbers, email, and Google login after a reported cyberattack that caused a slowdown to its servers and services.[67][68]\\n\\nConcerns\\nCensorship\\nSee also: Chinese censorship abroad and Censorship in China\\nDeepSeek responses when asked about Xi Jinping and Narendra Modi\\nSome sources have observed that the official API version of R1 uses censorship mechanisms for topics that are considered politically sensitive for the government of the People\\'s Republic of China. For example, the model refuses to answer questions about the 1989 Tiananmen Square protests and massacre, persecution of Uyghurs, or human rights in China.[69][70] The AI may initially generate an answer, but then deletes it shortly afterwards and replaces it with a message such as: \"Sorry, that\\'s beyond my current scope. Let\\'s talk about something else.\"[70] The integrated censorship mechanisms and restrictions can only be removed to a limited extent in the open-source version of the R1 model. If the \"core socialist values\" defined by the Chinese Internet regulatory authorities are touched upon or the political status of Taiwan is raised, discussions are terminated.[71] When tested by NBC News, DeepSeek\\'s R1 described Taiwan as \"an inalienable part of China\\'s territory,\" and stated: \"We firmly oppose any form of \\'Taiwan independence\\' separatist activities and are committed to achieving the complete reunification of the motherland through peaceful means.\"[72] Western researchers were  able in January 2025 to trick DeepSeek into giving accurate answers to some of these topics by tailoring the question asked.[73]\\n\\nSecurity and privacy\\nSee also: Chinese information operations and information warfare\\nThere are also fears that the AI system could be used for foreign influence operations, spreading disinformation, surveillance and the development of cyberweapons for the government of the People\\'s Republic of China.[74][75][76] DeepSeek\\'s privacy terms and conditions say \"We store the information we collect in secure servers located in the People\\'s Republic of China... We may collect your text or audio input, prompt, uploaded files, feedback, chat history, or other content that you provide to our model and Services\". Although the data storage and collection policy is consistent with ChatGPT\\'s privacy policy,[77] a media article reports this as security concerns.[78] In response, the Italian data protection authority is seeking additional information on DeepSeek\\'s collection and use of personal data and the United States National Security Council announced that it had started a national security review.[79][80]\\n\\nSee also\\nArtificial intelligence industry in China\\nNotes\\n\\n\\n^ The number of heads does not equal the number of KV heads, due to GQA.\\n\\n^ The number of heads does not equal the number of KV heads, due to GQA.\\n\\n^ The number of heads does not equal the number of KV heads, due to GQA.\\n\\n^ Inexplicably, the model named DeepSeek-Coder-V2 Chat in the paper was released as DeepSeek-Coder-V2-Instruct in HuggingFace.\\n\\n\\nReferences\\n\\n\\n^ Gibney, Elizabeth (23 January 2025). \"China\\'s cheap, open AI model DeepSeek thrills scientists\". Nature. doi:10.1038/d41586-025-00229-6. ISSN\\xa01476-4687. PMID\\xa039849139.\\n\\n^ a b Vincent, James (28 January 2025). \"The DeepSeek panic reveals an AI world ready to blow\". The Guardian.\\n\\n^ Hoskins, Peter; Rahman-Jones, Imran (27 January 2025). \"Nvidia shares sink as Chinese AI app spooks markets\". BBC. Retrieved 28 January 2025.\\n\\n^ a b c d e f g Metz, Cade; Tobin, Meaghan (23 January 2025). \"How Chinese A.I. Start-Up DeepSeek Is Competing With Silicon Valley Giants\". The New York Times. ISSN\\xa00362-4331. Retrieved 27 January 2025.\\n\\n^ Cosgrove, Emma (27 January 2025). \"DeepSeek\\'s cheaper models and weaker chips call into question trillions in AI infrastructure spending\". Business Insider.\\n\\n^ Mallick, Subhrojit (16 January 2024). \"Biden admin\\'s cap on GPU exports may hit India\\'s AI ambitions\". The Economic Times. Retrieved 29 January 2025.\\n\\n^ Saran, Cliff (10 December 2024). \"Nvidia investigation signals widening of US and China chip war | Computer Weekly\". Computer Weekly. Retrieved 27 January 2025.\\n\\n^ Sherman, Natalie (9 December 2024). \"Nvidia targeted by China in new chip war probe\". BBC. Retrieved 27 January 2025.\\n\\n^ a b c Metz, Cade (27 January 2025). \"What is DeepSeek? And How Is It Upending A.I.?\". The New York Times. ISSN\\xa00362-4331. Retrieved 27 January 2025.\\n\\n^ Field, Hayden (27 January 2025). \"China\\'s DeepSeek AI dethrones ChatGPT on App Store: Here\\'s what you should know\". CNBC.\\n\\n^ \"What is DeepSeek, and why is it causing Nvidia and other stocks to slump?\". www.cbsnews.com. 27 January 2025.\\n\\n^ Zahn, Max. \"Nvidia, Microsoft shares tumble as China-based AI app DeepSeek hammers tech giants\". ABC News. Retrieved 27 January 2025.\\n\\n^ Roose, Kevin (28 January 2025). \"Why DeepSeek Could Change What Silicon Valley Believe About A.I.\" The New York Times. ISSN\\xa00362-4331. Retrieved 28 January 2025.\\n\\n^ a b Romero, Luis E. \"ChatGPT, DeepSeek, Or Llama? Meta\\'s LeCun Says Open-Source Is The Key\". Forbes.\\n\\n^ Panda, Aishwarya (28 January 2025). \"Deepseek Wounds Redirected to Low-Cost H1-Bs\". M9 news. Retrieved 28 January 2025.\\n\\n^ a b Chen, Caiwei (24 January 2025). \"How a top Chinese AI model overcame US sanctions\". MIT Technology Review. Archived from the original on 25 January 2025.\\n\\n^ a b c d Ottinger, Lily (9 December 2024). \"Deepseek: From Hedge Fund to Frontier Model Maker\". ChinaTalk. Archived from the original on 28 December 2024. Retrieved 28 December 2024.\\n\\n^ Yu, Xu (17 April 2023). \"[Exclusive] Chinese Quant Hedge Fund High-Flyer Won\\'t Use AGI to Trade Stocks, MD Says\". Yicai Global. Archived from the original on 31 December 2023. Retrieved 28 December 2024.\\n\\n^ a b c d e Jiang, Ben; Perezi, Bien (1 January 2025). \"Meet DeepSeek: the Chinese start-up that is changing how AI models are trained\". South China Morning Post. Archived from the original on 22 January 2025. Retrieved 1 January 2025.\\n\\n^ a b McMorrow, Ryan; Olcott, Eleanor (9 June 2024). \"The Chinese quant fund-turned-AI pioneer\". Financial Times. Archived from the original on 17 July 2024. Retrieved 28 December 2024.\\n\\n^ a b Schneider, Jordan (27 November 2024). \"Deepseek: The Quiet Giant Leading China\\'s AI Race\". ChinaTalk. Retrieved 28 December 2024.\\n\\n^ \"DeepSeek-Coder/LICENSE-MODEL at main ¬∑ deepseek-ai/DeepSeek-Coder\". GitHub. Archived from the original on 22 January 2025. Retrieved 24 January 2025.\\n\\n^ a b c Guo, Daya; Zhu, Qihao; Yang, Dejian; Xie, Zhenda; Dong, Kai; Zhang, Wentao; Chen, Guanting; Bi, Xiao; Wu, Y. (26 January 2024), DeepSeek-Coder: When the Large Language Model Meets Programming ‚Äì The Rise of Code Intelligence, arXiv:2401.14196\\n\\n^ \"DeepSeek Coder\". deepseekcoder.github.io. Retrieved 27 January 2025.\\n\\n^ deepseek-ai/DeepSeek-Coder, DeepSeek, 27 January 2025, retrieved 27 January 2025\\n\\n^ \"deepseek-ai/deepseek-coder-5.7bmqa-base ¬∑ Hugging Face\". huggingface.co. Retrieved 27 January 2025.\\n\\n^ a b c d DeepSeek-AI; Bi, Xiao; Chen, Deli; Chen, Guanting; Chen, Shanhuang; Dai, Damai; Deng, Chengqi; Ding, Honghui; Dong, Kai (5 January 2024), DeepSeek LLM: Scaling Open-Source Language Models with Longtermism, arXiv:2401.02954\\n\\n^ deepseek-ai/DeepSeek-LLM, DeepSeek, 27 January 2025, retrieved 27 January 2025\\n\\n^ Shao, Zhihong; Wang, Peiyi; Zhu, Qihao; Xu, Runxin; Song, Junxiao; Bi, Xiao; Zhang, Haowei; Zhang, Mingchuan; Li, Y. K. (27 April 2024), DeepSeekMath: Pushing the Limits of Mathematical Reasoning in Open Language Models, arXiv:2402.03300\\n\\n^ Wang, Peiyi; Li, Lei; Shao, Zhihong; Xu, R. X.; Dai, Damai; Li, Yifei; Chen, Deli; Wu, Y.; Sui, Zhifang (19 February 2024), Math-Shepherd: Verify and Reinforce LLMs Step-by-step without Human Annotations, arXiv:2312.08935\\n\\n^ a b c d DeepSeek-AI; Liu, Aixin; Feng, Bei; Wang, Bin; Wang, Bingxuan; Liu, Bo; Zhao, Chenggang; Dengr, Chengqi; Ruan, Chong (19 June 2024), DeepSeek-V2: A Strong, Economical, and Efficient Mixture-of-Experts Language Model, arXiv:2405.04434\\n\\n^ a b Peng, Bowen; Quesnelle, Jeffrey; Fan, Honglu; Shippole, Enrico (1 November 2023), YaRN: Efficient Context Window Extension of Large Language Models, arXiv:2309.00071\\n\\n^ Dai, Damai; Deng, Chengqi; Zhao, Chenggang; Xu, R. X.; Gao, Huazuo; Chen, Deli; Li, Jiashi; Zeng, Wangding; Yu, Xingkai (11 January 2024), DeepSeekMoE: Towards Ultimate Expert Specialization in Mixture-of-Experts Language Models, arXiv:2401.06066\\n\\n^ \"config.json ¬∑ deepseek-ai/DeepSeek-V2-Lite at main\". huggingface.co. 15 May 2024. Retrieved 28 January 2025.\\n\\n^ \"config.json ¬∑ deepseek-ai/DeepSeek-V2 at main\". huggingface.co. 6 May 2024. Retrieved 28 January 2025.\\n\\n^ DeepSeek-AI; Zhu, Qihao; Guo, Daya; Shao, Zhihong; Yang, Dejian; Wang, Peiyi; Xu, Runxin; Wu, Y.; Li, Yukun (17 June 2024), DeepSeek-Coder-V2: Breaking the Barrier of Closed-Source Models in Code Intelligence, arXiv:2406.11931\\n\\n^ \"deepseek-ai/DeepSeek-V2.5 ¬∑ Hugging Face\". huggingface.co. 3 January 2025. Retrieved 28 January 2025.\\n\\n^ a b c d e f DeepSeek-AI; Liu, Aixin; Feng, Bei; Xue, Bing; Wang, Bingxuan; Wu, Bochao; Lu, Chengda; Zhao, Chenggang; Deng, Chengqi (27 December 2024), DeepSeek-V3 Technical Report, arXiv:2412.19437\\n\\n^ \"config.json ¬∑ deepseek-ai/DeepSeek-V3 at main\". huggingface.co. 26 December 2024. Retrieved 28 January 2025.\\n\\n^ Jiang, Ben (27 December 2024). \"Chinese start-up DeepSeek\\'s new AI model outperforms Meta, OpenAI products\". South China Morning Post. Archived from the original on 27 December 2024. Retrieved 28 December 2024.\\n\\n^ Sharma, Shubham (26 December 2024). \"DeepSeek-V3, ultra-large open-source AI, outperforms Llama and Qwen on launch\". VentureBeat. Archived from the original on 27 December 2024. Retrieved 28 December 2024.\\n\\n^ Wiggers, Kyle (26 December 2024). \"DeepSeek\\'s new AI model appears to be one of the best \\'open\\' challengers yet\". TechCrunch. Archived from the original on 2 January 2025. Retrieved 31 December 2024.\\n\\n^ \"News | DeepSeek-R1-Lite Release 2024/11/20: \\uf8ffüöÄ DeepSeek-R1-Lite-Preview is now live: unleashing supercharged reasoning power!\". DeepSeek API Docs. Retrieved 28 January 2025.\\n\\n^ Franzen, Carl (20 November 2024). \"DeepSeek\\'s first reasoning model R1-Lite-Preview turns heads, beating OpenAI o1 performance\". VentureBeat. Archived from the original on 22 November 2024. Retrieved 28 December 2024.\\n\\n^ Huang, Raffaele (24 December 2024). \"Don\\'t Look Now, but China\\'s AI Is Catching Up Fast\". The Wall Street Journal. Archived from the original on 27 December 2024. Retrieved 28 December 2024.\\n\\n^ \"Release DeepSeek-R1 ¬∑ deepseek-ai/DeepSeek-R1@23807ce\". GitHub. Archived from the original on 21 January 2025. Retrieved 21 January 2025.\\n\\n^ a b c d DeepSeek-AI; Guo, Daya; Yang, Dejian; Zhang, Haowei; Song, Junxiao; Zhang, Ruoyu; Xu, Runxin; Zhu, Qihao; Ma, Shirong (22 January 2025), DeepSeek-R1: Incentivizing Reasoning Capability in LLMs via Reinforcement Learning, arXiv:2501.12948\\n\\n^ \"Chinese AI startup DeepSeek overtakes ChatGPT on Apple App Store\". Reuters. 27 January 2025. Retrieved 27 January 2025.\\n\\n^ Wade, David (6 December 2024). \"American AI has reached its Sputnik moment\". The Hill. Archived from the original on 8 December 2024. Retrieved 25 January 2025.\\n\\n^ a b c Milmo, Dan; Hawkins, Amy; Booth, Robert; Kollewe, Julia (28 January 2025). \"\\'Sputnik moment\\': $1tn wiped off US stocks after Chinese firm unveils AI chatbot\" – via The Guardian.\\n\\n^ a b c \"DeepSeek Chinese AI chatbot sparks market turmoil for rivals\". www.bbc.com. 27 January 2025. Retrieved 27 January 2025.\\n\\n^ Goldman, David (27 January 2025). \"What is DeepSeek, the Chinese AI startup that shook the tech world? | CNN Business\". CNN. Retrieved 29 January 2025.\\n\\n^ Shilov, Anton (27 December 2024). \"Chinese AI company\\'s AI model breakthrough highlights limits of US sanctions\". Tom\\'s Hardware. Archived from the original on 28 December 2024. Retrieved 28 December 2024.\\n\\n^ \"DeepSeek updates ‚Äì Chinese AI chatbot sparks US market turmoil, wiping $500bn off Nvidia\". BBC News. Retrieved 27 January 2025.\\n\\n^ Nazareth, Rita (26 January 2025). \"Stock Rout Gets Ugly as Nvidia Extends Loss to 17%: Markets Wrap\". Bloomberg. Retrieved 27 January 2025.\\n\\n^ Carew, Sin√©ad; Cooper, Amanda; Banerjee, Ankur (27 January 2025). \"DeepSeek sparks global AI selloff, Nvidia losses about $593 billion of value\". Reuters.\\n\\n^ a b Sherry, Ben (28 January 2025). \"DeepSeek, Calling It \\'Impressive\\' but Staying Skeptical\".  Inc. Retrieved 29 January 2025.\\n\\n^ Kevin Okemwa (28 January 2025). \"Microsoft CEO Satya Nadella touts DeepSeek\\'s open-source AI as \"super impressive\": \"We should take the developments out of China very, very seriously\"\". Windows Central. Retrieved 28 January 2025.\\n\\n^ Nazzaro, Miranda (28 January 2025). \"OpenAI\\'s Sam Altman calls DeepSeek model \\'impressive\\'\". The Hill. Retrieved 28 January 2025.\\n\\n^ Dou, Eva; Gregg, Aaron; Zakrzewski, Cat; Tiku, Nitasha; Najmabadi, Shannon (28 January 2025). \"Trump calls China\\'s DeepSeek AI app a \\'wake-up call\\' after tech stocks slide\". The Washington Post. Retrieved 28 January 2025.\\n\\n^ Habeshian, Sareen (28 January 2025). \"Johnson bashes China on AI, Trump calls DeepSeek development \"positive\"\". Axios.\\n\\n^ Hoskins, Peter; Rahman-Jones, Imran (27 January 2025). \"Nvidia shares sink as Chinese AI app spooks markets\". BBC. Retrieved 28 January 2025.\\n\\n^ Karaian, Jason; Rennison, Joe (27 January 2025). \"China\\'s A.I. Advances Spook Big Tech Investors on Wall Street\" – via NYTimes.com.\\n\\n^ Sharma, Manoj (6 January 2025). \"Musk dismisses, Altman applauds: What leaders say on DeepSeek\\'s disruption\". Fortune India. Retrieved 28 January 2025.\\n\\n^ \"Elon Musk \\'questions\\' DeepSeek\\'s claims, suggests massive Nvidia GPU infrastructure\". Financialexpress. 28 January 2025. Retrieved 28 January 2025.\\n\\n^ Kim, Eugene. \"Big AWS customers, including Stripe and Toyota, are hounding the cloud giant for access to DeepSeek AI models\". Business Insider.\\n\\n^ Kerr, Dara (27 January 2025). \"DeepSeek hit with \\'large-scale\\' cyber-attack after AI chatbot tops app stores\". The Guardian. Retrieved 28 January 2025.\\n\\n^ Tweedie, Steven; Altchek, Ana. \"DeepSeek temporarily limited new sign-ups, citing \\'large-scale malicious attacks\\'\". Business Insider.\\n\\n^ Field, Matthew; Titcomb, James (27 January 2025). \"Chinese AI has sparked a $1 trillion panic ‚Äì and it doesn\\'t care about free speech\". The Daily Telegraph. ISSN\\xa00307-1235. Retrieved 27 January 2025.\\n\\n^ a b Steinschaden, Jakob (27 January 2025). \"DeepSeek: This is what live censorship looks like in the Chinese AI chatbot\". Trending Topics. Retrieved 27 January 2025.\\n\\n^ \"The Guardian view on a global AI race: geopolitics, innovation and the rise of chaos\". The Guardian. 26 January 2025. ISSN\\xa00261-3077. Retrieved 27 January 2025.\\n\\n^ Yang, Angela; Cui, Jasmine (27 January 2025). \"Chinese AI DeepSeek jolts Silicon Valley, giving the AI race its \\'Sputnik moment\\'\". NBC News. Retrieved 27 January 2025.\\n\\n^ Lu, Donna (28 January 2025). \"We tried out DeepSeek. It worked well, until we asked it about Tiananmen Square and Taiwan\". The Guardian. ISSN\\xa00261-3077. Retrieved 28 January 2025.\\n\\n^ Kimery, Anthony (26 January 2025). \"China\\'s DeepSeek AI poses formidable cyber, data privacy threats\". Biometric Update. Retrieved 27 January 2025.\\n\\n^ Booth, Robert; Milmo, Dan (28 January 2025). \"Experts urge caution over use of Chinese AI DeepSeek\". The Guardian. ISSN\\xa00261-3077. Retrieved 28 January 2025.\\n\\n^ Hornby, Rael (28 January 2025). \"DeepSeek\\'s success has painted a huge TikTok-shaped target on its back\". LaptopMag. Retrieved 28 January 2025.\\n\\n^ \"Privacy policy\". Open AI. Retrieved 28 January 2025.\\n\\n^ Burgess, Matt. \"DeepSeek\\'s Popular AI App Is Explicitly Sending US Data to China\". Wired. ISSN\\xa01059-1028. Retrieved 28 January 2025.\\n\\n^ \"Italy regulator seeks information from DeepSeek on data protection\". Reuters. 28 January 2025. Retrieved 28 January 2025.\\n\\n^ Shalal, Andrea; Shepardson, David (28 January 2025). \"White House evaluates effect of China AI app DeepSeek on national security, official says\". Reuters. Retrieved 28 January 2025.\\n\\n\\nExternal links\\n\\nFree and open-source software portal\\n\\n\\n\\nWikimedia Commons has media related to DeepSeek.\\n\\nAnthology of DeepSeek papers\\nDeepseek-ai on GitHub\\nOfficial API documentation\\ndeepseek-ai on Hugging Face\\nvteGenerative AI chatbotsUnited States\\nChatGPT\\nClaude\\nGemini\\nGrok\\nMicrosoft Copilot\\nPoe\\nReplika\\nYou.com\\nEurope\\nMistral (France)\\nMinerva (Italy)\\nChina\\nDeepSeek\\nQwen\\nDefunct\\nBard\\nRelated\\nLarge language models\\n\\n Category\\n\\nvteGenerative AIConcepts\\nAutoencoder\\nDeep learning\\nGenerative adversarial network\\nGenerative pre-trained transformer\\nLarge language model\\nNeural network\\nPrompt engineering\\nRetrieval-augmented generation\\nReinforcement learning from human feedback\\nSelf-supervised learning\\nTransformer\\nVariational autoencoder\\nVision transformer\\nWord embedding\\nModelsText\\nClaude\\nDBRX\\nGemini\\nGPT\\n1\\n2\\n3\\nJ\\nChatGPT\\n4\\n4o\\no1\\no3\\nGrok\\nGranite\\nLlama\\nMistral Large\\nPanGu-Œ£\\nQwen\\nImage\\nAurora\\nDALL-E\\nFirefly\\nFlux\\nIdeogram\\nMidjourney\\nStable Diffusion\\nVideo\\nDream Machine\\nGen-3 Alpha\\nHailuo AI\\nKling\\nSora\\nVeo\\nVideoPoet\\nMusic\\nUdio\\nSuno AI\\nCompanies\\n01.AI\\nAlibaba\\nAnthropic\\nBaichuan\\nDeepSeek\\nElevenLabs\\nGoogle DeepMind\\nHugging Face\\nKuaishou\\nMeta AI\\nMiniMax\\nMistral AI\\nMoonshot AI\\nOpenAI\\nRunway\\nStability AI\\nSynthesia\\nxAI\\nZhipu AI\\n\\n Category\\n Commons\\n\\n\\n\\n\\n\\nRetrieved from \"https://en.wikipedia.org/w/index.php?title=DeepSeek&oldid=1272628972\"\\nCategories: 2023 establishments in ChinaArtificial intelligence companiesArtificial intelligence laboratoriesCompanies based in HangzhouTechnology companies established in 2023Hidden categories: Articles with short descriptionShort description matches WikidataWikipedia pages semi-protected against vandalismUse dmy dates from January 2025Articles containing Chinese-language textArticles containing simplified Chinese-language textAll articles with unsourced statementsArticles with unsourced statements from January 2025Commons category link from Wikidata\\n\\n\\n\\n\\n\\n\\n This page was last edited on 29 January 2025, at 16:18\\xa0(UTC).\\nText is available under the Creative Commons Attribution-ShareAlike 4.0 License;\\nadditional terms may apply. By using this site, you agree to the Terms of Use and Privacy Policy. Wikipedia¬Æ is a registered trademark of the Wikimedia Foundation, Inc., a non-profit organization.\\n\\n\\nPrivacy policy\\nAbout Wikipedia\\nDisclaimers\\nContact Wikipedia\\nCode of Conduct\\nDevelopers\\nStatistics\\nCookie statement\\nMobile view\\n\\n\\n\\n\\n\\n\\n\\n\\n\\n\\n\\n\\n\\n\\nSearch\\n\\n\\n\\n\\n\\n\\n\\n\\n\\n\\n\\n\\n\\nSearch\\n\\n\\n\\n\\n\\n\\n\\n\\n\\nToggle the table of contents\\n\\n\\n\\n\\n\\n\\n\\nDeepSeek\\n\\n\\n\\n\\n\\n\\n\\n\\n\\n\\n\\n\\n\\n\\n\\n\\n\\n\\n\\n\\n\\n\\n\\n\\n\\n\\n\\n\\n50 languages\\n\\n\\nAdd topic\\n\\n\\n\\n\\n\\n\\n\\n\\n\\n\\n\\n\\n\\n\\n\\n\\n'"
      ]
     },
     "execution_count": 46,
     "metadata": {},
     "output_type": "execute_result"
    }
   ],
   "source": [
    "all_text"
   ]
  },
  {
   "cell_type": "markdown",
   "metadata": {},
   "source": [
    "# Chunking Documents"
   ]
  },
  {
   "cell_type": "code",
   "execution_count": 47,
   "metadata": {},
   "outputs": [],
   "source": [
    "with open(filename,'r',encoding='utf-8') as f:\n",
    "    raw_text= f.read()"
   ]
  },
  {
   "cell_type": "code",
   "execution_count": 48,
   "metadata": {},
   "outputs": [],
   "source": [
    "import re\n",
    "def preprocess_text(text: str) -> str:\n",
    "    text = text.lower()  # Convert to lowercase\n",
    "    text = re.sub(r\"[^a-zA-Z0-9\\n]\", \" \", text)  # Remove special characters\n",
    "    text = re.sub(r\"([a-z])([A-Z])\", r\"\\1 \\2\", text)  # Add spaces between camelCase words\n",
    "    text = re.sub(r\"(\\d+)\", r\" \\1 \", text)  # Add spaces around numbers\n",
    "    text = re.sub(r\"\\s+\", \" \", text).strip()  # Remove extra spaces\n",
    "    return text"
   ]
  },
  {
   "cell_type": "code",
   "execution_count": 49,
   "metadata": {},
   "outputs": [
    {
     "data": {
      "text/plain": [
       "'=== https://en.wikipedia.org/wiki/DeepSeek ===\\n\\n\\n\\n\\nDeepSeek - Wikipedia\\n\\n\\n\\n\\n\\n\\n\\n\\n\\n\\n\\n\\n\\n\\n\\n\\n\\n\\n\\n\\n\\n\\n\\n\\n\\n\\nJump to content\\n\\n\\n\\n\\n\\n\\n\\nMain menu\\n\\n\\n\\n\\n\\nMain menu\\nmove to sidebar\\nhide\\n\\n\\n\\n\\t\\tNavigation\\n\\t\\n\\n\\nMain pageContentsCurrent eventsRandom articleAbout WikipediaContact us\\n\\n\\n\\n\\n\\n\\t\\tContribute\\n\\t\\n\\n\\nHelpLearn to editCommunity portalRecent changesUpload file\\n\\n\\n\\n\\n\\n\\n\\n\\n\\n\\n\\n\\n\\n\\n\\n\\n\\n\\n\\nSearch\\n\\n\\n\\n\\n\\n\\n\\n\\n\\n\\n\\nSearch\\n\\n\\n\\n\\n\\n\\n\\n\\n\\n\\n\\n\\n\\n\\n\\n\\n\\n\\n\\n\\n\\n\\nAppearance\\n\\n\\n\\n\\n\\n\\n\\n\\n\\n\\n\\n\\n\\n\\n\\n\\nDonate\\n\\nCreate account\\n\\nLog in\\n\\n\\n\\n\\n\\n\\n\\n\\nPersonal tools\\n\\n\\n\\n\\n\\nDonate Create account Log in\\n\\n\\n\\n\\n\\n\\t\\tPages for logged out editors learn more\\n\\n\\n\\nContributionsTalk\\n\\n\\n\\n\\n\\n\\n\\n\\n\\n\\n\\n\\n\\n\\n\\n\\n\\n\\n\\n\\n\\n\\n\\n\\n\\n\\n\\n\\nContents\\nmove to sidebar\\nhide\\n\\n\\n\\n\\n(Top)\\n\\n\\n\\n\\n\\n1\\nBackground\\n\\n\\n\\n\\n\\n\\n\\n\\n2\\nRelease history\\n\\n\\n\\n\\nToggle Release history subsection\\n\\n\\n\\n\\n\\n2.1\\nDeepSeek LLM\\n\\n\\n\\n\\n\\n\\n\\n\\n2.2\\nV2\\n\\n\\n\\n\\n\\n\\n\\n\\n2.3\\nV3\\n\\n\\n\\n\\n\\n\\n\\n\\n2.4\\nR1\\n\\n\\n\\n\\n\\n\\n\\n\\n\\n\\n3\\nAssessment and reactions\\n\\n\\n\\n\\n\\n\\n\\n\\n4\\nConcerns\\n\\n\\n\\n\\nToggle Concerns subsection\\n\\n\\n\\n\\n\\n4.1\\nCensorship\\n\\n\\n\\n\\n\\n\\n\\n\\n4.2\\nSecurity and privacy\\n\\n\\n\\n\\n\\n\\n\\n\\n\\n\\n5\\nSee also\\n\\n\\n\\n\\n\\n\\n\\n\\n6\\nNotes\\n\\n\\n\\n\\n\\n\\n\\n\\n7\\nReferences\\n\\n\\n\\n\\n\\n\\n\\n\\n8\\nExternal links\\n\\n\\n\\n\\n\\n\\n\\n\\n\\n\\n\\n\\n\\n\\n\\n\\n\\n\\nToggle the table of contents\\n\\n\\n\\n\\n\\n\\n\\nDeepSeek\\n\\n\\n\\n50 languages\\n\\n\\n\\n\\nAfrikaansÿßŸÑÿπÿ±ÿ®Ÿäÿ©Aragon√©s‡¶Ö‡¶∏‡¶Æ‡ßÄ‡¶Ø‡¶º‡¶æ‡¶¨‡¶æ‡¶Ç‡¶≤‡¶æ–ë—ä–ª–≥–∞—Ä—Å–∫–∏Catal√†ƒåe≈°tinaDanskDeutschŒïŒªŒªŒ∑ŒΩŒπŒ∫Œ¨Espa√±olEsperantoEuskaraŸÅÿßÿ±ÿ≥€åFran√ßaisFulfuldeGaeilgeGalegoÌïúÍµ≠Ïñ¥Bahasa IndonesiaItaliano◊¢◊ë◊®◊ô◊™KiswahiliMagyar–ú–∞–∫–µ–¥–æ–Ω—Å–∫–∏‡¥Æ‡¥≤‡¥Ø‡¥æ‡¥≥‡¥ÇNederlands‡§®‡•á‡§™‡§æ‡§≤‡•ÄÊó•Êú¨Ë™ûO\\xa0ªzbekcha / —û–∑–±–µ–∫—á–∞PolskiPortugu√™sQaraqalpaqshaRom√¢nƒÉ–†—É—Å—Å–∫–∏–π–°—Ä–ø—Å–∫–∏ / srpskiSuomiTagalog‡Æ§‡ÆÆ‡Æø‡Æ¥‡Øç·ÅΩ·ÇÉ·Çá·Äû·ÇÉ·Çá·Äê·ÇÜ·Ä∏ ‡πÑ‡∏ó‡∏¢T√ºrk√ße–£–∫—Ä–∞—ó–Ω—Å—å–∫–∞ÿßÿ±ÿØŸàÿ¶€áŸäÿ∫€áÿ±⁄Ü€ï / UyghurcheTi·∫øng Vi·ªátÂê¥ËØ≠Á≤µË™û‰∏≠Êñá\\n\\nEdit links\\n\\n\\n\\n\\n\\n\\n\\n\\n\\n\\n\\nArticleTalk\\n\\n\\n\\n\\n\\nEnglish\\n\\n\\n\\n\\n\\n\\n\\n\\n\\n\\n\\n\\n\\n\\n\\n\\n\\nReadView sourceView history\\n\\n\\n\\n\\n\\n\\n\\nTools\\n\\n\\n\\n\\n\\nTools\\nmove to sidebar\\nhide\\n\\n\\n\\n\\t\\tActions\\n\\t\\n\\n\\nReadView sourceView history\\n\\n\\n\\n\\n\\n\\t\\tGeneral\\n\\t\\n\\n\\nWhat links hereRelated changesUpload fileSpecial pagesPermanent linkPage informationCite this pageGet shortened URLDownload QR code\\n\\n\\n\\n\\n\\n\\t\\tPrint/export\\n\\t\\n\\n\\nDownload as PDFPrintable version\\n\\n\\n\\n\\n\\n\\t\\tIn other projects\\n\\t\\n\\n\\nWikimedia CommonsWikidata item\\n\\n\\n\\n\\n\\n\\n\\n\\n\\n\\n\\n\\n\\n\\n\\n\\n\\n\\n\\n\\n\\nAppearance\\nmove to sidebar\\nhide\\n\\n\\n\\n\\n\\n\\n\\n\\n\\n\\n\\nFrom Wikipedia, the free encyclopedia\\n\\n\\nChinese artificial intelligence company\\n\\n\\nHangzhou DeepSeek Artificial Intelligence Basic Technology Research Co., Ltd.Native nameÊù≠Â∑ûÊ∑±Â∫¶Ê±ÇÁ¥¢‰∫∫Â∑•Êô∫ËÉΩÂü∫Á°ÄÊäÄÊúØÁ†îÁ©∂ÊúâÈôêÂÖ¨Âè∏Company typePrivateIndustryInformation technologyArtificial intelligenceFoundedMay\\xa02023; 1\\xa0year ago\\xa0(2023-05)FounderLiang WenfengHeadquartersHangzhou, Zhejiang, ChinaKey peopleLiang Wenfeng (CEO)OwnerHigh-FlyerNumber of employeesUnder 200Websitedeepseek.com\\nDeepSeek (Chinese: Ê∑±Â∫¶Ê±ÇÁ¥¢; pinyin: Shƒìnd√π Qi√∫su«í) is a Chinese artificial intelligence company that develops open-source large language models (LLMs). Based in Hangzhou, Zhejiang, it is owned and solely funded by Chinese hedge fund High-Flyer, whose co-founder, Liang Wenfeng, established the company in 2023 and serves as its CEO. \\nThe DeepSeek-R1 model provides responses comparable to other contemporary LLMs, such OpenAI\\'s GPT-4o and o1,[1] despite being trained at a significantly lower cost‚Äîstated at US$6 million compared to $100 million for OpenAI\\'s GPT-4 in 2023[2]‚Äîand requiring a tenth of the computing power of a comparable LLM.[2][3][4][5] DeepSeek\\'s A.I. models were developed amid United States sanctions on India and China for Nvidia chips[6], which were intended to restrict the country\\'s ability to develop advanced A.I. systems.[7][8]\\nOn 10 January 2025, DeepSeek released its first free chatbot app, based on the DeepSeek-R1 model, for iOS and Android; by 27 January, DeepSeek-R1 had surpassed ChatGPT as the most-downloaded free app on the iOS App Store in the United States,[9] causing Nvidia\\'s share price to drop by 18%.[10][11] DeepSeek\\'s success against larger and more established rivals has been described as \"upending AI\",[9] constituting \"the first shot at what is emerging as a global AI space race\",[12] and ushering in \"a new era of A.I. brinkmanship\".[13]\\nDeepSeek makes its generative artificial intelligence algorithms, models, and training details open-source, allowing its code to be freely available for use, modification, viewing, and designing documents for building purposes.[14] The company reportedly vigorously recruits young A.I. researchers from top Chinese universities,[9] and hires from outside the computer science field to diversify its models\\' knowledge and abilities.[4]\\nDeepSeek AI chatbot is developed entirely by Chinese software engineers, whereas AI models established in Silicon Valley are created by people of various nationalities, including H-1B visa holders from different countries working in the US. DeepSeek AI models can be seen as a significant step toward developing indigenous high-end technologies by Asian countries, helping to retain talent and reduce brain drain from nations like India and China.[15]\\n\\n\\nBackground\\nIn February 2016, High-Flyer was co-founded by AI enthusiast Liang Wenfeng, who had been trading since the 2007‚Äì2008 financial crisis while attending Zhejiang University.[16] By 2019, he established High-Flyer as a hedge fund focused on developing and using AI trading algorithms. By 2021, High-Flyer exclusively used AI in trading.[17] DeepSeek has made its generative artificial intelligence chatbot open source, meaning its code is freely available for use, modification, and viewing. This includes permission to access and utilize the source code, as well as design documents, for building purposes.[14]\\nPer 36Kr, Liang had built up a store of 10,000 Nvidia A100 GPUs before the United States federal government imposed AI chip restrictions on China.[17] Some estimates, with no evidence provided, put the number as high as 50,000.[16]\\nIn April 2023, High-Flyer started an artificial general intelligence lab dedicated to research developing AI tools separate from High-Flyer\\'s financial business.[18][19] In May 2023, with High-Flyer as one of the investors, the lab became its own company, DeepSeek.[17][20][19] Venture capital firms were reluctant in providing funding as it was unlikely that it would be able to generate an exit in a short period of time.[17]\\nAfter releasing DeepSeek-V2 in May 2024, which offered strong performance for a low price, DeepSeek became known as the catalyst for China\\'s AI model price war. It was quickly dubbed the \"Pinduoduo of AI\", and other major tech giants such as ByteDance, Tencent, Baidu, and Alibaba began to cut the price of their AI models to compete with the company. Despite the low price charged by DeepSeek, it was profitable compared to its rivals that were losing money.[21]\\nDeepSeek is focused solely on research and has no detailed plans for commercialization;[21] this also allows its technology to avoid the most stringent provisions of China\\'s A.I. regulations, such as requiring consumer-facing technology to comply with the government‚Äôs controls on information.[4]\\nDeepSeek\\'s hiring preferences target technical abilities rather than work experience, resulting in most new hires being either recent university graduates or developers whose AI careers are less established.[19][4] Likewise, the company recruits individuals without any computer science background to help its technology understand other topics and knowledge areas, including being able to generate poetry and perform well on the notoriously difficult Chinese college admissions exams (Gaokao).[4]\\n\\nRelease history\\nDeepSeek LLM\\nOn 2 November 2023, DeepSeek released its first series of model, DeepSeek-Coder, which is available for free to both researchers and commercial users. The code for the model was made open-source under the MIT license, with an additional license agreement (\"DeepSeek license\") regarding \"open and responsible downstream usage\" for the model itself.[22]\\nThey are of the same architecture as DeepSeek LLM detailed below. The series includes 8 models, 4 pretrained (Base) and 4 instruction-finetuned (Instruct). They all have 16K context lengths. The training was as follows:[23][24][25]\\n\\nPretraining: 1.8T tokens (87% source code, 10% code-related English (GitHub markdown and Stack Exchange), and 3% code-unrelated Chinese).\\nLong-context pretraining: 200B tokens. This extends the context length from 4K to 16K. This produced the Base models.\\nSupervised finetuning (SFT): 2B tokens of instruction data. This produced the Instruct models.\\nThey were trained on clusters of A100 and H800 Nvidia GPUs, connected by InfiniBand, NVLink, NVSwitch.[23]\\n\\n\\nDeepSeek Coder properties[23]:\\u200aTable 2\\u200a[26]\\n\\n\\nParams.\\n\\n\\n\\n\\n\\nn\\n\\nlayers\\n\\n\\n\\n\\n{\\\\displaystyle n_{\\\\text{layers}}}\\n\\n\\n\\n\\n\\n\\n\\nd\\n\\nmodel\\n\\n\\n\\n\\n{\\\\displaystyle d_{\\\\text{model}}}\\n\\n\\n\\n\\n\\n\\n\\n\\nd\\n\\nintermediate\\n\\n\\n\\n\\n{\\\\displaystyle d_{\\\\text{intermediate}}}\\n\\n\\n\\n\\n\\n\\n\\nn\\n\\nheads\\n\\n\\n\\n\\n{\\\\displaystyle n_{\\\\text{heads}}}\\n\\n\\n\\n\\n\\n\\n\\nn\\n\\nkv-heads\\n\\n\\n\\n\\n{\\\\displaystyle n_{\\\\text{kv-heads}}}\\n\\n\\n\\n\\n1.3B\\n24\\n2048\\n\\n5504\\n16\\n16\\n\\n\\n5.7B\\n\\n32\\n\\n4096\\n\\n11008\\n\\n32\\n\\n1[note 1]\\n\\n\\n6.7B\\n32\\n4096\\n\\n11008\\n32\\n32\\n\\n\\n33B\\n62\\n7168\\n\\n19200\\n56\\n7[note 2]\\n\\nOn 29 November 2023, DeepSeek released the DeepSeek-LLM series of models, with 7B and 67B parameters in both Base and Chat forms (no Instruct was released). It was developed to compete with other LLMs available at the time. The paper claimed benchmark results higher than most open source LLMs at the time, especially Llama 2.[27]:\\u200asection 5\\u200a Like DeepSeek Coder, the code for the model was under MIT license, with DeepSeek license for the model itself.[28]\\nThe architecture was essentially the same as those of the Llama series. They used the pre-norm decoder-only Transformer with RMSNorm as the normalization, SwiGLU in the feedforward layers, rotary positional embedding (RoPE), and grouped-query attention (GQA). Both had vocabulary size 102400 (byte-level BPE) and context length of 4096. They trained on 2 trillion tokens of English and Chinese text obtained by deduplicating the Common Crawl.[27]\\n\\n\\nDeepSeek LLM properties[27]:\\u200aTable 2\\u200a\\n\\n\\nParams.\\n\\n\\n\\n\\n\\nn\\n\\nlayers\\n\\n\\n\\n\\n{\\\\displaystyle n_{\\\\text{layers}}}\\n\\n\\n\\n\\n\\n\\n\\nd\\n\\nmodel\\n\\n\\n\\n\\n{\\\\displaystyle d_{\\\\text{model}}}\\n\\n\\n\\n\\n\\n\\n\\n\\nd\\n\\nintermediate\\n\\n\\n\\n\\n{\\\\displaystyle d_{\\\\text{intermediate}}}\\n\\n\\n\\n\\n\\n\\n\\nn\\n\\nheads\\n\\n\\n\\n\\n{\\\\displaystyle n_{\\\\text{heads}}}\\n\\n\\n\\n\\n\\n\\n\\nn\\n\\nkv-heads\\n\\n\\n\\n\\n{\\\\displaystyle n_{\\\\text{kv-heads}}}\\n\\n\\n\\n\\n7B\\n30\\n4096\\n\\n11008\\n32\\n32\\n\\n\\n67B\\n95\\n8192\\n\\n22016\\n64\\n8[note 3]\\n\\nThe Chat versions of the two Base models was also released concurrently, obtained by training Base by supervised finetuning (SFT) followed by direct policy optimization (DPO).[27]\\nIn April 2024, they released 3 DeepSeek-Math models specialized for doing math: Base, Instruct, RL. It was trained as follows:[29]\\n\\nInitialize with a previously pretrained DeepSeek-Coder-Base-v1.5 7B.\\nFurther pretrain with 500B tokens (6% DeepSeekMath Corpus, 4% AlgebraicStack, 10% arXiv, 20% GitHub code, 10% Common Crawl). This produced the Base model.\\nTrain an instruction-following model by SFT  Base with 776K math problems and their tool-use-integrated step-by-step solutions. This produced the Instruct model.\\nReinforcement learning (RL): The reward model was a process reward model (PRM) trained from  Base according to the Math-Shepherd method.[30] This reward model was then used to train Instruct using group relative policy optimization (GRPO) on a dataset of 144K math questions \"related to GSM8K and MATH\". The reward model was continuously updated during training to avoid reward hacking. This resulted in the RL model.\\nV2\\nIn May 2024, they released the DeepSeek-V2 series.\\nThe series includes 4 models, 2 base models (DeepSeek-V2, DeepSeek-V2-Lite) and 2 chatbots (-Chat).\\nThe two larger models were trained as follows:[31]\\n\\nPretrain on a dataset of 8.1T tokens, where Chinese tokens are 12% more than English ones.\\nExtend context length from 4K to 128K using YaRN.[32] This resulted in DeepSeek-V2.\\nSFT with 1.2M instances for helpfulness and 0.3M for safety. This resulted in DeepSeek-V2-Chat (SFT) which was not released.\\nRL using GRPO in two stages. The first stage was trained to solve math and coding problems. This stage used 1 reward model, trained on compiler feedback (for coding) and ground-truth labels (for math). The second stage was trained to be helpful, safe, and follow rules. This stage used 3 reward models. The helpfulness and safety reward models were trained on human preference data. The rule-based reward model was manually programmed. All trained reward models were initialized from DeepSeek-V2-Chat (SFT). This resulted in the released version of DeepSeek-V2-Chat.\\nThey opted for 2-staged RL, because they found that RL on reasoning data had \"unique characteristics\" different from RL on general data. For example, RL on reasoning could improve over more training steps.[31]\\nThe two V2-Lite models were smaller, and trained similarly, though DeepSeek-V2-Lite-Chat only underwent SFT, not RL. They trained the Lite version to help \"further research and development on MLA and DeepSeekMoE\".[31]\\nArchitecturally, the V2 models were significantly modified from the DeepSeek LLM series. They changed the standard attention mechanism by a low-rank approximation called multi-head latent attention (MLA), and used the mixture of experts (MoE) variant previously published in January. Compared to the standard sparsely-gated MoE, their variant had \"shared experts\" that are always queried, and \"routed experts\" that might not be.[33]\\n\\n\\nDeepSeek V2 properties[31]:\\u200aSection 3.1.2, Appendix B\\u200a[34][35]\\n\\n\\nName\\n\\nParams.\\n\\nActive params\\n\\n\\n\\n\\n\\nn\\n\\nlayers\\n\\n\\n\\n\\n{\\\\displaystyle n_{\\\\text{layers}}}\\n\\n\\nContext length\\n\\n\\n\\n\\n\\n\\nn\\n\\nshared experts\\n\\n\\n\\n\\n{\\\\displaystyle n_{\\\\text{shared experts}}}\\n\\n\\n\\n\\n\\n\\n\\nn\\n\\nrouted experts\\n\\n\\n\\n\\n{\\\\displaystyle n_{\\\\text{routed experts}}}\\n\\n\\n\\n\\nV2-Lite\\n\\n15.7B\\n\\n2.4B\\n27\\n32K\\n\\n2\\n64\\n\\n\\nV2\\n\\n236B\\n\\n21B\\n60\\n128K\\n\\n2\\n160\\n\\nThe Financial Times reported that it was cheaper than its peers with a price of 2 RMB for every million output tokens. The University of Waterloo Tiger Lab\\'s leaderboard ranked DeepSeek-V2 seventh on its LLM ranking.[20]\\nIn June, they released 4 models in the DeepSeek-Coder-V2 series: V2-Base, V2-Lite-Base, V2-Instruct, V2-Lite-Instruct. They were trained as follows:[36][note 4]\\n\\nThe Base models were initialized from corresponding intermediate checkpoints after pretraining on 4.2T tokens (not the version at the end of pretraining), then pretrained further for 6T tokens, then context-extended to 128K context length. This produced the Base models.\\nDeepSeek-Coder and DeepSeek-Math were used to generate 20K code-related and 30K math-related instruction data, then combined with an instruction dataset of 300M tokens. This was used for SFT.\\nRL with GRPO. The reward for math problems was computed by comparing with the ground-truth label. The reward for code problems was generated by a reward model trained to predict whether a program would pass the unit tests.\\nDeepSeek-V2.5 was released in September and updated in December. It was made by combining DeepSeek-V2-Chat and DeepSeek-Coder-V2-Instruct.[37]\\n\\nV3\\nIn December 2024, they released a base model DeepSeek-V3-Base and a chat model DeepSeek-V3. The model architecture is essentially the same as V2. They were trained as follows:[38]\\n\\nPretraining on 14.8T tokens of a multilingual corpus, mostly English and Chinese. It contained a higher ratio of math and programming than the pretraining dataset of V2.\\nExtend context length twice, from 4K to 32K and then to 128K, using YaRN.[32] This produced DeepSeek-V3-Base.\\nSFT for 2 epochs on 1.5M samples of reasoning (math, programming, logic) and non-reasoning (creative writing, roleplay, simple question answering) data. Reasoning data was generated by \"expert models\". Non-reasoning data was generated by DeepSeek-V2.5 and checked by humans.\\nThe \"expert models\" were trained by starting with an unspecified base model, then SFT on both <problem, original response> data, and synthetic <system prompt, problem, R1 response> data generated by an internal DeepSeek-R1 model. The system prompt asked the R1 to reflect and verify during thinking. Then the expert models were RL using an unspecified reward function.\\nEach expert model was trained to generate just synthetic reasoning data in one specific domain (math, programming, logic).\\nExpert models were used, instead of R1 itself, since the output from R1 itself suffered \"overthinking, poor formatting, and excessive length\".\\nModel-based reward models were made by starting with a SFT checkpoint of V3, then finetuning on human preference data containing both final reward and chain-of-thought leading to the final reward. The reward model produced reward signals for both questions with objective but free-form answers, and questions without objective answers (such as creative writing).\\nA SFT checkpoint of V3 was trained by GRPO using both reward models and rule-based reward. The rule-based reward was computed for math problems with a final answer (put in a box), and for programming problems by unit tests. This produced DeepSeek-V3.\\n\\nDeepSeek V3 properties[38]:\\u200aSection 4.2\\u200a[39]\\n\\n\\nName\\n\\nParams.\\n\\nActive params\\n\\n\\n\\n\\n\\nn\\n\\nlayers\\n\\n\\n\\n\\n{\\\\displaystyle n_{\\\\text{layers}}}\\n\\n\\nContext length\\n\\n\\n\\n\\n\\n\\nn\\n\\nshared experts\\n\\n\\n\\n\\n{\\\\displaystyle n_{\\\\text{shared experts}}}\\n\\n\\n\\n\\n\\n\\n\\nn\\n\\nrouted experts\\n\\n\\n\\n\\n{\\\\displaystyle n_{\\\\text{routed experts}}}\\n\\n\\n\\n\\nV3\\n\\n671B\\n\\n37B\\n61\\n128K\\n\\n1\\n256\\n\\nThey performed extensive low-level engineering to achieve efficiency. They used mixed-precision arithmetic. Much of the forward pass was performed in 8-bit floating point numbers (5E2M: 5-bit exponent and 2-bit mantissa) rather than the standard 32-bit, requiring special GEMM routines to accumulate accurately. They used a custom 12-bit float (E5M6) for only the inputs to the linear layers after the attention modules. Optimizer states were in 16-bit (BF16). They minimized the communication latency by overlapping extensively computation and communication, such as dedicating 20 streaming multiprocessors out of 132 per H800 for just inter-GPU communication. They lowered communication by rearranging (every 10 minutes) the exact machine each expert was on in order to avoid certain machines being queried more often than the others, adding auxiliary load-balancing losses to the training loss function, and other load-balancing techniques.[38]\\nAfter training, it was deployed on H800 clusters. The H800 within a cluster are connected by NVLink. The clusters are connected by InfiniBand.[38]\\n\\n\\nTotal cost of training the DeepSeek-V3 model[38]:\\u200aTable 1\\u200a\\n\\n\\nStage\\n\\nCost (in one thousand GPU hours)\\n\\nCost (in one million USD$)\\n\\n\\nPre-training\\n\\n2,664\\n\\n5.328\\n\\n\\nContext extension\\n\\n119\\n\\n0.24\\n\\n\\nFine-tuning\\n\\n5\\n\\n0.01\\n\\n\\nTotal\\n\\n2,788\\n\\n5.576\\n\\nBenchmark tests show that DeepSeek-V3 outperformed Llama 3.1 and Qwen 2.5 whilst matching GPT-4o and Claude 3.5 Sonnet.[19][40][41][42]\\n\\nR1\\nOn 20 November 2024, DeepSeek-R1-Lite-Preview became accessible via DeepSeek\\'s API.[43] It was trained for logical inference, mathematical reasoning, and real-time problem-solving. DeepSeek claimed that it exceeded performance of OpenAI o1 on benchmarks such as American Invitational Mathematics Examination (AIME) and MATH.[44] However, The Wall Street Journal stated when it used 15 problems from the 2024 edition of AIME, the o1 model reached a solution faster than DeepSeek-R1-Lite-Preview.[45]\\nOn 20 January 2025, DeepSeek-R1 and DeepSeek-R1-Zero were released.[46] Both were initialized from DeepSeek-V3-Base, and share its architecture. The company also released some \"DeepSeek-R1-Distill\" models, which are not initialized on V3-Base, but instead are initialized from other pretrained open-weight models, including LLaMA and Qwen, then fine-tuned on synthetic data generated by R1.[47]\\n\\n\\nTemplate for DeepSeek-R1-Zero\\n\\nA conversation between User and Assistant. The user asks a question, and the Assistant solves it. The assistant first thinks about the reasoning process in the mind and then provides the user with the answer. The reasoning process and answer are enclosed within <think> </think> and <answer> </answer> tags, respectively, i.e., <think> reasoning process here </think> <answer> answer here </answer>. User: <prompt>. Assistant:\\n\\n\\n‚Äì <prompt> is replaced with the specific reasoning question during training.\\n\\nDeepSeek-R1-Zero was trained exclusively using GRPO RL without SFT. Unlike previous versions, they used no model-based reward. All reward functions were rule-based, \"mainly\" of two types (other types were not specified): accuracy rewards and format rewards. Accuracy reward was checking whether a boxed answer is correct (for math) or whether a code passes tests (for programming). Format reward was checking whether the model puts its thinking trace within <think>...</think>.[47]\\nAs R1-Zero has issues with readability and mixing languages, R1 was trained to address these issues and further improve reasoning:[47]\\n\\nSFT DeepSeek-V3-Base on \"thousands\" of \"cold-start\" data all with the standard format of |special_token|<reasoning_process>|special_token|summary>.\\nApply the same RL process as R1-Zero, but also with a \"language consistency reward\" to encourage it to respond monolingually. This produced an internal model not released.\\nSynthesize 600K reasoning data from the internal model, with rejection sampling (i.e. if the generated reasoning had a wrong final answer, then it is removed). Synthesize 200K non-reasoning data (writing, factual QA, self-cognition, translation) using DeepSeek-V3.\\nSFT DeepSeek-V3-Base on the 800K synthetic data for 2 epochs.\\nGRPO RL with both rule-based reward (for reasoning tasks) and model-based reward (for non-reasoning tasks, helpfulness, and harmlessness). This produced DeepSeek-R1.\\nDistilled models were trained by SFT on 800K data synthesized from DeepSeek-R1, in a similar way as step 3 above. They were not trained with RL.[47]\\n\\nAssessment and reactions\\nDeepSeek released its A.I. Assistant, which utilizes the V3 model as a chatbot app for Apple IOS and Android. By 27 January 2025 the app had surpassed ChatGPT as the highest-rated free app on the iOS App Store in the United States; its chatbot reportedly answers questions, solves logic problems and writes computer programs on par with other chatbots on the market, according to benchmark tests used by American A.I. companies.[4]\\nDeepSeek-V3 uses significantly fewer resources compared to its peers; for example, whereas the world\\'s leading A.I. companies train their chatbots with supercomputers using as many as 16,000 graphics processing units (GPUs), if not more, DeepSeek claims to have needed only about 2,000 GPUs, namely the H800 series chip from Nvidia.[citation needed] It was trained in around 55 days at a cost of US$5.58\\xa0million,[38] which is roughly 10 times less than what U.S. tech giant Meta spent building its latest A.I. technology.[4]\\nDeepSeek\\'s competitive performance at relatively minimal cost has been recognized as potentially challenging the global dominance of American A.I. models.[48] Various publications and news media, such as The Hill and The Guardian, described the release of its chatbot as a \"Sputnik moment\" for American A.I.[49][50] The performance of its R1 model was reportedly \"on par with\" one of OpenAI\\'s latest models when used for tasks such as mathematics, coding, and natural language reasoning;[51] echoing other commentators, American Silicon Valley venture capitalist Marc Andreessen likewise described R1 as \"AI\\'s Sputnik moment\".[51]\\n\\nDeepSeek\\'s founder, Liang Wenfeng has been compared to Open AI CEO Sam Altman. With CNN calling him the Sam Altman of China and an evangelist for AI.[52]The login error DeepSeek gave on 28 Jan 2025 following a cyberattackDeepSeek\\'s optimization of limited resources has highlighted potential limits of U.S. sanctions on China\\'s A.I. development, which include export restrictions on advanced A.I. chips to China.[19][53] The success of the company\\'s A.I. models consequently \"sparked market turmoil\" [54] and caused shares in major global technology companies to plunge on 27 January: Nvidia\\'s stock fell by as much as 17‚Äì18%,[55] as did the stock of rival Broadcom. Other tech firms also sank, including Microsoft (down 2.5%), Google\\'s owner Alphabet (down over 4%), and Dutch chip equipment maker ASML (down over 7%).[51] A global selloff of technology stocks on Nasdaq, prompted by the release of the R1 model, had led to record losses of about $593 billion in the market capitalizations of AI and computer hardware companies;[56] by 28 January, a total of $1 trillion of value was wiped off American stocks.[50]\\nLeading figures in the American A.I. sector had mixed reactions to DeepSeek\\'s success and performance.[57] Microsoft CEO Satya Nadella and OpenAI CEO Sam Altman‚Äîwhose companies are involved in the U.S. government-backed \"Stargate Project\" to develop American A.I. infrastructure‚Äîboth called DeepSeek \"super impressive\".[58][59] American President Donald Trump, who announced The Stargate Project, called DeepSeek a wake-up call[60] and a positive development.[61][50][62][63] Other leaders in the field, including Scale AI CEO Alexandr Wang, Anthropic cofounder and CEO Dario Amodei, and Elon Musk expressed skepticism of the app\\'s performance or of the sustainability of its success.[57][64][65] Various companies, including Amazon Web Services, Toyota and Stripe, are seeking to use the model in their program.[66]\\nOn 27 January, DeepSeek limited its new user registration to Chinese mainland phone numbers, email, and Google login after a reported cyberattack that caused a slowdown to its servers and services.[67][68]\\n\\nConcerns\\nCensorship\\nSee also: Chinese censorship abroad and Censorship in China\\nDeepSeek responses when asked about Xi Jinping and Narendra Modi\\nSome sources have observed that the official API version of R1 uses censorship mechanisms for topics that are considered politically sensitive for the government of the People\\'s Republic of China. For example, the model refuses to answer questions about the 1989 Tiananmen Square protests and massacre, persecution of Uyghurs, or human rights in China.[69][70] The AI may initially generate an answer, but then deletes it shortly afterwards and replaces it with a message such as: \"Sorry, that\\'s beyond my current scope. Let\\'s talk about something else.\"[70] The integrated censorship mechanisms and restrictions can only be removed to a limited extent in the open-source version of the R1 model. If the \"core socialist values\" defined by the Chinese Internet regulatory authorities are touched upon or the political status of Taiwan is raised, discussions are terminated.[71] When tested by NBC News, DeepSeek\\'s R1 described Taiwan as \"an inalienable part of China\\'s territory,\" and stated: \"We firmly oppose any form of \\'Taiwan independence\\' separatist activities and are committed to achieving the complete reunification of the motherland through peaceful means.\"[72] Western researchers were  able in January 2025 to trick DeepSeek into giving accurate answers to some of these topics by tailoring the question asked.[73]\\n\\nSecurity and privacy\\nSee also: Chinese information operations and information warfare\\nThere are also fears that the AI system could be used for foreign influence operations, spreading disinformation, surveillance and the development of cyberweapons for the government of the People\\'s Republic of China.[74][75][76] DeepSeek\\'s privacy terms and conditions say \"We store the information we collect in secure servers located in the People\\'s Republic of China... We may collect your text or audio input, prompt, uploaded files, feedback, chat history, or other content that you provide to our model and Services\". Although the data storage and collection policy is consistent with ChatGPT\\'s privacy policy,[77] a media article reports this as security concerns.[78] In response, the Italian data protection authority is seeking additional information on DeepSeek\\'s collection and use of personal data and the United States National Security Council announced that it had started a national security review.[79][80]\\n\\nSee also\\nArtificial intelligence industry in China\\nNotes\\n\\n\\n^ The number of heads does not equal the number of KV heads, due to GQA.\\n\\n^ The number of heads does not equal the number of KV heads, due to GQA.\\n\\n^ The number of heads does not equal the number of KV heads, due to GQA.\\n\\n^ Inexplicably, the model named DeepSeek-Coder-V2 Chat in the paper was released as DeepSeek-Coder-V2-Instruct in HuggingFace.\\n\\n\\nReferences\\n\\n\\n^ Gibney, Elizabeth (23 January 2025). \"China\\'s cheap, open AI model DeepSeek thrills scientists\". Nature. doi:10.1038/d41586-025-00229-6. ISSN\\xa01476-4687. PMID\\xa039849139.\\n\\n^ a b Vincent, James (28 January 2025). \"The DeepSeek panic reveals an AI world ready to blow\". The Guardian.\\n\\n^ Hoskins, Peter; Rahman-Jones, Imran (27 January 2025). \"Nvidia shares sink as Chinese AI app spooks markets\". BBC. Retrieved 28 January 2025.\\n\\n^ a b c d e f g Metz, Cade; Tobin, Meaghan (23 January 2025). \"How Chinese A.I. Start-Up DeepSeek Is Competing With Silicon Valley Giants\". The New York Times. ISSN\\xa00362-4331. Retrieved 27 January 2025.\\n\\n^ Cosgrove, Emma (27 January 2025). \"DeepSeek\\'s cheaper models and weaker chips call into question trillions in AI infrastructure spending\". Business Insider.\\n\\n^ Mallick, Subhrojit (16 January 2024). \"Biden admin\\'s cap on GPU exports may hit India\\'s AI ambitions\". The Economic Times. Retrieved 29 January 2025.\\n\\n^ Saran, Cliff (10 December 2024). \"Nvidia investigation signals widening of US and China chip war | Computer Weekly\". Computer Weekly. Retrieved 27 January 2025.\\n\\n^ Sherman, Natalie (9 December 2024). \"Nvidia targeted by China in new chip war probe\". BBC. Retrieved 27 January 2025.\\n\\n^ a b c Metz, Cade (27 January 2025). \"What is DeepSeek? And How Is It Upending A.I.?\". The New York Times. ISSN\\xa00362-4331. Retrieved 27 January 2025.\\n\\n^ Field, Hayden (27 January 2025). \"China\\'s DeepSeek AI dethrones ChatGPT on App Store: Here\\'s what you should know\". CNBC.\\n\\n^ \"What is DeepSeek, and why is it causing Nvidia and other stocks to slump?\". www.cbsnews.com. 27 January 2025.\\n\\n^ Zahn, Max. \"Nvidia, Microsoft shares tumble as China-based AI app DeepSeek hammers tech giants\". ABC News. Retrieved 27 January 2025.\\n\\n^ Roose, Kevin (28 January 2025). \"Why DeepSeek Could Change What Silicon Valley Believe About A.I.\" The New York Times. ISSN\\xa00362-4331. Retrieved 28 January 2025.\\n\\n^ a b Romero, Luis E. \"ChatGPT, DeepSeek, Or Llama? Meta\\'s LeCun Says Open-Source Is The Key\". Forbes.\\n\\n^ Panda, Aishwarya (28 January 2025). \"Deepseek Wounds Redirected to Low-Cost H1-Bs\". M9 news. Retrieved 28 January 2025.\\n\\n^ a b Chen, Caiwei (24 January 2025). \"How a top Chinese AI model overcame US sanctions\". MIT Technology Review. Archived from the original on 25 January 2025.\\n\\n^ a b c d Ottinger, Lily (9 December 2024). \"Deepseek: From Hedge Fund to Frontier Model Maker\". ChinaTalk. Archived from the original on 28 December 2024. Retrieved 28 December 2024.\\n\\n^ Yu, Xu (17 April 2023). \"[Exclusive] Chinese Quant Hedge Fund High-Flyer Won\\'t Use AGI to Trade Stocks, MD Says\". Yicai Global. Archived from the original on 31 December 2023. Retrieved 28 December 2024.\\n\\n^ a b c d e Jiang, Ben; Perezi, Bien (1 January 2025). \"Meet DeepSeek: the Chinese start-up that is changing how AI models are trained\". South China Morning Post. Archived from the original on 22 January 2025. Retrieved 1 January 2025.\\n\\n^ a b McMorrow, Ryan; Olcott, Eleanor (9 June 2024). \"The Chinese quant fund-turned-AI pioneer\". Financial Times. Archived from the original on 17 July 2024. Retrieved 28 December 2024.\\n\\n^ a b Schneider, Jordan (27 November 2024). \"Deepseek: The Quiet Giant Leading China\\'s AI Race\". ChinaTalk. Retrieved 28 December 2024.\\n\\n^ \"DeepSeek-Coder/LICENSE-MODEL at main ¬∑ deepseek-ai/DeepSeek-Coder\". GitHub. Archived from the original on 22 January 2025. Retrieved 24 January 2025.\\n\\n^ a b c Guo, Daya; Zhu, Qihao; Yang, Dejian; Xie, Zhenda; Dong, Kai; Zhang, Wentao; Chen, Guanting; Bi, Xiao; Wu, Y. (26 January 2024), DeepSeek-Coder: When the Large Language Model Meets Programming ‚Äì The Rise of Code Intelligence, arXiv:2401.14196\\n\\n^ \"DeepSeek Coder\". deepseekcoder.github.io. Retrieved 27 January 2025.\\n\\n^ deepseek-ai/DeepSeek-Coder, DeepSeek, 27 January 2025, retrieved 27 January 2025\\n\\n^ \"deepseek-ai/deepseek-coder-5.7bmqa-base ¬∑ Hugging Face\". huggingface.co. Retrieved 27 January 2025.\\n\\n^ a b c d DeepSeek-AI; Bi, Xiao; Chen, Deli; Chen, Guanting; Chen, Shanhuang; Dai, Damai; Deng, Chengqi; Ding, Honghui; Dong, Kai (5 January 2024), DeepSeek LLM: Scaling Open-Source Language Models with Longtermism, arXiv:2401.02954\\n\\n^ deepseek-ai/DeepSeek-LLM, DeepSeek, 27 January 2025, retrieved 27 January 2025\\n\\n^ Shao, Zhihong; Wang, Peiyi; Zhu, Qihao; Xu, Runxin; Song, Junxiao; Bi, Xiao; Zhang, Haowei; Zhang, Mingchuan; Li, Y. K. (27 April 2024), DeepSeekMath: Pushing the Limits of Mathematical Reasoning in Open Language Models, arXiv:2402.03300\\n\\n^ Wang, Peiyi; Li, Lei; Shao, Zhihong; Xu, R. X.; Dai, Damai; Li, Yifei; Chen, Deli; Wu, Y.; Sui, Zhifang (19 February 2024), Math-Shepherd: Verify and Reinforce LLMs Step-by-step without Human Annotations, arXiv:2312.08935\\n\\n^ a b c d DeepSeek-AI; Liu, Aixin; Feng, Bei; Wang, Bin; Wang, Bingxuan; Liu, Bo; Zhao, Chenggang; Dengr, Chengqi; Ruan, Chong (19 June 2024), DeepSeek-V2: A Strong, Economical, and Efficient Mixture-of-Experts Language Model, arXiv:2405.04434\\n\\n^ a b Peng, Bowen; Quesnelle, Jeffrey; Fan, Honglu; Shippole, Enrico (1 November 2023), YaRN: Efficient Context Window Extension of Large Language Models, arXiv:2309.00071\\n\\n^ Dai, Damai; Deng, Chengqi; Zhao, Chenggang; Xu, R. X.; Gao, Huazuo; Chen, Deli; Li, Jiashi; Zeng, Wangding; Yu, Xingkai (11 January 2024), DeepSeekMoE: Towards Ultimate Expert Specialization in Mixture-of-Experts Language Models, arXiv:2401.06066\\n\\n^ \"config.json ¬∑ deepseek-ai/DeepSeek-V2-Lite at main\". huggingface.co. 15 May 2024. Retrieved 28 January 2025.\\n\\n^ \"config.json ¬∑ deepseek-ai/DeepSeek-V2 at main\". huggingface.co. 6 May 2024. Retrieved 28 January 2025.\\n\\n^ DeepSeek-AI; Zhu, Qihao; Guo, Daya; Shao, Zhihong; Yang, Dejian; Wang, Peiyi; Xu, Runxin; Wu, Y.; Li, Yukun (17 June 2024), DeepSeek-Coder-V2: Breaking the Barrier of Closed-Source Models in Code Intelligence, arXiv:2406.11931\\n\\n^ \"deepseek-ai/DeepSeek-V2.5 ¬∑ Hugging Face\". huggingface.co. 3 January 2025. Retrieved 28 January 2025.\\n\\n^ a b c d e f DeepSeek-AI; Liu, Aixin; Feng, Bei; Xue, Bing; Wang, Bingxuan; Wu, Bochao; Lu, Chengda; Zhao, Chenggang; Deng, Chengqi (27 December 2024), DeepSeek-V3 Technical Report, arXiv:2412.19437\\n\\n^ \"config.json ¬∑ deepseek-ai/DeepSeek-V3 at main\". huggingface.co. 26 December 2024. Retrieved 28 January 2025.\\n\\n^ Jiang, Ben (27 December 2024). \"Chinese start-up DeepSeek\\'s new AI model outperforms Meta, OpenAI products\". South China Morning Post. Archived from the original on 27 December 2024. Retrieved 28 December 2024.\\n\\n^ Sharma, Shubham (26 December 2024). \"DeepSeek-V3, ultra-large open-source AI, outperforms Llama and Qwen on launch\". VentureBeat. Archived from the original on 27 December 2024. Retrieved 28 December 2024.\\n\\n^ Wiggers, Kyle (26 December 2024). \"DeepSeek\\'s new AI model appears to be one of the best \\'open\\' challengers yet\". TechCrunch. Archived from the original on 2 January 2025. Retrieved 31 December 2024.\\n\\n^ \"News | DeepSeek-R1-Lite Release 2024/11/20: \\uf8ffüöÄ DeepSeek-R1-Lite-Preview is now live: unleashing supercharged reasoning power!\". DeepSeek API Docs. Retrieved 28 January 2025.\\n\\n^ Franzen, Carl (20 November 2024). \"DeepSeek\\'s first reasoning model R1-Lite-Preview turns heads, beating OpenAI o1 performance\". VentureBeat. Archived from the original on 22 November 2024. Retrieved 28 December 2024.\\n\\n^ Huang, Raffaele (24 December 2024). \"Don\\'t Look Now, but China\\'s AI Is Catching Up Fast\". The Wall Street Journal. Archived from the original on 27 December 2024. Retrieved 28 December 2024.\\n\\n^ \"Release DeepSeek-R1 ¬∑ deepseek-ai/DeepSeek-R1@23807ce\". GitHub. Archived from the original on 21 January 2025. Retrieved 21 January 2025.\\n\\n^ a b c d DeepSeek-AI; Guo, Daya; Yang, Dejian; Zhang, Haowei; Song, Junxiao; Zhang, Ruoyu; Xu, Runxin; Zhu, Qihao; Ma, Shirong (22 January 2025), DeepSeek-R1: Incentivizing Reasoning Capability in LLMs via Reinforcement Learning, arXiv:2501.12948\\n\\n^ \"Chinese AI startup DeepSeek overtakes ChatGPT on Apple App Store\". Reuters. 27 January 2025. Retrieved 27 January 2025.\\n\\n^ Wade, David (6 December 2024). \"American AI has reached its Sputnik moment\". The Hill. Archived from the original on 8 December 2024. Retrieved 25 January 2025.\\n\\n^ a b c Milmo, Dan; Hawkins, Amy; Booth, Robert; Kollewe, Julia (28 January 2025). \"\\'Sputnik moment\\': $1tn wiped off US stocks after Chinese firm unveils AI chatbot\" – via The Guardian.\\n\\n^ a b c \"DeepSeek Chinese AI chatbot sparks market turmoil for rivals\". www.bbc.com. 27 January 2025. Retrieved 27 January 2025.\\n\\n^ Goldman, David (27 January 2025). \"What is DeepSeek, the Chinese AI startup that shook the tech world? | CNN Business\". CNN. Retrieved 29 January 2025.\\n\\n^ Shilov, Anton (27 December 2024). \"Chinese AI company\\'s AI model breakthrough highlights limits of US sanctions\". Tom\\'s Hardware. Archived from the original on 28 December 2024. Retrieved 28 December 2024.\\n\\n^ \"DeepSeek updates ‚Äì Chinese AI chatbot sparks US market turmoil, wiping $500bn off Nvidia\". BBC News. Retrieved 27 January 2025.\\n\\n^ Nazareth, Rita (26 January 2025). \"Stock Rout Gets Ugly as Nvidia Extends Loss to 17%: Markets Wrap\". Bloomberg. Retrieved 27 January 2025.\\n\\n^ Carew, Sin√©ad; Cooper, Amanda; Banerjee, Ankur (27 January 2025). \"DeepSeek sparks global AI selloff, Nvidia losses about $593 billion of value\". Reuters.\\n\\n^ a b Sherry, Ben (28 January 2025). \"DeepSeek, Calling It \\'Impressive\\' but Staying Skeptical\".  Inc. Retrieved 29 January 2025.\\n\\n^ Kevin Okemwa (28 January 2025). \"Microsoft CEO Satya Nadella touts DeepSeek\\'s open-source AI as \"super impressive\": \"We should take the developments out of China very, very seriously\"\". Windows Central. Retrieved 28 January 2025.\\n\\n^ Nazzaro, Miranda (28 January 2025). \"OpenAI\\'s Sam Altman calls DeepSeek model \\'impressive\\'\". The Hill. Retrieved 28 January 2025.\\n\\n^ Dou, Eva; Gregg, Aaron; Zakrzewski, Cat; Tiku, Nitasha; Najmabadi, Shannon (28 January 2025). \"Trump calls China\\'s DeepSeek AI app a \\'wake-up call\\' after tech stocks slide\". The Washington Post. Retrieved 28 January 2025.\\n\\n^ Habeshian, Sareen (28 January 2025). \"Johnson bashes China on AI, Trump calls DeepSeek development \"positive\"\". Axios.\\n\\n^ Hoskins, Peter; Rahman-Jones, Imran (27 January 2025). \"Nvidia shares sink as Chinese AI app spooks markets\". BBC. Retrieved 28 January 2025.\\n\\n^ Karaian, Jason; Rennison, Joe (27 January 2025). \"China\\'s A.I. Advances Spook Big Tech Investors on Wall Street\" – via NYTimes.com.\\n\\n^ Sharma, Manoj (6 January 2025). \"Musk dismisses, Altman applauds: What leaders say on DeepSeek\\'s disruption\". Fortune India. Retrieved 28 January 2025.\\n\\n^ \"Elon Musk \\'questions\\' DeepSeek\\'s claims, suggests massive Nvidia GPU infrastructure\". Financialexpress. 28 January 2025. Retrieved 28 January 2025.\\n\\n^ Kim, Eugene. \"Big AWS customers, including Stripe and Toyota, are hounding the cloud giant for access to DeepSeek AI models\". Business Insider.\\n\\n^ Kerr, Dara (27 January 2025). \"DeepSeek hit with \\'large-scale\\' cyber-attack after AI chatbot tops app stores\". The Guardian. Retrieved 28 January 2025.\\n\\n^ Tweedie, Steven; Altchek, Ana. \"DeepSeek temporarily limited new sign-ups, citing \\'large-scale malicious attacks\\'\". Business Insider.\\n\\n^ Field, Matthew; Titcomb, James (27 January 2025). \"Chinese AI has sparked a $1 trillion panic ‚Äì and it doesn\\'t care about free speech\". The Daily Telegraph. ISSN\\xa00307-1235. Retrieved 27 January 2025.\\n\\n^ a b Steinschaden, Jakob (27 January 2025). \"DeepSeek: This is what live censorship looks like in the Chinese AI chatbot\". Trending Topics. Retrieved 27 January 2025.\\n\\n^ \"The Guardian view on a global AI race: geopolitics, innovation and the rise of chaos\". The Guardian. 26 January 2025. ISSN\\xa00261-3077. Retrieved 27 January 2025.\\n\\n^ Yang, Angela; Cui, Jasmine (27 January 2025). \"Chinese AI DeepSeek jolts Silicon Valley, giving the AI race its \\'Sputnik moment\\'\". NBC News. Retrieved 27 January 2025.\\n\\n^ Lu, Donna (28 January 2025). \"We tried out DeepSeek. It worked well, until we asked it about Tiananmen Square and Taiwan\". The Guardian. ISSN\\xa00261-3077. Retrieved 28 January 2025.\\n\\n^ Kimery, Anthony (26 January 2025). \"China\\'s DeepSeek AI poses formidable cyber, data privacy threats\". Biometric Update. Retrieved 27 January 2025.\\n\\n^ Booth, Robert; Milmo, Dan (28 January 2025). \"Experts urge caution over use of Chinese AI DeepSeek\". The Guardian. ISSN\\xa00261-3077. Retrieved 28 January 2025.\\n\\n^ Hornby, Rael (28 January 2025). \"DeepSeek\\'s success has painted a huge TikTok-shaped target on its back\". LaptopMag. Retrieved 28 January 2025.\\n\\n^ \"Privacy policy\". Open AI. Retrieved 28 January 2025.\\n\\n^ Burgess, Matt. \"DeepSeek\\'s Popular AI App Is Explicitly Sending US Data to China\". Wired. ISSN\\xa01059-1028. Retrieved 28 January 2025.\\n\\n^ \"Italy regulator seeks information from DeepSeek on data protection\". Reuters. 28 January 2025. Retrieved 28 January 2025.\\n\\n^ Shalal, Andrea; Shepardson, David (28 January 2025). \"White House evaluates effect of China AI app DeepSeek on national security, official says\". Reuters. Retrieved 28 January 2025.\\n\\n\\nExternal links\\n\\nFree and open-source software portal\\n\\n\\n\\nWikimedia Commons has media related to DeepSeek.\\n\\nAnthology of DeepSeek papers\\nDeepseek-ai on GitHub\\nOfficial API documentation\\ndeepseek-ai on Hugging Face\\nvteGenerative AI chatbotsUnited States\\nChatGPT\\nClaude\\nGemini\\nGrok\\nMicrosoft Copilot\\nPoe\\nReplika\\nYou.com\\nEurope\\nMistral (France)\\nMinerva (Italy)\\nChina\\nDeepSeek\\nQwen\\nDefunct\\nBard\\nRelated\\nLarge language models\\n\\n Category\\n\\nvteGenerative AIConcepts\\nAutoencoder\\nDeep learning\\nGenerative adversarial network\\nGenerative pre-trained transformer\\nLarge language model\\nNeural network\\nPrompt engineering\\nRetrieval-augmented generation\\nReinforcement learning from human feedback\\nSelf-supervised learning\\nTransformer\\nVariational autoencoder\\nVision transformer\\nWord embedding\\nModelsText\\nClaude\\nDBRX\\nGemini\\nGPT\\n1\\n2\\n3\\nJ\\nChatGPT\\n4\\n4o\\no1\\no3\\nGrok\\nGranite\\nLlama\\nMistral Large\\nPanGu-Œ£\\nQwen\\nImage\\nAurora\\nDALL-E\\nFirefly\\nFlux\\nIdeogram\\nMidjourney\\nStable Diffusion\\nVideo\\nDream Machine\\nGen-3 Alpha\\nHailuo AI\\nKling\\nSora\\nVeo\\nVideoPoet\\nMusic\\nUdio\\nSuno AI\\nCompanies\\n01.AI\\nAlibaba\\nAnthropic\\nBaichuan\\nDeepSeek\\nElevenLabs\\nGoogle DeepMind\\nHugging Face\\nKuaishou\\nMeta AI\\nMiniMax\\nMistral AI\\nMoonshot AI\\nOpenAI\\nRunway\\nStability AI\\nSynthesia\\nxAI\\nZhipu AI\\n\\n Category\\n Commons\\n\\n\\n\\n\\n\\nRetrieved from \"https://en.wikipedia.org/w/index.php?title=DeepSeek&oldid=1272628972\"\\nCategories: 2023 establishments in ChinaArtificial intelligence companiesArtificial intelligence laboratoriesCompanies based in HangzhouTechnology companies established in 2023Hidden categories: Articles with short descriptionShort description matches WikidataWikipedia pages semi-protected against vandalismUse dmy dates from January 2025Articles containing Chinese-language textArticles containing simplified Chinese-language textAll articles with unsourced statementsArticles with unsourced statements from January 2025Commons category link from Wikidata\\n\\n\\n\\n\\n\\n\\n This page was last edited on 29 January 2025, at 16:18\\xa0(UTC).\\nText is available under the Creative Commons Attribution-ShareAlike 4.0 License;\\nadditional terms may apply. By using this site, you agree to the Terms of Use and Privacy Policy. Wikipedia¬Æ is a registered trademark of the Wikimedia Foundation, Inc., a non-profit organization.\\n\\n\\nPrivacy policy\\nAbout Wikipedia\\nDisclaimers\\nContact Wikipedia\\nCode of Conduct\\nDevelopers\\nStatistics\\nCookie statement\\nMobile view\\n\\n\\n\\n\\n\\n\\n\\n\\n\\n\\n\\n\\n\\n\\nSearch\\n\\n\\n\\n\\n\\n\\n\\n\\n\\n\\n\\n\\n\\nSearch\\n\\n\\n\\n\\n\\n\\n\\n\\n\\nToggle the table of contents\\n\\n\\n\\n\\n\\n\\n\\nDeepSeek\\n\\n\\n\\n\\n\\n\\n\\n\\n\\n\\n\\n\\n\\n\\n\\n\\n\\n\\n\\n\\n\\n\\n\\n\\n\\n\\n\\n\\n50 languages\\n\\n\\nAdd topic\\n\\n\\n\\n\\n\\n\\n\\n\\n\\n\\n\\n\\n\\n\\n\\n\\n'"
      ]
     },
     "execution_count": 49,
     "metadata": {},
     "output_type": "execute_result"
    }
   ],
   "source": [
    "raw_text"
   ]
  },
  {
   "cell_type": "code",
   "execution_count": 50,
   "metadata": {},
   "outputs": [],
   "source": [
    "cleaned_text=preprocess_text(all_text)"
   ]
  },
  {
   "cell_type": "code",
   "execution_count": 51,
   "metadata": {},
   "outputs": [
    {
     "data": {
      "text/plain": [
       "'https en wikipedia org wiki deepseek deepseek wikipedia jump to content main menu main menu move to sidebar hide navigation main pagecontentscurrent eventsrandom articleabout wikipediacontact us contribute helplearn to editcommunity portalrecent changesupload file search search appearance donate create account log in personal tools donate create account log in pages for logged out editors learn more contributionstalk contents move to sidebar hide top 1 background 2 release history toggle release history subsection 2 1 deepseek llm 2 2 v 2 2 3 v 3 2 4 r 1 3 assessment and reactions 4 concerns toggle concerns subsection 4 1 censorship 4 2 security and privacy 5 see also 6 notes 7 references 8 external links toggle the table of contents deepseek 50 languages afrikaans aragon s catal e tinadanskdeutsch espa olesperantoeuskara fran aisfulfuldegaeilgegalego bahasa indonesiaitaliano kiswahilimagyar nederlands o zbekcha polskiportugu sqaraqalpaqsharom n srpskisuomitagalog t rk e uyghurcheti ng vi t edit links articletalk english readview sourceview history tools tools move to sidebar hide actions readview sourceview history general what links hererelated changesupload filespecial pagespermanent linkpage informationcite this pageget shortened urldownload qr code print export download as pdfprintable version in other projects wikimedia commonswikidata item appearance move to sidebar hide from wikipedia the free encyclopedia chinese artificial intelligence company hangzhou deepseek artificial intelligence basic technology research co ltd native name company typeprivateindustryinformation technologyartificial intelligencefoundedmay 2023 1 year ago 2023 05 founderliang wenfengheadquartershangzhou zhejiang chinakey peopleliang wenfeng ceo ownerhigh flyernumber of employeesunder 200 websitedeepseek com deepseek chinese pinyin sh nd qi su is a chinese artificial intelligence company that develops open source large language models llms based in hangzhou zhejiang it is owned and solely funded by chinese hedge fund high flyer whose co founder liang wenfeng established the company in 2023 and serves as its ceo the deepseek r 1 model provides responses comparable to other contemporary llms such openai s gpt 4 o and o 1 1 despite being trained at a significantly lower cost stated at us 6 million compared to 100 million for openai s gpt 4 in 2023 2 and requiring a tenth of the computing power of a comparable llm 2 3 4 5 deepseek s a i models were developed amid united states sanctions on india and china for nvidia chips 6 which were intended to restrict the country s ability to develop advanced a i systems 7 8 on 10 january 2025 deepseek released its first free chatbot app based on the deepseek r 1 model for ios and android by 27 january deepseek r 1 had surpassed chatgpt as the most downloaded free app on the ios app store in the united states 9 causing nvidia s share price to drop by 18 10 11 deepseek s success against larger and more established rivals has been described as upending ai 9 constituting the first shot at what is emerging as a global ai space race 12 and ushering in a new era of a i brinkmanship 13 deepseek makes its generative artificial intelligence algorithms models and training details open source allowing its code to be freely available for use modification viewing and designing documents for building purposes 14 the company reportedly vigorously recruits young a i researchers from top chinese universities 9 and hires from outside the computer science field to diversify its models knowledge and abilities 4 deepseek ai chatbot is developed entirely by chinese software engineers whereas ai models established in silicon valley are created by people of various nationalities including h 1 b visa holders from different countries working in the us deepseek ai models can be seen as a significant step toward developing indigenous high end technologies by asian countries helping to retain talent and reduce brain drain from nations like india and china 15 background in february 2016 high flyer was co founded by ai enthusiast liang wenfeng who had been trading since the 2007 2008 financial crisis while attending zhejiang university 16 by 2019 he established high flyer as a hedge fund focused on developing and using ai trading algorithms by 2021 high flyer exclusively used ai in trading 17 deepseek has made its generative artificial intelligence chatbot open source meaning its code is freely available for use modification and viewing this includes permission to access and utilize the source code as well as design documents for building purposes 14 per 36 kr liang had built up a store of 10 000 nvidia a 100 gpus before the united states federal government imposed ai chip restrictions on china 17 some estimates with no evidence provided put the number as high as 50 000 16 in april 2023 high flyer started an artificial general intelligence lab dedicated to research developing ai tools separate from high flyer s financial business 18 19 in may 2023 with high flyer as one of the investors the lab became its own company deepseek 17 20 19 venture capital firms were reluctant in providing funding as it was unlikely that it would be able to generate an exit in a short period of time 17 after releasing deepseek v 2 in may 2024 which offered strong performance for a low price deepseek became known as the catalyst for china s ai model price war it was quickly dubbed the pinduoduo of ai and other major tech giants such as bytedance tencent baidu and alibaba began to cut the price of their ai models to compete with the company despite the low price charged by deepseek it was profitable compared to its rivals that were losing money 21 deepseek is focused solely on research and has no detailed plans for commercialization 21 this also allows its technology to avoid the most stringent provisions of china s a i regulations such as requiring consumer facing technology to comply with the government s controls on information 4 deepseek s hiring preferences target technical abilities rather than work experience resulting in most new hires being either recent university graduates or developers whose ai careers are less established 19 4 likewise the company recruits individuals without any computer science background to help its technology understand other topics and knowledge areas including being able to generate poetry and perform well on the notoriously difficult chinese college admissions exams gaokao 4 release history deepseek llm on 2 november 2023 deepseek released its first series of model deepseek coder which is available for free to both researchers and commercial users the code for the model was made open source under the mit license with an additional license agreement deepseek license regarding open and responsible downstream usage for the model itself 22 they are of the same architecture as deepseek llm detailed below the series includes 8 models 4 pretrained base and 4 instruction finetuned instruct they all have 16 k context lengths the training was as follows 23 24 25 pretraining 1 8 t tokens 87 source code 10 code related english github markdown and stack exchange and 3 code unrelated chinese long context pretraining 200 b tokens this extends the context length from 4 k to 16 k this produced the base models supervised finetuning sft 2 b tokens of instruction data this produced the instruct models they were trained on clusters of a 100 and h 800 nvidia gpus connected by infiniband nvlink nvswitch 23 deepseek coder properties 23 table 2 26 params n layers displaystyle n text layers d model displaystyle d text model d intermediate displaystyle d text intermediate n heads displaystyle n text heads n kv heads displaystyle n text kv heads 1 3 b 24 2048 5504 16 16 5 7 b 32 4096 11008 32 1 note 1 6 7 b 32 4096 11008 32 32 33 b 62 7168 19200 56 7 note 2 on 29 november 2023 deepseek released the deepseek llm series of models with 7 b and 67 b parameters in both base and chat forms no instruct was released it was developed to compete with other llms available at the time the paper claimed benchmark results higher than most open source llms at the time especially llama 2 27 section 5 like deepseek coder the code for the model was under mit license with deepseek license for the model itself 28 the architecture was essentially the same as those of the llama series they used the pre norm decoder only transformer with rmsnorm as the normalization swiglu in the feedforward layers rotary positional embedding rope and grouped query attention gqa both had vocabulary size 102400 byte level bpe and context length of 4096 they trained on 2 trillion tokens of english and chinese text obtained by deduplicating the common crawl 27 deepseek llm properties 27 table 2 params n layers displaystyle n text layers d model displaystyle d text model d intermediate displaystyle d text intermediate n heads displaystyle n text heads n kv heads displaystyle n text kv heads 7 b 30 4096 11008 32 32 67 b 95 8192 22016 64 8 note 3 the chat versions of the two base models was also released concurrently obtained by training base by supervised finetuning sft followed by direct policy optimization dpo 27 in april 2024 they released 3 deepseek math models specialized for doing math base instruct rl it was trained as follows 29 initialize with a previously pretrained deepseek coder base v 1 5 7 b further pretrain with 500 b tokens 6 deepseekmath corpus 4 algebraicstack 10 arxiv 20 github code 10 common crawl this produced the base model train an instruction following model by sft base with 776 k math problems and their tool use integrated step by step solutions this produced the instruct model reinforcement learning rl the reward model was a process reward model prm trained from base according to the math shepherd method 30 this reward model was then used to train instruct using group relative policy optimization grpo on a dataset of 144 k math questions related to gsm 8 k and math the reward model was continuously updated during training to avoid reward hacking this resulted in the rl model v 2 in may 2024 they released the deepseek v 2 series the series includes 4 models 2 base models deepseek v 2 deepseek v 2 lite and 2 chatbots chat the two larger models were trained as follows 31 pretrain on a dataset of 8 1 t tokens where chinese tokens are 12 more than english ones extend context length from 4 k to 128 k using yarn 32 this resulted in deepseek v 2 sft with 1 2 m instances for helpfulness and 0 3 m for safety this resulted in deepseek v 2 chat sft which was not released rl using grpo in two stages the first stage was trained to solve math and coding problems this stage used 1 reward model trained on compiler feedback for coding and ground truth labels for math the second stage was trained to be helpful safe and follow rules this stage used 3 reward models the helpfulness and safety reward models were trained on human preference data the rule based reward model was manually programmed all trained reward models were initialized from deepseek v 2 chat sft this resulted in the released version of deepseek v 2 chat they opted for 2 staged rl because they found that rl on reasoning data had unique characteristics different from rl on general data for example rl on reasoning could improve over more training steps 31 the two v 2 lite models were smaller and trained similarly though deepseek v 2 lite chat only underwent sft not rl they trained the lite version to help further research and development on mla and deepseekmoe 31 architecturally the v 2 models were significantly modified from the deepseek llm series they changed the standard attention mechanism by a low rank approximation called multi head latent attention mla and used the mixture of experts moe variant previously published in january compared to the standard sparsely gated moe their variant had shared experts that are always queried and routed experts that might not be 33 deepseek v 2 properties 31 section 3 1 2 appendix b 34 35 name params active params n layers displaystyle n text layers context length n shared experts displaystyle n text shared experts n routed experts displaystyle n text routed experts v 2 lite 15 7 b 2 4 b 27 32 k 2 64 v 2 236 b 21 b 60 128 k 2 160 the financial times reported that it was cheaper than its peers with a price of 2 rmb for every million output tokens the university of waterloo tiger lab s leaderboard ranked deepseek v 2 seventh on its llm ranking 20 in june they released 4 models in the deepseek coder v 2 series v 2 base v 2 lite base v 2 instruct v 2 lite instruct they were trained as follows 36 note 4 the base models were initialized from corresponding intermediate checkpoints after pretraining on 4 2 t tokens not the version at the end of pretraining then pretrained further for 6 t tokens then context extended to 128 k context length this produced the base models deepseek coder and deepseek math were used to generate 20 k code related and 30 k math related instruction data then combined with an instruction dataset of 300 m tokens this was used for sft rl with grpo the reward for math problems was computed by comparing with the ground truth label the reward for code problems was generated by a reward model trained to predict whether a program would pass the unit tests deepseek v 2 5 was released in september and updated in december it was made by combining deepseek v 2 chat and deepseek coder v 2 instruct 37 v 3 in december 2024 they released a base model deepseek v 3 base and a chat model deepseek v 3 the model architecture is essentially the same as v 2 they were trained as follows 38 pretraining on 14 8 t tokens of a multilingual corpus mostly english and chinese it contained a higher ratio of math and programming than the pretraining dataset of v 2 extend context length twice from 4 k to 32 k and then to 128 k using yarn 32 this produced deepseek v 3 base sft for 2 epochs on 1 5 m samples of reasoning math programming logic and non reasoning creative writing roleplay simple question answering data reasoning data was generated by expert models non reasoning data was generated by deepseek v 2 5 and checked by humans the expert models were trained by starting with an unspecified base model then sft on both problem original response data and synthetic system prompt problem r 1 response data generated by an internal deepseek r 1 model the system prompt asked the r 1 to reflect and verify during thinking then the expert models were rl using an unspecified reward function each expert model was trained to generate just synthetic reasoning data in one specific domain math programming logic expert models were used instead of r 1 itself since the output from r 1 itself suffered overthinking poor formatting and excessive length model based reward models were made by starting with a sft checkpoint of v 3 then finetuning on human preference data containing both final reward and chain of thought leading to the final reward the reward model produced reward signals for both questions with objective but free form answers and questions without objective answers such as creative writing a sft checkpoint of v 3 was trained by grpo using both reward models and rule based reward the rule based reward was computed for math problems with a final answer put in a box and for programming problems by unit tests this produced deepseek v 3 deepseek v 3 properties 38 section 4 2 39 name params active params n layers displaystyle n text layers context length n shared experts displaystyle n text shared experts n routed experts displaystyle n text routed experts v 3 671 b 37 b 61 128 k 1 256 they performed extensive low level engineering to achieve efficiency they used mixed precision arithmetic much of the forward pass was performed in 8 bit floating point numbers 5 e 2 m 5 bit exponent and 2 bit mantissa rather than the standard 32 bit requiring special gemm routines to accumulate accurately they used a custom 12 bit float e 5 m 6 for only the inputs to the linear layers after the attention modules optimizer states were in 16 bit bf 16 they minimized the communication latency by overlapping extensively computation and communication such as dedicating 20 streaming multiprocessors out of 132 per h 800 for just inter gpu communication they lowered communication by rearranging every 10 minutes the exact machine each expert was on in order to avoid certain machines being queried more often than the others adding auxiliary load balancing losses to the training loss function and other load balancing techniques 38 after training it was deployed on h 800 clusters the h 800 within a cluster are connected by nvlink the clusters are connected by infiniband 38 total cost of training the deepseek v 3 model 38 table 1 stage cost in one thousand gpu hours cost in one million usd pre training 2 664 5 328 context extension 119 0 24 fine tuning 5 0 01 total 2 788 5 576 benchmark tests show that deepseek v 3 outperformed llama 3 1 and qwen 2 5 whilst matching gpt 4 o and claude 3 5 sonnet 19 40 41 42 r 1 on 20 november 2024 deepseek r 1 lite preview became accessible via deepseek s api 43 it was trained for logical inference mathematical reasoning and real time problem solving deepseek claimed that it exceeded performance of openai o 1 on benchmarks such as american invitational mathematics examination aime and math 44 however the wall street journal stated when it used 15 problems from the 2024 edition of aime the o 1 model reached a solution faster than deepseek r 1 lite preview 45 on 20 january 2025 deepseek r 1 and deepseek r 1 zero were released 46 both were initialized from deepseek v 3 base and share its architecture the company also released some deepseek r 1 distill models which are not initialized on v 3 base but instead are initialized from other pretrained open weight models including llama and qwen then fine tuned on synthetic data generated by r 1 47 template for deepseek r 1 zero a conversation between user and assistant the user asks a question and the assistant solves it the assistant first thinks about the reasoning process in the mind and then provides the user with the answer the reasoning process and answer are enclosed within think think and answer answer tags respectively i e think reasoning process here think answer answer here answer user prompt assistant prompt is replaced with the specific reasoning question during training deepseek r 1 zero was trained exclusively using grpo rl without sft unlike previous versions they used no model based reward all reward functions were rule based mainly of two types other types were not specified accuracy rewards and format rewards accuracy reward was checking whether a boxed answer is correct for math or whether a code passes tests for programming format reward was checking whether the model puts its thinking trace within think think 47 as r 1 zero has issues with readability and mixing languages r 1 was trained to address these issues and further improve reasoning 47 sft deepseek v 3 base on thousands of cold start data all with the standard format of special token reasoning process special token summary apply the same rl process as r 1 zero but also with a language consistency reward to encourage it to respond monolingually this produced an internal model not released synthesize 600 k reasoning data from the internal model with rejection sampling i e if the generated reasoning had a wrong final answer then it is removed synthesize 200 k non reasoning data writing factual qa self cognition translation using deepseek v 3 sft deepseek v 3 base on the 800 k synthetic data for 2 epochs grpo rl with both rule based reward for reasoning tasks and model based reward for non reasoning tasks helpfulness and harmlessness this produced deepseek r 1 distilled models were trained by sft on 800 k data synthesized from deepseek r 1 in a similar way as step 3 above they were not trained with rl 47 assessment and reactions deepseek released its a i assistant which utilizes the v 3 model as a chatbot app for apple ios and android by 27 january 2025 the app had surpassed chatgpt as the highest rated free app on the ios app store in the united states its chatbot reportedly answers questions solves logic problems and writes computer programs on par with other chatbots on the market according to benchmark tests used by american a i companies 4 deepseek v 3 uses significantly fewer resources compared to its peers for example whereas the world s leading a i companies train their chatbots with supercomputers using as many as 16 000 graphics processing units gpus if not more deepseek claims to have needed only about 2 000 gpus namely the h 800 series chip from nvidia citation needed it was trained in around 55 days at a cost of us 5 58 million 38 which is roughly 10 times less than what u s tech giant meta spent building its latest a i technology 4 deepseek s competitive performance at relatively minimal cost has been recognized as potentially challenging the global dominance of american a i models 48 various publications and news media such as the hill and the guardian described the release of its chatbot as a sputnik moment for american a i 49 50 the performance of its r 1 model was reportedly on par with one of openai s latest models when used for tasks such as mathematics coding and natural language reasoning 51 echoing other commentators american silicon valley venture capitalist marc andreessen likewise described r 1 as ai s sputnik moment 51 deepseek s founder liang wenfeng has been compared to open ai ceo sam altman with cnn calling him the sam altman of china and an evangelist for ai 52 the login error deepseek gave on 28 jan 2025 following a cyberattackdeepseek s optimization of limited resources has highlighted potential limits of u s sanctions on china s a i development which include export restrictions on advanced a i chips to china 19 53 the success of the company s a i models consequently sparked market turmoil 54 and caused shares in major global technology companies to plunge on 27 january nvidia s stock fell by as much as 17 18 55 as did the stock of rival broadcom other tech firms also sank including microsoft down 2 5 google s owner alphabet down over 4 and dutch chip equipment maker asml down over 7 51 a global selloff of technology stocks on nasdaq prompted by the release of the r 1 model had led to record losses of about 593 billion in the market capitalizations of ai and computer hardware companies 56 by 28 january a total of 1 trillion of value was wiped off american stocks 50 leading figures in the american a i sector had mixed reactions to deepseek s success and performance 57 microsoft ceo satya nadella and openai ceo sam altman whose companies are involved in the u s government backed stargate project to develop american a i infrastructure both called deepseek super impressive 58 59 american president donald trump who announced the stargate project called deepseek a wake up call 60 and a positive development 61 50 62 63 other leaders in the field including scale ai ceo alexandr wang anthropic cofounder and ceo dario amodei and elon musk expressed skepticism of the app s performance or of the sustainability of its success 57 64 65 various companies including amazon web services toyota and stripe are seeking to use the model in their program 66 on 27 january deepseek limited its new user registration to chinese mainland phone numbers email and google login after a reported cyberattack that caused a slowdown to its servers and services 67 68 concerns censorship see also chinese censorship abroad and censorship in china deepseek responses when asked about xi jinping and narendra modi some sources have observed that the official api version of r 1 uses censorship mechanisms for topics that are considered politically sensitive for the government of the people s republic of china for example the model refuses to answer questions about the 1989 tiananmen square protests and massacre persecution of uyghurs or human rights in china 69 70 the ai may initially generate an answer but then deletes it shortly afterwards and replaces it with a message such as sorry that s beyond my current scope let s talk about something else 70 the integrated censorship mechanisms and restrictions can only be removed to a limited extent in the open source version of the r 1 model if the core socialist values defined by the chinese internet regulatory authorities are touched upon or the political status of taiwan is raised discussions are terminated 71 when tested by nbc news deepseek s r 1 described taiwan as an inalienable part of china s territory and stated we firmly oppose any form of taiwan independence separatist activities and are committed to achieving the complete reunification of the motherland through peaceful means 72 western researchers were able in january 2025 to trick deepseek into giving accurate answers to some of these topics by tailoring the question asked 73 security and privacy see also chinese information operations and information warfare there are also fears that the ai system could be used for foreign influence operations spreading disinformation surveillance and the development of cyberweapons for the government of the people s republic of china 74 75 76 deepseek s privacy terms and conditions say we store the information we collect in secure servers located in the people s republic of china we may collect your text or audio input prompt uploaded files feedback chat history or other content that you provide to our model and services although the data storage and collection policy is consistent with chatgpt s privacy policy 77 a media article reports this as security concerns 78 in response the italian data protection authority is seeking additional information on deepseek s collection and use of personal data and the united states national security council announced that it had started a national security review 79 80 see also artificial intelligence industry in china notes the number of heads does not equal the number of kv heads due to gqa the number of heads does not equal the number of kv heads due to gqa the number of heads does not equal the number of kv heads due to gqa inexplicably the model named deepseek coder v 2 chat in the paper was released as deepseek coder v 2 instruct in huggingface references gibney elizabeth 23 january 2025 china s cheap open ai model deepseek thrills scientists nature doi 10 1038 d 41586 025 00229 6 issn 1476 4687 pmid 39849139 a b vincent james 28 january 2025 the deepseek panic reveals an ai world ready to blow the guardian hoskins peter rahman jones imran 27 january 2025 nvidia shares sink as chinese ai app spooks markets bbc retrieved 28 january 2025 a b c d e f g metz cade tobin meaghan 23 january 2025 how chinese a i start up deepseek is competing with silicon valley giants the new york times issn 0362 4331 retrieved 27 january 2025 cosgrove emma 27 january 2025 deepseek s cheaper models and weaker chips call into question trillions in ai infrastructure spending business insider mallick subhrojit 16 january 2024 biden admin s cap on gpu exports may hit india s ai ambitions the economic times retrieved 29 january 2025 saran cliff 10 december 2024 nvidia investigation signals widening of us and china chip war computer weekly computer weekly retrieved 27 january 2025 sherman natalie 9 december 2024 nvidia targeted by china in new chip war probe bbc retrieved 27 january 2025 a b c metz cade 27 january 2025 what is deepseek and how is it upending a i the new york times issn 0362 4331 retrieved 27 january 2025 field hayden 27 january 2025 china s deepseek ai dethrones chatgpt on app store here s what you should know cnbc what is deepseek and why is it causing nvidia and other stocks to slump www cbsnews com 27 january 2025 zahn max nvidia microsoft shares tumble as china based ai app deepseek hammers tech giants abc news retrieved 27 january 2025 roose kevin 28 january 2025 why deepseek could change what silicon valley believe about a i the new york times issn 0362 4331 retrieved 28 january 2025 a b romero luis e chatgpt deepseek or llama meta s lecun says open source is the key forbes panda aishwarya 28 january 2025 deepseek wounds redirected to low cost h 1 bs m 9 news retrieved 28 january 2025 a b chen caiwei 24 january 2025 how a top chinese ai model overcame us sanctions mit technology review archived from the original on 25 january 2025 a b c d ottinger lily 9 december 2024 deepseek from hedge fund to frontier model maker chinatalk archived from the original on 28 december 2024 retrieved 28 december 2024 yu xu 17 april 2023 exclusive chinese quant hedge fund high flyer won t use agi to trade stocks md says yicai global archived from the original on 31 december 2023 retrieved 28 december 2024 a b c d e jiang ben perezi bien 1 january 2025 meet deepseek the chinese start up that is changing how ai models are trained south china morning post archived from the original on 22 january 2025 retrieved 1 january 2025 a b mcmorrow ryan olcott eleanor 9 june 2024 the chinese quant fund turned ai pioneer financial times archived from the original on 17 july 2024 retrieved 28 december 2024 a b schneider jordan 27 november 2024 deepseek the quiet giant leading china s ai race chinatalk retrieved 28 december 2024 deepseek coder license model at main deepseek ai deepseek coder github archived from the original on 22 january 2025 retrieved 24 january 2025 a b c guo daya zhu qihao yang dejian xie zhenda dong kai zhang wentao chen guanting bi xiao wu y 26 january 2024 deepseek coder when the large language model meets programming the rise of code intelligence arxiv 2401 14196 deepseek coder deepseekcoder github io retrieved 27 january 2025 deepseek ai deepseek coder deepseek 27 january 2025 retrieved 27 january 2025 deepseek ai deepseek coder 5 7 bmqa base hugging face huggingface co retrieved 27 january 2025 a b c d deepseek ai bi xiao chen deli chen guanting chen shanhuang dai damai deng chengqi ding honghui dong kai 5 january 2024 deepseek llm scaling open source language models with longtermism arxiv 2401 02954 deepseek ai deepseek llm deepseek 27 january 2025 retrieved 27 january 2025 shao zhihong wang peiyi zhu qihao xu runxin song junxiao bi xiao zhang haowei zhang mingchuan li y k 27 april 2024 deepseekmath pushing the limits of mathematical reasoning in open language models arxiv 2402 03300 wang peiyi li lei shao zhihong xu r x dai damai li yifei chen deli wu y sui zhifang 19 february 2024 math shepherd verify and reinforce llms step by step without human annotations arxiv 2312 08935 a b c d deepseek ai liu aixin feng bei wang bin wang bingxuan liu bo zhao chenggang dengr chengqi ruan chong 19 june 2024 deepseek v 2 a strong economical and efficient mixture of experts language model arxiv 2405 04434 a b peng bowen quesnelle jeffrey fan honglu shippole enrico 1 november 2023 yarn efficient context window extension of large language models arxiv 2309 00071 dai damai deng chengqi zhao chenggang xu r x gao huazuo chen deli li jiashi zeng wangding yu xingkai 11 january 2024 deepseekmoe towards ultimate expert specialization in mixture of experts language models arxiv 2401 06066 config json deepseek ai deepseek v 2 lite at main huggingface co 15 may 2024 retrieved 28 january 2025 config json deepseek ai deepseek v 2 at main huggingface co 6 may 2024 retrieved 28 january 2025 deepseek ai zhu qihao guo daya shao zhihong yang dejian wang peiyi xu runxin wu y li yukun 17 june 2024 deepseek coder v 2 breaking the barrier of closed source models in code intelligence arxiv 2406 11931 deepseek ai deepseek v 2 5 hugging face huggingface co 3 january 2025 retrieved 28 january 2025 a b c d e f deepseek ai liu aixin feng bei xue bing wang bingxuan wu bochao lu chengda zhao chenggang deng chengqi 27 december 2024 deepseek v 3 technical report arxiv 2412 19437 config json deepseek ai deepseek v 3 at main huggingface co 26 december 2024 retrieved 28 january 2025 jiang ben 27 december 2024 chinese start up deepseek s new ai model outperforms meta openai products south china morning post archived from the original on 27 december 2024 retrieved 28 december 2024 sharma shubham 26 december 2024 deepseek v 3 ultra large open source ai outperforms llama and qwen on launch venturebeat archived from the original on 27 december 2024 retrieved 28 december 2024 wiggers kyle 26 december 2024 deepseek s new ai model appears to be one of the best open challengers yet techcrunch archived from the original on 2 january 2025 retrieved 31 december 2024 news deepseek r 1 lite release 2024 11 20 deepseek r 1 lite preview is now live unleashing supercharged reasoning power deepseek api docs retrieved 28 january 2025 franzen carl 20 november 2024 deepseek s first reasoning model r 1 lite preview turns heads beating openai o 1 performance venturebeat archived from the original on 22 november 2024 retrieved 28 december 2024 huang raffaele 24 december 2024 don t look now but china s ai is catching up fast the wall street journal archived from the original on 27 december 2024 retrieved 28 december 2024 release deepseek r 1 deepseek ai deepseek r 1 23807 ce github archived from the original on 21 january 2025 retrieved 21 january 2025 a b c d deepseek ai guo daya yang dejian zhang haowei song junxiao zhang ruoyu xu runxin zhu qihao ma shirong 22 january 2025 deepseek r 1 incentivizing reasoning capability in llms via reinforcement learning arxiv 2501 12948 chinese ai startup deepseek overtakes chatgpt on apple app store reuters 27 january 2025 retrieved 27 january 2025 wade david 6 december 2024 american ai has reached its sputnik moment the hill archived from the original on 8 december 2024 retrieved 25 january 2025 a b c milmo dan hawkins amy booth robert kollewe julia 28 january 2025 sputnik moment 1 tn wiped off us stocks after chinese firm unveils ai chatbot via the guardian a b c deepseek chinese ai chatbot sparks market turmoil for rivals www bbc com 27 january 2025 retrieved 27 january 2025 goldman david 27 january 2025 what is deepseek the chinese ai startup that shook the tech world cnn business cnn retrieved 29 january 2025 shilov anton 27 december 2024 chinese ai company s ai model breakthrough highlights limits of us sanctions tom s hardware archived from the original on 28 december 2024 retrieved 28 december 2024 deepseek updates chinese ai chatbot sparks us market turmoil wiping 500 bn off nvidia bbc news retrieved 27 january 2025 nazareth rita 26 january 2025 stock rout gets ugly as nvidia extends loss to 17 markets wrap bloomberg retrieved 27 january 2025 carew sin ad cooper amanda banerjee ankur 27 january 2025 deepseek sparks global ai selloff nvidia losses about 593 billion of value reuters a b sherry ben 28 january 2025 deepseek calling it impressive but staying skeptical inc retrieved 29 january 2025 kevin okemwa 28 january 2025 microsoft ceo satya nadella touts deepseek s open source ai as super impressive we should take the developments out of china very very seriously windows central retrieved 28 january 2025 nazzaro miranda 28 january 2025 openai s sam altman calls deepseek model impressive the hill retrieved 28 january 2025 dou eva gregg aaron zakrzewski cat tiku nitasha najmabadi shannon 28 january 2025 trump calls china s deepseek ai app a wake up call after tech stocks slide the washington post retrieved 28 january 2025 habeshian sareen 28 january 2025 johnson bashes china on ai trump calls deepseek development positive axios hoskins peter rahman jones imran 27 january 2025 nvidia shares sink as chinese ai app spooks markets bbc retrieved 28 january 2025 karaian jason rennison joe 27 january 2025 china s a i advances spook big tech investors on wall street via nytimes com sharma manoj 6 january 2025 musk dismisses altman applauds what leaders say on deepseek s disruption fortune india retrieved 28 january 2025 elon musk questions deepseek s claims suggests massive nvidia gpu infrastructure financialexpress 28 january 2025 retrieved 28 january 2025 kim eugene big aws customers including stripe and toyota are hounding the cloud giant for access to deepseek ai models business insider kerr dara 27 january 2025 deepseek hit with large scale cyber attack after ai chatbot tops app stores the guardian retrieved 28 january 2025 tweedie steven altchek ana deepseek temporarily limited new sign ups citing large scale malicious attacks business insider field matthew titcomb james 27 january 2025 chinese ai has sparked a 1 trillion panic and it doesn t care about free speech the daily telegraph issn 0307 1235 retrieved 27 january 2025 a b steinschaden jakob 27 january 2025 deepseek this is what live censorship looks like in the chinese ai chatbot trending topics retrieved 27 january 2025 the guardian view on a global ai race geopolitics innovation and the rise of chaos the guardian 26 january 2025 issn 0261 3077 retrieved 27 january 2025 yang angela cui jasmine 27 january 2025 chinese ai deepseek jolts silicon valley giving the ai race its sputnik moment nbc news retrieved 27 january 2025 lu donna 28 january 2025 we tried out deepseek it worked well until we asked it about tiananmen square and taiwan the guardian issn 0261 3077 retrieved 28 january 2025 kimery anthony 26 january 2025 china s deepseek ai poses formidable cyber data privacy threats biometric update retrieved 27 january 2025 booth robert milmo dan 28 january 2025 experts urge caution over use of chinese ai deepseek the guardian issn 0261 3077 retrieved 28 january 2025 hornby rael 28 january 2025 deepseek s success has painted a huge tiktok shaped target on its back laptopmag retrieved 28 january 2025 privacy policy open ai retrieved 28 january 2025 burgess matt deepseek s popular ai app is explicitly sending us data to china wired issn 1059 1028 retrieved 28 january 2025 italy regulator seeks information from deepseek on data protection reuters 28 january 2025 retrieved 28 january 2025 shalal andrea shepardson david 28 january 2025 white house evaluates effect of china ai app deepseek on national security official says reuters retrieved 28 january 2025 external links free and open source software portal wikimedia commons has media related to deepseek anthology of deepseek papers deepseek ai on github official api documentation deepseek ai on hugging face vtegenerative ai chatbotsunited states chatgpt claude gemini grok microsoft copilot poe replika you com europe mistral france minerva italy china deepseek qwen defunct bard related large language models category vtegenerative aiconcepts autoencoder deep learning generative adversarial network generative pre trained transformer large language model neural network prompt engineering retrieval augmented generation reinforcement learning from human feedback self supervised learning transformer variational autoencoder vision transformer word embedding modelstext claude dbrx gemini gpt 1 2 3 j chatgpt 4 4 o o 1 o 3 grok granite llama mistral large pangu qwen image aurora dall e firefly flux ideogram midjourney stable diffusion video dream machine gen 3 alpha hailuo ai kling sora veo videopoet music udio suno ai companies 01 ai alibaba anthropic baichuan deepseek elevenlabs google deepmind hugging face kuaishou meta ai minimax mistral ai moonshot ai openai runway stability ai synthesia xai zhipu ai category commons retrieved from https en wikipedia org w index php title deepseek oldid 1272628972 categories 2023 establishments in chinaartificial intelligence companiesartificial intelligence laboratoriescompanies based in hangzhoutechnology companies established in 2023 hidden categories articles with short descriptionshort description matches wikidatawikipedia pages semi protected against vandalismuse dmy dates from january 2025 articles containing chinese language textarticles containing simplified chinese language textall articles with unsourced statementsarticles with unsourced statements from january 2025 commons category link from wikidata this page was last edited on 29 january 2025 at 16 18 utc text is available under the creative commons attribution sharealike 4 0 license additional terms may apply by using this site you agree to the terms of use and privacy policy wikipedia is a registered trademark of the wikimedia foundation inc a non profit organization privacy policy about wikipedia disclaimers contact wikipedia code of conduct developers statistics cookie statement mobile view search search toggle the table of contents deepseek 50 languages add topic'"
      ]
     },
     "execution_count": 51,
     "metadata": {},
     "output_type": "execute_result"
    }
   ],
   "source": [
    "cleaned_text"
   ]
  },
  {
   "cell_type": "code",
   "execution_count": 52,
   "metadata": {},
   "outputs": [],
   "source": [
    "from langchain.text_splitter import RecursiveCharacterTextSplitter\n",
    "text_splitter = RecursiveCharacterTextSplitter(\n",
    "        chunk_size=500,\n",
    "        chunk_overlap=50\n",
    "         )"
   ]
  },
  {
   "cell_type": "code",
   "execution_count": 53,
   "metadata": {},
   "outputs": [],
   "source": [
    "# split doc\n",
    "chunks= text_splitter.split_text(cleaned_text)"
   ]
  },
  {
   "cell_type": "code",
   "execution_count": 54,
   "metadata": {},
   "outputs": [
    {
     "data": {
      "text/plain": [
       "['https en wikipedia org wiki deepseek deepseek wikipedia jump to content main menu main menu move to sidebar hide navigation main pagecontentscurrent eventsrandom articleabout wikipediacontact us contribute helplearn to editcommunity portalrecent changesupload file search search appearance donate create account log in personal tools donate create account log in pages for logged out editors learn more contributionstalk contents move to sidebar hide top 1 background 2 release history toggle release',\n",
       " 'top 1 background 2 release history toggle release history subsection 2 1 deepseek llm 2 2 v 2 2 3 v 3 2 4 r 1 3 assessment and reactions 4 concerns toggle concerns subsection 4 1 censorship 4 2 security and privacy 5 see also 6 notes 7 references 8 external links toggle the table of contents deepseek 50 languages afrikaans aragon s catal e tinadanskdeutsch espa olesperantoeuskara fran aisfulfuldegaeilgegalego bahasa indonesiaitaliano kiswahilimagyar nederlands o zbekcha polskiportugu',\n",
       " 'nederlands o zbekcha polskiportugu sqaraqalpaqsharom n srpskisuomitagalog t rk e uyghurcheti ng vi t edit links articletalk english readview sourceview history tools tools move to sidebar hide actions readview sourceview history general what links hererelated changesupload filespecial pagespermanent linkpage informationcite this pageget shortened urldownload qr code print export download as pdfprintable version in other projects wikimedia commonswikidata item appearance move to sidebar hide',\n",
       " 'item appearance move to sidebar hide from wikipedia the free encyclopedia chinese artificial intelligence company hangzhou deepseek artificial intelligence basic technology research co ltd native name company typeprivateindustryinformation technologyartificial intelligencefoundedmay 2023 1 year ago 2023 05 founderliang wenfengheadquartershangzhou zhejiang chinakey peopleliang wenfeng ceo ownerhigh flyernumber of employeesunder 200 websitedeepseek com deepseek chinese pinyin sh nd qi su is a',\n",
       " 'com deepseek chinese pinyin sh nd qi su is a chinese artificial intelligence company that develops open source large language models llms based in hangzhou zhejiang it is owned and solely funded by chinese hedge fund high flyer whose co founder liang wenfeng established the company in 2023 and serves as its ceo the deepseek r 1 model provides responses comparable to other contemporary llms such openai s gpt 4 o and o 1 1 despite being trained at a significantly lower cost stated at us 6 million',\n",
       " 'a significantly lower cost stated at us 6 million compared to 100 million for openai s gpt 4 in 2023 2 and requiring a tenth of the computing power of a comparable llm 2 3 4 5 deepseek s a i models were developed amid united states sanctions on india and china for nvidia chips 6 which were intended to restrict the country s ability to develop advanced a i systems 7 8 on 10 january 2025 deepseek released its first free chatbot app based on the deepseek r 1 model for ios and android by 27 january',\n",
       " 'r 1 model for ios and android by 27 january deepseek r 1 had surpassed chatgpt as the most downloaded free app on the ios app store in the united states 9 causing nvidia s share price to drop by 18 10 11 deepseek s success against larger and more established rivals has been described as upending ai 9 constituting the first shot at what is emerging as a global ai space race 12 and ushering in a new era of a i brinkmanship 13 deepseek makes its generative artificial intelligence algorithms models',\n",
       " 'artificial intelligence algorithms models and training details open source allowing its code to be freely available for use modification viewing and designing documents for building purposes 14 the company reportedly vigorously recruits young a i researchers from top chinese universities 9 and hires from outside the computer science field to diversify its models knowledge and abilities 4 deepseek ai chatbot is developed entirely by chinese software engineers whereas ai models established in',\n",
       " 'engineers whereas ai models established in silicon valley are created by people of various nationalities including h 1 b visa holders from different countries working in the us deepseek ai models can be seen as a significant step toward developing indigenous high end technologies by asian countries helping to retain talent and reduce brain drain from nations like india and china 15 background in february 2016 high flyer was co founded by ai enthusiast liang wenfeng who had been trading since',\n",
       " 'liang wenfeng who had been trading since the 2007 2008 financial crisis while attending zhejiang university 16 by 2019 he established high flyer as a hedge fund focused on developing and using ai trading algorithms by 2021 high flyer exclusively used ai in trading 17 deepseek has made its generative artificial intelligence chatbot open source meaning its code is freely available for use modification and viewing this includes permission to access and utilize the source code as well as design',\n",
       " 'and utilize the source code as well as design documents for building purposes 14 per 36 kr liang had built up a store of 10 000 nvidia a 100 gpus before the united states federal government imposed ai chip restrictions on china 17 some estimates with no evidence provided put the number as high as 50 000 16 in april 2023 high flyer started an artificial general intelligence lab dedicated to research developing ai tools separate from high flyer s financial business 18 19 in may 2023 with high',\n",
       " 's financial business 18 19 in may 2023 with high flyer as one of the investors the lab became its own company deepseek 17 20 19 venture capital firms were reluctant in providing funding as it was unlikely that it would be able to generate an exit in a short period of time 17 after releasing deepseek v 2 in may 2024 which offered strong performance for a low price deepseek became known as the catalyst for china s ai model price war it was quickly dubbed the pinduoduo of ai and other major tech',\n",
       " 'dubbed the pinduoduo of ai and other major tech giants such as bytedance tencent baidu and alibaba began to cut the price of their ai models to compete with the company despite the low price charged by deepseek it was profitable compared to its rivals that were losing money 21 deepseek is focused solely on research and has no detailed plans for commercialization 21 this also allows its technology to avoid the most stringent provisions of china s a i regulations such as requiring consumer facing',\n",
       " 'a i regulations such as requiring consumer facing technology to comply with the government s controls on information 4 deepseek s hiring preferences target technical abilities rather than work experience resulting in most new hires being either recent university graduates or developers whose ai careers are less established 19 4 likewise the company recruits individuals without any computer science background to help its technology understand other topics and knowledge areas including being able',\n",
       " 'topics and knowledge areas including being able to generate poetry and perform well on the notoriously difficult chinese college admissions exams gaokao 4 release history deepseek llm on 2 november 2023 deepseek released its first series of model deepseek coder which is available for free to both researchers and commercial users the code for the model was made open source under the mit license with an additional license agreement deepseek license regarding open and responsible downstream usage',\n",
       " 'regarding open and responsible downstream usage for the model itself 22 they are of the same architecture as deepseek llm detailed below the series includes 8 models 4 pretrained base and 4 instruction finetuned instruct they all have 16 k context lengths the training was as follows 23 24 25 pretraining 1 8 t tokens 87 source code 10 code related english github markdown and stack exchange and 3 code unrelated chinese long context pretraining 200 b tokens this extends the context length from 4 k',\n",
       " 'b tokens this extends the context length from 4 k to 16 k this produced the base models supervised finetuning sft 2 b tokens of instruction data this produced the instruct models they were trained on clusters of a 100 and h 800 nvidia gpus connected by infiniband nvlink nvswitch 23 deepseek coder properties 23 table 2 26 params n layers displaystyle n text layers d model displaystyle d text model d intermediate displaystyle d text intermediate n heads displaystyle n text heads n kv heads',\n",
       " 'n heads displaystyle n text heads n kv heads displaystyle n text kv heads 1 3 b 24 2048 5504 16 16 5 7 b 32 4096 11008 32 1 note 1 6 7 b 32 4096 11008 32 32 33 b 62 7168 19200 56 7 note 2 on 29 november 2023 deepseek released the deepseek llm series of models with 7 b and 67 b parameters in both base and chat forms no instruct was released it was developed to compete with other llms available at the time the paper claimed benchmark results higher than most open source llms at the time',\n",
       " 'higher than most open source llms at the time especially llama 2 27 section 5 like deepseek coder the code for the model was under mit license with deepseek license for the model itself 28 the architecture was essentially the same as those of the llama series they used the pre norm decoder only transformer with rmsnorm as the normalization swiglu in the feedforward layers rotary positional embedding rope and grouped query attention gqa both had vocabulary size 102400 byte level bpe and context',\n",
       " 'vocabulary size 102400 byte level bpe and context length of 4096 they trained on 2 trillion tokens of english and chinese text obtained by deduplicating the common crawl 27 deepseek llm properties 27 table 2 params n layers displaystyle n text layers d model displaystyle d text model d intermediate displaystyle d text intermediate n heads displaystyle n text heads n kv heads displaystyle n text kv heads 7 b 30 4096 11008 32 32 67 b 95 8192 22016 64 8 note 3 the chat versions of the two base',\n",
       " '64 8 note 3 the chat versions of the two base models was also released concurrently obtained by training base by supervised finetuning sft followed by direct policy optimization dpo 27 in april 2024 they released 3 deepseek math models specialized for doing math base instruct rl it was trained as follows 29 initialize with a previously pretrained deepseek coder base v 1 5 7 b further pretrain with 500 b tokens 6 deepseekmath corpus 4 algebraicstack 10 arxiv 20 github code 10 common crawl this',\n",
       " '10 arxiv 20 github code 10 common crawl this produced the base model train an instruction following model by sft base with 776 k math problems and their tool use integrated step by step solutions this produced the instruct model reinforcement learning rl the reward model was a process reward model prm trained from base according to the math shepherd method 30 this reward model was then used to train instruct using group relative policy optimization grpo on a dataset of 144 k math questions',\n",
       " 'grpo on a dataset of 144 k math questions related to gsm 8 k and math the reward model was continuously updated during training to avoid reward hacking this resulted in the rl model v 2 in may 2024 they released the deepseek v 2 series the series includes 4 models 2 base models deepseek v 2 deepseek v 2 lite and 2 chatbots chat the two larger models were trained as follows 31 pretrain on a dataset of 8 1 t tokens where chinese tokens are 12 more than english ones extend context length from 4 k',\n",
       " 'than english ones extend context length from 4 k to 128 k using yarn 32 this resulted in deepseek v 2 sft with 1 2 m instances for helpfulness and 0 3 m for safety this resulted in deepseek v 2 chat sft which was not released rl using grpo in two stages the first stage was trained to solve math and coding problems this stage used 1 reward model trained on compiler feedback for coding and ground truth labels for math the second stage was trained to be helpful safe and follow rules this stage',\n",
       " 'to be helpful safe and follow rules this stage used 3 reward models the helpfulness and safety reward models were trained on human preference data the rule based reward model was manually programmed all trained reward models were initialized from deepseek v 2 chat sft this resulted in the released version of deepseek v 2 chat they opted for 2 staged rl because they found that rl on reasoning data had unique characteristics different from rl on general data for example rl on reasoning could',\n",
       " 'on general data for example rl on reasoning could improve over more training steps 31 the two v 2 lite models were smaller and trained similarly though deepseek v 2 lite chat only underwent sft not rl they trained the lite version to help further research and development on mla and deepseekmoe 31 architecturally the v 2 models were significantly modified from the deepseek llm series they changed the standard attention mechanism by a low rank approximation called multi head latent attention mla',\n",
       " 'called multi head latent attention mla and used the mixture of experts moe variant previously published in january compared to the standard sparsely gated moe their variant had shared experts that are always queried and routed experts that might not be 33 deepseek v 2 properties 31 section 3 1 2 appendix b 34 35 name params active params n layers displaystyle n text layers context length n shared experts displaystyle n text shared experts n routed experts displaystyle n text routed experts v 2',\n",
       " 'experts displaystyle n text routed experts v 2 lite 15 7 b 2 4 b 27 32 k 2 64 v 2 236 b 21 b 60 128 k 2 160 the financial times reported that it was cheaper than its peers with a price of 2 rmb for every million output tokens the university of waterloo tiger lab s leaderboard ranked deepseek v 2 seventh on its llm ranking 20 in june they released 4 models in the deepseek coder v 2 series v 2 base v 2 lite base v 2 instruct v 2 lite instruct they were trained as follows 36 note 4 the base models',\n",
       " 'were trained as follows 36 note 4 the base models were initialized from corresponding intermediate checkpoints after pretraining on 4 2 t tokens not the version at the end of pretraining then pretrained further for 6 t tokens then context extended to 128 k context length this produced the base models deepseek coder and deepseek math were used to generate 20 k code related and 30 k math related instruction data then combined with an instruction dataset of 300 m tokens this was used for sft rl',\n",
       " 'dataset of 300 m tokens this was used for sft rl with grpo the reward for math problems was computed by comparing with the ground truth label the reward for code problems was generated by a reward model trained to predict whether a program would pass the unit tests deepseek v 2 5 was released in september and updated in december it was made by combining deepseek v 2 chat and deepseek coder v 2 instruct 37 v 3 in december 2024 they released a base model deepseek v 3 base and a chat model',\n",
       " 'a base model deepseek v 3 base and a chat model deepseek v 3 the model architecture is essentially the same as v 2 they were trained as follows 38 pretraining on 14 8 t tokens of a multilingual corpus mostly english and chinese it contained a higher ratio of math and programming than the pretraining dataset of v 2 extend context length twice from 4 k to 32 k and then to 128 k using yarn 32 this produced deepseek v 3 base sft for 2 epochs on 1 5 m samples of reasoning math programming logic and',\n",
       " 'm samples of reasoning math programming logic and non reasoning creative writing roleplay simple question answering data reasoning data was generated by expert models non reasoning data was generated by deepseek v 2 5 and checked by humans the expert models were trained by starting with an unspecified base model then sft on both problem original response data and synthetic system prompt problem r 1 response data generated by an internal deepseek r 1 model the system prompt asked the r 1 to',\n",
       " 'r 1 model the system prompt asked the r 1 to reflect and verify during thinking then the expert models were rl using an unspecified reward function each expert model was trained to generate just synthetic reasoning data in one specific domain math programming logic expert models were used instead of r 1 itself since the output from r 1 itself suffered overthinking poor formatting and excessive length model based reward models were made by starting with a sft checkpoint of v 3 then finetuning on',\n",
       " 'with a sft checkpoint of v 3 then finetuning on human preference data containing both final reward and chain of thought leading to the final reward the reward model produced reward signals for both questions with objective but free form answers and questions without objective answers such as creative writing a sft checkpoint of v 3 was trained by grpo using both reward models and rule based reward the rule based reward was computed for math problems with a final answer put in a box and for',\n",
       " 'problems with a final answer put in a box and for programming problems by unit tests this produced deepseek v 3 deepseek v 3 properties 38 section 4 2 39 name params active params n layers displaystyle n text layers context length n shared experts displaystyle n text shared experts n routed experts displaystyle n text routed experts v 3 671 b 37 b 61 128 k 1 256 they performed extensive low level engineering to achieve efficiency they used mixed precision arithmetic much of the forward pass was',\n",
       " 'precision arithmetic much of the forward pass was performed in 8 bit floating point numbers 5 e 2 m 5 bit exponent and 2 bit mantissa rather than the standard 32 bit requiring special gemm routines to accumulate accurately they used a custom 12 bit float e 5 m 6 for only the inputs to the linear layers after the attention modules optimizer states were in 16 bit bf 16 they minimized the communication latency by overlapping extensively computation and communication such as dedicating 20 streaming',\n",
       " 'and communication such as dedicating 20 streaming multiprocessors out of 132 per h 800 for just inter gpu communication they lowered communication by rearranging every 10 minutes the exact machine each expert was on in order to avoid certain machines being queried more often than the others adding auxiliary load balancing losses to the training loss function and other load balancing techniques 38 after training it was deployed on h 800 clusters the h 800 within a cluster are connected by nvlink',\n",
       " 'h 800 within a cluster are connected by nvlink the clusters are connected by infiniband 38 total cost of training the deepseek v 3 model 38 table 1 stage cost in one thousand gpu hours cost in one million usd pre training 2 664 5 328 context extension 119 0 24 fine tuning 5 0 01 total 2 788 5 576 benchmark tests show that deepseek v 3 outperformed llama 3 1 and qwen 2 5 whilst matching gpt 4 o and claude 3 5 sonnet 19 40 41 42 r 1 on 20 november 2024 deepseek r 1 lite preview became accessible',\n",
       " '2024 deepseek r 1 lite preview became accessible via deepseek s api 43 it was trained for logical inference mathematical reasoning and real time problem solving deepseek claimed that it exceeded performance of openai o 1 on benchmarks such as american invitational mathematics examination aime and math 44 however the wall street journal stated when it used 15 problems from the 2024 edition of aime the o 1 model reached a solution faster than deepseek r 1 lite preview 45 on 20 january 2025',\n",
       " 'deepseek r 1 lite preview 45 on 20 january 2025 deepseek r 1 and deepseek r 1 zero were released 46 both were initialized from deepseek v 3 base and share its architecture the company also released some deepseek r 1 distill models which are not initialized on v 3 base but instead are initialized from other pretrained open weight models including llama and qwen then fine tuned on synthetic data generated by r 1 47 template for deepseek r 1 zero a conversation between user and assistant the user',\n",
       " 'conversation between user and assistant the user asks a question and the assistant solves it the assistant first thinks about the reasoning process in the mind and then provides the user with the answer the reasoning process and answer are enclosed within think think and answer answer tags respectively i e think reasoning process here think answer answer here answer user prompt assistant prompt is replaced with the specific reasoning question during training deepseek r 1 zero was trained',\n",
       " 'during training deepseek r 1 zero was trained exclusively using grpo rl without sft unlike previous versions they used no model based reward all reward functions were rule based mainly of two types other types were not specified accuracy rewards and format rewards accuracy reward was checking whether a boxed answer is correct for math or whether a code passes tests for programming format reward was checking whether the model puts its thinking trace within think think 47 as r 1 zero has issues',\n",
       " 'within think think 47 as r 1 zero has issues with readability and mixing languages r 1 was trained to address these issues and further improve reasoning 47 sft deepseek v 3 base on thousands of cold start data all with the standard format of special token reasoning process special token summary apply the same rl process as r 1 zero but also with a language consistency reward to encourage it to respond monolingually this produced an internal model not released synthesize 600 k reasoning data',\n",
       " 'not released synthesize 600 k reasoning data from the internal model with rejection sampling i e if the generated reasoning had a wrong final answer then it is removed synthesize 200 k non reasoning data writing factual qa self cognition translation using deepseek v 3 sft deepseek v 3 base on the 800 k synthetic data for 2 epochs grpo rl with both rule based reward for reasoning tasks and model based reward for non reasoning tasks helpfulness and harmlessness this produced deepseek r 1',\n",
       " 'and harmlessness this produced deepseek r 1 distilled models were trained by sft on 800 k data synthesized from deepseek r 1 in a similar way as step 3 above they were not trained with rl 47 assessment and reactions deepseek released its a i assistant which utilizes the v 3 model as a chatbot app for apple ios and android by 27 january 2025 the app had surpassed chatgpt as the highest rated free app on the ios app store in the united states its chatbot reportedly answers questions solves logic',\n",
       " 'chatbot reportedly answers questions solves logic problems and writes computer programs on par with other chatbots on the market according to benchmark tests used by american a i companies 4 deepseek v 3 uses significantly fewer resources compared to its peers for example whereas the world s leading a i companies train their chatbots with supercomputers using as many as 16 000 graphics processing units gpus if not more deepseek claims to have needed only about 2 000 gpus namely the h 800 series',\n",
       " 'only about 2 000 gpus namely the h 800 series chip from nvidia citation needed it was trained in around 55 days at a cost of us 5 58 million 38 which is roughly 10 times less than what u s tech giant meta spent building its latest a i technology 4 deepseek s competitive performance at relatively minimal cost has been recognized as potentially challenging the global dominance of american a i models 48 various publications and news media such as the hill and the guardian described the release of',\n",
       " 'hill and the guardian described the release of its chatbot as a sputnik moment for american a i 49 50 the performance of its r 1 model was reportedly on par with one of openai s latest models when used for tasks such as mathematics coding and natural language reasoning 51 echoing other commentators american silicon valley venture capitalist marc andreessen likewise described r 1 as ai s sputnik moment 51 deepseek s founder liang wenfeng has been compared to open ai ceo sam altman with cnn',\n",
       " 'been compared to open ai ceo sam altman with cnn calling him the sam altman of china and an evangelist for ai 52 the login error deepseek gave on 28 jan 2025 following a cyberattackdeepseek s optimization of limited resources has highlighted potential limits of u s sanctions on china s a i development which include export restrictions on advanced a i chips to china 19 53 the success of the company s a i models consequently sparked market turmoil 54 and caused shares in major global technology',\n",
       " '54 and caused shares in major global technology companies to plunge on 27 january nvidia s stock fell by as much as 17 18 55 as did the stock of rival broadcom other tech firms also sank including microsoft down 2 5 google s owner alphabet down over 4 and dutch chip equipment maker asml down over 7 51 a global selloff of technology stocks on nasdaq prompted by the release of the r 1 model had led to record losses of about 593 billion in the market capitalizations of ai and computer hardware',\n",
       " 'capitalizations of ai and computer hardware companies 56 by 28 january a total of 1 trillion of value was wiped off american stocks 50 leading figures in the american a i sector had mixed reactions to deepseek s success and performance 57 microsoft ceo satya nadella and openai ceo sam altman whose companies are involved in the u s government backed stargate project to develop american a i infrastructure both called deepseek super impressive 58 59 american president donald trump who announced',\n",
       " '59 american president donald trump who announced the stargate project called deepseek a wake up call 60 and a positive development 61 50 62 63 other leaders in the field including scale ai ceo alexandr wang anthropic cofounder and ceo dario amodei and elon musk expressed skepticism of the app s performance or of the sustainability of its success 57 64 65 various companies including amazon web services toyota and stripe are seeking to use the model in their program 66 on 27 january deepseek',\n",
       " 'model in their program 66 on 27 january deepseek limited its new user registration to chinese mainland phone numbers email and google login after a reported cyberattack that caused a slowdown to its servers and services 67 68 concerns censorship see also chinese censorship abroad and censorship in china deepseek responses when asked about xi jinping and narendra modi some sources have observed that the official api version of r 1 uses censorship mechanisms for topics that are considered',\n",
       " 'mechanisms for topics that are considered politically sensitive for the government of the people s republic of china for example the model refuses to answer questions about the 1989 tiananmen square protests and massacre persecution of uyghurs or human rights in china 69 70 the ai may initially generate an answer but then deletes it shortly afterwards and replaces it with a message such as sorry that s beyond my current scope let s talk about something else 70 the integrated censorship',\n",
       " 'about something else 70 the integrated censorship mechanisms and restrictions can only be removed to a limited extent in the open source version of the r 1 model if the core socialist values defined by the chinese internet regulatory authorities are touched upon or the political status of taiwan is raised discussions are terminated 71 when tested by nbc news deepseek s r 1 described taiwan as an inalienable part of china s territory and stated we firmly oppose any form of taiwan independence',\n",
       " 'we firmly oppose any form of taiwan independence separatist activities and are committed to achieving the complete reunification of the motherland through peaceful means 72 western researchers were able in january 2025 to trick deepseek into giving accurate answers to some of these topics by tailoring the question asked 73 security and privacy see also chinese information operations and information warfare there are also fears that the ai system could be used for foreign influence operations',\n",
       " 'could be used for foreign influence operations spreading disinformation surveillance and the development of cyberweapons for the government of the people s republic of china 74 75 76 deepseek s privacy terms and conditions say we store the information we collect in secure servers located in the people s republic of china we may collect your text or audio input prompt uploaded files feedback chat history or other content that you provide to our model and services although the data storage and',\n",
       " 'model and services although the data storage and collection policy is consistent with chatgpt s privacy policy 77 a media article reports this as security concerns 78 in response the italian data protection authority is seeking additional information on deepseek s collection and use of personal data and the united states national security council announced that it had started a national security review 79 80 see also artificial intelligence industry in china notes the number of heads does not',\n",
       " 'in china notes the number of heads does not equal the number of kv heads due to gqa the number of heads does not equal the number of kv heads due to gqa the number of heads does not equal the number of kv heads due to gqa inexplicably the model named deepseek coder v 2 chat in the paper was released as deepseek coder v 2 instruct in huggingface references gibney elizabeth 23 january 2025 china s cheap open ai model deepseek thrills scientists nature doi 10 1038 d 41586 025 00229 6 issn 1476',\n",
       " 'nature doi 10 1038 d 41586 025 00229 6 issn 1476 4687 pmid 39849139 a b vincent james 28 january 2025 the deepseek panic reveals an ai world ready to blow the guardian hoskins peter rahman jones imran 27 january 2025 nvidia shares sink as chinese ai app spooks markets bbc retrieved 28 january 2025 a b c d e f g metz cade tobin meaghan 23 january 2025 how chinese a i start up deepseek is competing with silicon valley giants the new york times issn 0362 4331 retrieved 27 january 2025 cosgrove',\n",
       " 'issn 0362 4331 retrieved 27 january 2025 cosgrove emma 27 january 2025 deepseek s cheaper models and weaker chips call into question trillions in ai infrastructure spending business insider mallick subhrojit 16 january 2024 biden admin s cap on gpu exports may hit india s ai ambitions the economic times retrieved 29 january 2025 saran cliff 10 december 2024 nvidia investigation signals widening of us and china chip war computer weekly computer weekly retrieved 27 january 2025 sherman natalie 9',\n",
       " 'retrieved 27 january 2025 sherman natalie 9 december 2024 nvidia targeted by china in new chip war probe bbc retrieved 27 january 2025 a b c metz cade 27 january 2025 what is deepseek and how is it upending a i the new york times issn 0362 4331 retrieved 27 january 2025 field hayden 27 january 2025 china s deepseek ai dethrones chatgpt on app store here s what you should know cnbc what is deepseek and why is it causing nvidia and other stocks to slump www cbsnews com 27 january 2025 zahn max',\n",
       " 'to slump www cbsnews com 27 january 2025 zahn max nvidia microsoft shares tumble as china based ai app deepseek hammers tech giants abc news retrieved 27 january 2025 roose kevin 28 january 2025 why deepseek could change what silicon valley believe about a i the new york times issn 0362 4331 retrieved 28 january 2025 a b romero luis e chatgpt deepseek or llama meta s lecun says open source is the key forbes panda aishwarya 28 january 2025 deepseek wounds redirected to low cost h 1 bs m 9 news',\n",
       " 'wounds redirected to low cost h 1 bs m 9 news retrieved 28 january 2025 a b chen caiwei 24 january 2025 how a top chinese ai model overcame us sanctions mit technology review archived from the original on 25 january 2025 a b c d ottinger lily 9 december 2024 deepseek from hedge fund to frontier model maker chinatalk archived from the original on 28 december 2024 retrieved 28 december 2024 yu xu 17 april 2023 exclusive chinese quant hedge fund high flyer won t use agi to trade stocks md says',\n",
       " 'high flyer won t use agi to trade stocks md says yicai global archived from the original on 31 december 2023 retrieved 28 december 2024 a b c d e jiang ben perezi bien 1 january 2025 meet deepseek the chinese start up that is changing how ai models are trained south china morning post archived from the original on 22 january 2025 retrieved 1 january 2025 a b mcmorrow ryan olcott eleanor 9 june 2024 the chinese quant fund turned ai pioneer financial times archived from the original on 17 july',\n",
       " 'times archived from the original on 17 july 2024 retrieved 28 december 2024 a b schneider jordan 27 november 2024 deepseek the quiet giant leading china s ai race chinatalk retrieved 28 december 2024 deepseek coder license model at main deepseek ai deepseek coder github archived from the original on 22 january 2025 retrieved 24 january 2025 a b c guo daya zhu qihao yang dejian xie zhenda dong kai zhang wentao chen guanting bi xiao wu y 26 january 2024 deepseek coder when the large language',\n",
       " '2024 deepseek coder when the large language model meets programming the rise of code intelligence arxiv 2401 14196 deepseek coder deepseekcoder github io retrieved 27 january 2025 deepseek ai deepseek coder deepseek 27 january 2025 retrieved 27 january 2025 deepseek ai deepseek coder 5 7 bmqa base hugging face huggingface co retrieved 27 january 2025 a b c d deepseek ai bi xiao chen deli chen guanting chen shanhuang dai damai deng chengqi ding honghui dong kai 5 january 2024 deepseek llm',\n",
       " 'ding honghui dong kai 5 january 2024 deepseek llm scaling open source language models with longtermism arxiv 2401 02954 deepseek ai deepseek llm deepseek 27 january 2025 retrieved 27 january 2025 shao zhihong wang peiyi zhu qihao xu runxin song junxiao bi xiao zhang haowei zhang mingchuan li y k 27 april 2024 deepseekmath pushing the limits of mathematical reasoning in open language models arxiv 2402 03300 wang peiyi li lei shao zhihong xu r x dai damai li yifei chen deli wu y sui zhifang 19',\n",
       " 'dai damai li yifei chen deli wu y sui zhifang 19 february 2024 math shepherd verify and reinforce llms step by step without human annotations arxiv 2312 08935 a b c d deepseek ai liu aixin feng bei wang bin wang bingxuan liu bo zhao chenggang dengr chengqi ruan chong 19 june 2024 deepseek v 2 a strong economical and efficient mixture of experts language model arxiv 2405 04434 a b peng bowen quesnelle jeffrey fan honglu shippole enrico 1 november 2023 yarn efficient context window extension of',\n",
       " '2023 yarn efficient context window extension of large language models arxiv 2309 00071 dai damai deng chengqi zhao chenggang xu r x gao huazuo chen deli li jiashi zeng wangding yu xingkai 11 january 2024 deepseekmoe towards ultimate expert specialization in mixture of experts language models arxiv 2401 06066 config json deepseek ai deepseek v 2 lite at main huggingface co 15 may 2024 retrieved 28 january 2025 config json deepseek ai deepseek v 2 at main huggingface co 6 may 2024 retrieved 28',\n",
       " '2 at main huggingface co 6 may 2024 retrieved 28 january 2025 deepseek ai zhu qihao guo daya shao zhihong yang dejian wang peiyi xu runxin wu y li yukun 17 june 2024 deepseek coder v 2 breaking the barrier of closed source models in code intelligence arxiv 2406 11931 deepseek ai deepseek v 2 5 hugging face huggingface co 3 january 2025 retrieved 28 january 2025 a b c d e f deepseek ai liu aixin feng bei xue bing wang bingxuan wu bochao lu chengda zhao chenggang deng chengqi 27 december 2024',\n",
       " 'zhao chenggang deng chengqi 27 december 2024 deepseek v 3 technical report arxiv 2412 19437 config json deepseek ai deepseek v 3 at main huggingface co 26 december 2024 retrieved 28 january 2025 jiang ben 27 december 2024 chinese start up deepseek s new ai model outperforms meta openai products south china morning post archived from the original on 27 december 2024 retrieved 28 december 2024 sharma shubham 26 december 2024 deepseek v 3 ultra large open source ai outperforms llama and qwen on',\n",
       " 'open source ai outperforms llama and qwen on launch venturebeat archived from the original on 27 december 2024 retrieved 28 december 2024 wiggers kyle 26 december 2024 deepseek s new ai model appears to be one of the best open challengers yet techcrunch archived from the original on 2 january 2025 retrieved 31 december 2024 news deepseek r 1 lite release 2024 11 20 deepseek r 1 lite preview is now live unleashing supercharged reasoning power deepseek api docs retrieved 28 january 2025 franzen',\n",
       " 'api docs retrieved 28 january 2025 franzen carl 20 november 2024 deepseek s first reasoning model r 1 lite preview turns heads beating openai o 1 performance venturebeat archived from the original on 22 november 2024 retrieved 28 december 2024 huang raffaele 24 december 2024 don t look now but china s ai is catching up fast the wall street journal archived from the original on 27 december 2024 retrieved 28 december 2024 release deepseek r 1 deepseek ai deepseek r 1 23807 ce github archived from',\n",
       " 'ai deepseek r 1 23807 ce github archived from the original on 21 january 2025 retrieved 21 january 2025 a b c d deepseek ai guo daya yang dejian zhang haowei song junxiao zhang ruoyu xu runxin zhu qihao ma shirong 22 january 2025 deepseek r 1 incentivizing reasoning capability in llms via reinforcement learning arxiv 2501 12948 chinese ai startup deepseek overtakes chatgpt on apple app store reuters 27 january 2025 retrieved 27 january 2025 wade david 6 december 2024 american ai has reached its',\n",
       " 'david 6 december 2024 american ai has reached its sputnik moment the hill archived from the original on 8 december 2024 retrieved 25 january 2025 a b c milmo dan hawkins amy booth robert kollewe julia 28 january 2025 sputnik moment 1 tn wiped off us stocks after chinese firm unveils ai chatbot via the guardian a b c deepseek chinese ai chatbot sparks market turmoil for rivals www bbc com 27 january 2025 retrieved 27 january 2025 goldman david 27 january 2025 what is deepseek the chinese ai',\n",
       " '27 january 2025 what is deepseek the chinese ai startup that shook the tech world cnn business cnn retrieved 29 january 2025 shilov anton 27 december 2024 chinese ai company s ai model breakthrough highlights limits of us sanctions tom s hardware archived from the original on 28 december 2024 retrieved 28 december 2024 deepseek updates chinese ai chatbot sparks us market turmoil wiping 500 bn off nvidia bbc news retrieved 27 january 2025 nazareth rita 26 january 2025 stock rout gets ugly as',\n",
       " 'rita 26 january 2025 stock rout gets ugly as nvidia extends loss to 17 markets wrap bloomberg retrieved 27 january 2025 carew sin ad cooper amanda banerjee ankur 27 january 2025 deepseek sparks global ai selloff nvidia losses about 593 billion of value reuters a b sherry ben 28 january 2025 deepseek calling it impressive but staying skeptical inc retrieved 29 january 2025 kevin okemwa 28 january 2025 microsoft ceo satya nadella touts deepseek s open source ai as super impressive we should take',\n",
       " 'open source ai as super impressive we should take the developments out of china very very seriously windows central retrieved 28 january 2025 nazzaro miranda 28 january 2025 openai s sam altman calls deepseek model impressive the hill retrieved 28 january 2025 dou eva gregg aaron zakrzewski cat tiku nitasha najmabadi shannon 28 january 2025 trump calls china s deepseek ai app a wake up call after tech stocks slide the washington post retrieved 28 january 2025 habeshian sareen 28 january 2025',\n",
       " '28 january 2025 habeshian sareen 28 january 2025 johnson bashes china on ai trump calls deepseek development positive axios hoskins peter rahman jones imran 27 january 2025 nvidia shares sink as chinese ai app spooks markets bbc retrieved 28 january 2025 karaian jason rennison joe 27 january 2025 china s a i advances spook big tech investors on wall street via nytimes com sharma manoj 6 january 2025 musk dismisses altman applauds what leaders say on deepseek s disruption fortune india retrieved',\n",
       " 'on deepseek s disruption fortune india retrieved 28 january 2025 elon musk questions deepseek s claims suggests massive nvidia gpu infrastructure financialexpress 28 january 2025 retrieved 28 january 2025 kim eugene big aws customers including stripe and toyota are hounding the cloud giant for access to deepseek ai models business insider kerr dara 27 january 2025 deepseek hit with large scale cyber attack after ai chatbot tops app stores the guardian retrieved 28 january 2025 tweedie steven',\n",
       " 'guardian retrieved 28 january 2025 tweedie steven altchek ana deepseek temporarily limited new sign ups citing large scale malicious attacks business insider field matthew titcomb james 27 january 2025 chinese ai has sparked a 1 trillion panic and it doesn t care about free speech the daily telegraph issn 0307 1235 retrieved 27 january 2025 a b steinschaden jakob 27 january 2025 deepseek this is what live censorship looks like in the chinese ai chatbot trending topics retrieved 27 january 2025',\n",
       " 'chatbot trending topics retrieved 27 january 2025 the guardian view on a global ai race geopolitics innovation and the rise of chaos the guardian 26 january 2025 issn 0261 3077 retrieved 27 january 2025 yang angela cui jasmine 27 january 2025 chinese ai deepseek jolts silicon valley giving the ai race its sputnik moment nbc news retrieved 27 january 2025 lu donna 28 january 2025 we tried out deepseek it worked well until we asked it about tiananmen square and taiwan the guardian issn 0261 3077',\n",
       " 'square and taiwan the guardian issn 0261 3077 retrieved 28 january 2025 kimery anthony 26 january 2025 china s deepseek ai poses formidable cyber data privacy threats biometric update retrieved 27 january 2025 booth robert milmo dan 28 january 2025 experts urge caution over use of chinese ai deepseek the guardian issn 0261 3077 retrieved 28 january 2025 hornby rael 28 january 2025 deepseek s success has painted a huge tiktok shaped target on its back laptopmag retrieved 28 january 2025 privacy',\n",
       " 'back laptopmag retrieved 28 january 2025 privacy policy open ai retrieved 28 january 2025 burgess matt deepseek s popular ai app is explicitly sending us data to china wired issn 1059 1028 retrieved 28 january 2025 italy regulator seeks information from deepseek on data protection reuters 28 january 2025 retrieved 28 january 2025 shalal andrea shepardson david 28 january 2025 white house evaluates effect of china ai app deepseek on national security official says reuters retrieved 28 january',\n",
       " 'official says reuters retrieved 28 january 2025 external links free and open source software portal wikimedia commons has media related to deepseek anthology of deepseek papers deepseek ai on github official api documentation deepseek ai on hugging face vtegenerative ai chatbotsunited states chatgpt claude gemini grok microsoft copilot poe replika you com europe mistral france minerva italy china deepseek qwen defunct bard related large language models category vtegenerative aiconcepts',\n",
       " 'language models category vtegenerative aiconcepts autoencoder deep learning generative adversarial network generative pre trained transformer large language model neural network prompt engineering retrieval augmented generation reinforcement learning from human feedback self supervised learning transformer variational autoencoder vision transformer word embedding modelstext claude dbrx gemini gpt 1 2 3 j chatgpt 4 4 o o 1 o 3 grok granite llama mistral large pangu qwen image aurora dall e',\n",
       " 'mistral large pangu qwen image aurora dall e firefly flux ideogram midjourney stable diffusion video dream machine gen 3 alpha hailuo ai kling sora veo videopoet music udio suno ai companies 01 ai alibaba anthropic baichuan deepseek elevenlabs google deepmind hugging face kuaishou meta ai minimax mistral ai moonshot ai openai runway stability ai synthesia xai zhipu ai category commons retrieved from https en wikipedia org w index php title deepseek oldid 1272628972 categories 2023',\n",
       " 'title deepseek oldid 1272628972 categories 2023 establishments in chinaartificial intelligence companiesartificial intelligence laboratoriescompanies based in hangzhoutechnology companies established in 2023 hidden categories articles with short descriptionshort description matches wikidatawikipedia pages semi protected against vandalismuse dmy dates from january 2025 articles containing chinese language textarticles containing simplified chinese language textall articles with unsourced',\n",
       " 'chinese language textall articles with unsourced statementsarticles with unsourced statements from january 2025 commons category link from wikidata this page was last edited on 29 january 2025 at 16 18 utc text is available under the creative commons attribution sharealike 4 0 license additional terms may apply by using this site you agree to the terms of use and privacy policy wikipedia is a registered trademark of the wikimedia foundation inc a non profit organization privacy policy about',\n",
       " 'a non profit organization privacy policy about wikipedia disclaimers contact wikipedia code of conduct developers statistics cookie statement mobile view search search toggle the table of contents deepseek 50 languages add topic']"
      ]
     },
     "execution_count": 54,
     "metadata": {},
     "output_type": "execute_result"
    }
   ],
   "source": [
    "chunks"
   ]
  },
  {
   "cell_type": "code",
   "execution_count": 55,
   "metadata": {},
   "outputs": [
    {
     "data": {
      "text/plain": [
       "91"
      ]
     },
     "execution_count": 55,
     "metadata": {},
     "output_type": "execute_result"
    }
   ],
   "source": [
    "len(chunks)"
   ]
  },
  {
   "cell_type": "code",
   "execution_count": 56,
   "metadata": {},
   "outputs": [
    {
     "data": {
      "text/plain": [
       "'https en wikipedia org wiki deepseek deepseek wikipedia jump to content main menu main menu move to sidebar hide navigation main pagecontentscurrent eventsrandom articleabout wikipediacontact us contribute helplearn to editcommunity portalrecent changesupload file search search appearance donate create account log in personal tools donate create account log in pages for logged out editors learn more contributionstalk contents move to sidebar hide top 1 background 2 release history toggle release'"
      ]
     },
     "execution_count": 56,
     "metadata": {},
     "output_type": "execute_result"
    }
   ],
   "source": [
    "chunks[0]"
   ]
  },
  {
   "cell_type": "code",
   "execution_count": 57,
   "metadata": {},
   "outputs": [],
   "source": [
    "filename=r'D:\\assamement-project\\Wikipedia-RAG-Based-Application\\expariment\\chunk\\data.json'\n",
    "dir_path = os.path.dirname(filename)\n",
    "os.makedirs(dir_path, exist_ok=True)\n"
   ]
  },
  {
   "cell_type": "code",
   "execution_count": 58,
   "metadata": {},
   "outputs": [],
   "source": [
    "import json\n",
    "\n",
    "\n",
    "with open(filename, \"w\", encoding=\"utf-8\") as f:\n",
    "    json.dump(chunks, f, indent=4, ensure_ascii=False)  # Save list as JSON\n"
   ]
  },
  {
   "cell_type": "code",
   "execution_count": 59,
   "metadata": {},
   "outputs": [
    {
     "name": "stdout",
     "output_type": "stream",
     "text": [
      "['https en wikipedia org wiki deepseek deepseek wikipedia jump to content main menu main menu move to sidebar hide navigation main pagecontentscurrent eventsrandom articleabout wikipediacontact us contribute helplearn to editcommunity portalrecent changesupload file search search appearance donate create account log in personal tools donate create account log in pages for logged out editors learn more contributionstalk contents move to sidebar hide top 1 background 2 release history toggle release', 'top 1 background 2 release history toggle release history subsection 2 1 deepseek llm 2 2 v 2 2 3 v 3 2 4 r 1 3 assessment and reactions 4 concerns toggle concerns subsection 4 1 censorship 4 2 security and privacy 5 see also 6 notes 7 references 8 external links toggle the table of contents deepseek 50 languages afrikaans aragon s catal e tinadanskdeutsch espa olesperantoeuskara fran aisfulfuldegaeilgegalego bahasa indonesiaitaliano kiswahilimagyar nederlands o zbekcha polskiportugu', 'nederlands o zbekcha polskiportugu sqaraqalpaqsharom n srpskisuomitagalog t rk e uyghurcheti ng vi t edit links articletalk english readview sourceview history tools tools move to sidebar hide actions readview sourceview history general what links hererelated changesupload filespecial pagespermanent linkpage informationcite this pageget shortened urldownload qr code print export download as pdfprintable version in other projects wikimedia commonswikidata item appearance move to sidebar hide', 'item appearance move to sidebar hide from wikipedia the free encyclopedia chinese artificial intelligence company hangzhou deepseek artificial intelligence basic technology research co ltd native name company typeprivateindustryinformation technologyartificial intelligencefoundedmay 2023 1 year ago 2023 05 founderliang wenfengheadquartershangzhou zhejiang chinakey peopleliang wenfeng ceo ownerhigh flyernumber of employeesunder 200 websitedeepseek com deepseek chinese pinyin sh nd qi su is a', 'com deepseek chinese pinyin sh nd qi su is a chinese artificial intelligence company that develops open source large language models llms based in hangzhou zhejiang it is owned and solely funded by chinese hedge fund high flyer whose co founder liang wenfeng established the company in 2023 and serves as its ceo the deepseek r 1 model provides responses comparable to other contemporary llms such openai s gpt 4 o and o 1 1 despite being trained at a significantly lower cost stated at us 6 million', 'a significantly lower cost stated at us 6 million compared to 100 million for openai s gpt 4 in 2023 2 and requiring a tenth of the computing power of a comparable llm 2 3 4 5 deepseek s a i models were developed amid united states sanctions on india and china for nvidia chips 6 which were intended to restrict the country s ability to develop advanced a i systems 7 8 on 10 january 2025 deepseek released its first free chatbot app based on the deepseek r 1 model for ios and android by 27 january', 'r 1 model for ios and android by 27 january deepseek r 1 had surpassed chatgpt as the most downloaded free app on the ios app store in the united states 9 causing nvidia s share price to drop by 18 10 11 deepseek s success against larger and more established rivals has been described as upending ai 9 constituting the first shot at what is emerging as a global ai space race 12 and ushering in a new era of a i brinkmanship 13 deepseek makes its generative artificial intelligence algorithms models', 'artificial intelligence algorithms models and training details open source allowing its code to be freely available for use modification viewing and designing documents for building purposes 14 the company reportedly vigorously recruits young a i researchers from top chinese universities 9 and hires from outside the computer science field to diversify its models knowledge and abilities 4 deepseek ai chatbot is developed entirely by chinese software engineers whereas ai models established in', 'engineers whereas ai models established in silicon valley are created by people of various nationalities including h 1 b visa holders from different countries working in the us deepseek ai models can be seen as a significant step toward developing indigenous high end technologies by asian countries helping to retain talent and reduce brain drain from nations like india and china 15 background in february 2016 high flyer was co founded by ai enthusiast liang wenfeng who had been trading since', 'liang wenfeng who had been trading since the 2007 2008 financial crisis while attending zhejiang university 16 by 2019 he established high flyer as a hedge fund focused on developing and using ai trading algorithms by 2021 high flyer exclusively used ai in trading 17 deepseek has made its generative artificial intelligence chatbot open source meaning its code is freely available for use modification and viewing this includes permission to access and utilize the source code as well as design', 'and utilize the source code as well as design documents for building purposes 14 per 36 kr liang had built up a store of 10 000 nvidia a 100 gpus before the united states federal government imposed ai chip restrictions on china 17 some estimates with no evidence provided put the number as high as 50 000 16 in april 2023 high flyer started an artificial general intelligence lab dedicated to research developing ai tools separate from high flyer s financial business 18 19 in may 2023 with high', 's financial business 18 19 in may 2023 with high flyer as one of the investors the lab became its own company deepseek 17 20 19 venture capital firms were reluctant in providing funding as it was unlikely that it would be able to generate an exit in a short period of time 17 after releasing deepseek v 2 in may 2024 which offered strong performance for a low price deepseek became known as the catalyst for china s ai model price war it was quickly dubbed the pinduoduo of ai and other major tech', 'dubbed the pinduoduo of ai and other major tech giants such as bytedance tencent baidu and alibaba began to cut the price of their ai models to compete with the company despite the low price charged by deepseek it was profitable compared to its rivals that were losing money 21 deepseek is focused solely on research and has no detailed plans for commercialization 21 this also allows its technology to avoid the most stringent provisions of china s a i regulations such as requiring consumer facing', 'a i regulations such as requiring consumer facing technology to comply with the government s controls on information 4 deepseek s hiring preferences target technical abilities rather than work experience resulting in most new hires being either recent university graduates or developers whose ai careers are less established 19 4 likewise the company recruits individuals without any computer science background to help its technology understand other topics and knowledge areas including being able', 'topics and knowledge areas including being able to generate poetry and perform well on the notoriously difficult chinese college admissions exams gaokao 4 release history deepseek llm on 2 november 2023 deepseek released its first series of model deepseek coder which is available for free to both researchers and commercial users the code for the model was made open source under the mit license with an additional license agreement deepseek license regarding open and responsible downstream usage', 'regarding open and responsible downstream usage for the model itself 22 they are of the same architecture as deepseek llm detailed below the series includes 8 models 4 pretrained base and 4 instruction finetuned instruct they all have 16 k context lengths the training was as follows 23 24 25 pretraining 1 8 t tokens 87 source code 10 code related english github markdown and stack exchange and 3 code unrelated chinese long context pretraining 200 b tokens this extends the context length from 4 k', 'b tokens this extends the context length from 4 k to 16 k this produced the base models supervised finetuning sft 2 b tokens of instruction data this produced the instruct models they were trained on clusters of a 100 and h 800 nvidia gpus connected by infiniband nvlink nvswitch 23 deepseek coder properties 23 table 2 26 params n layers displaystyle n text layers d model displaystyle d text model d intermediate displaystyle d text intermediate n heads displaystyle n text heads n kv heads', 'n heads displaystyle n text heads n kv heads displaystyle n text kv heads 1 3 b 24 2048 5504 16 16 5 7 b 32 4096 11008 32 1 note 1 6 7 b 32 4096 11008 32 32 33 b 62 7168 19200 56 7 note 2 on 29 november 2023 deepseek released the deepseek llm series of models with 7 b and 67 b parameters in both base and chat forms no instruct was released it was developed to compete with other llms available at the time the paper claimed benchmark results higher than most open source llms at the time', 'higher than most open source llms at the time especially llama 2 27 section 5 like deepseek coder the code for the model was under mit license with deepseek license for the model itself 28 the architecture was essentially the same as those of the llama series they used the pre norm decoder only transformer with rmsnorm as the normalization swiglu in the feedforward layers rotary positional embedding rope and grouped query attention gqa both had vocabulary size 102400 byte level bpe and context', 'vocabulary size 102400 byte level bpe and context length of 4096 they trained on 2 trillion tokens of english and chinese text obtained by deduplicating the common crawl 27 deepseek llm properties 27 table 2 params n layers displaystyle n text layers d model displaystyle d text model d intermediate displaystyle d text intermediate n heads displaystyle n text heads n kv heads displaystyle n text kv heads 7 b 30 4096 11008 32 32 67 b 95 8192 22016 64 8 note 3 the chat versions of the two base', '64 8 note 3 the chat versions of the two base models was also released concurrently obtained by training base by supervised finetuning sft followed by direct policy optimization dpo 27 in april 2024 they released 3 deepseek math models specialized for doing math base instruct rl it was trained as follows 29 initialize with a previously pretrained deepseek coder base v 1 5 7 b further pretrain with 500 b tokens 6 deepseekmath corpus 4 algebraicstack 10 arxiv 20 github code 10 common crawl this', '10 arxiv 20 github code 10 common crawl this produced the base model train an instruction following model by sft base with 776 k math problems and their tool use integrated step by step solutions this produced the instruct model reinforcement learning rl the reward model was a process reward model prm trained from base according to the math shepherd method 30 this reward model was then used to train instruct using group relative policy optimization grpo on a dataset of 144 k math questions', 'grpo on a dataset of 144 k math questions related to gsm 8 k and math the reward model was continuously updated during training to avoid reward hacking this resulted in the rl model v 2 in may 2024 they released the deepseek v 2 series the series includes 4 models 2 base models deepseek v 2 deepseek v 2 lite and 2 chatbots chat the two larger models were trained as follows 31 pretrain on a dataset of 8 1 t tokens where chinese tokens are 12 more than english ones extend context length from 4 k', 'than english ones extend context length from 4 k to 128 k using yarn 32 this resulted in deepseek v 2 sft with 1 2 m instances for helpfulness and 0 3 m for safety this resulted in deepseek v 2 chat sft which was not released rl using grpo in two stages the first stage was trained to solve math and coding problems this stage used 1 reward model trained on compiler feedback for coding and ground truth labels for math the second stage was trained to be helpful safe and follow rules this stage', 'to be helpful safe and follow rules this stage used 3 reward models the helpfulness and safety reward models were trained on human preference data the rule based reward model was manually programmed all trained reward models were initialized from deepseek v 2 chat sft this resulted in the released version of deepseek v 2 chat they opted for 2 staged rl because they found that rl on reasoning data had unique characteristics different from rl on general data for example rl on reasoning could', 'on general data for example rl on reasoning could improve over more training steps 31 the two v 2 lite models were smaller and trained similarly though deepseek v 2 lite chat only underwent sft not rl they trained the lite version to help further research and development on mla and deepseekmoe 31 architecturally the v 2 models were significantly modified from the deepseek llm series they changed the standard attention mechanism by a low rank approximation called multi head latent attention mla', 'called multi head latent attention mla and used the mixture of experts moe variant previously published in january compared to the standard sparsely gated moe their variant had shared experts that are always queried and routed experts that might not be 33 deepseek v 2 properties 31 section 3 1 2 appendix b 34 35 name params active params n layers displaystyle n text layers context length n shared experts displaystyle n text shared experts n routed experts displaystyle n text routed experts v 2', 'experts displaystyle n text routed experts v 2 lite 15 7 b 2 4 b 27 32 k 2 64 v 2 236 b 21 b 60 128 k 2 160 the financial times reported that it was cheaper than its peers with a price of 2 rmb for every million output tokens the university of waterloo tiger lab s leaderboard ranked deepseek v 2 seventh on its llm ranking 20 in june they released 4 models in the deepseek coder v 2 series v 2 base v 2 lite base v 2 instruct v 2 lite instruct they were trained as follows 36 note 4 the base models', 'were trained as follows 36 note 4 the base models were initialized from corresponding intermediate checkpoints after pretraining on 4 2 t tokens not the version at the end of pretraining then pretrained further for 6 t tokens then context extended to 128 k context length this produced the base models deepseek coder and deepseek math were used to generate 20 k code related and 30 k math related instruction data then combined with an instruction dataset of 300 m tokens this was used for sft rl', 'dataset of 300 m tokens this was used for sft rl with grpo the reward for math problems was computed by comparing with the ground truth label the reward for code problems was generated by a reward model trained to predict whether a program would pass the unit tests deepseek v 2 5 was released in september and updated in december it was made by combining deepseek v 2 chat and deepseek coder v 2 instruct 37 v 3 in december 2024 they released a base model deepseek v 3 base and a chat model', 'a base model deepseek v 3 base and a chat model deepseek v 3 the model architecture is essentially the same as v 2 they were trained as follows 38 pretraining on 14 8 t tokens of a multilingual corpus mostly english and chinese it contained a higher ratio of math and programming than the pretraining dataset of v 2 extend context length twice from 4 k to 32 k and then to 128 k using yarn 32 this produced deepseek v 3 base sft for 2 epochs on 1 5 m samples of reasoning math programming logic and', 'm samples of reasoning math programming logic and non reasoning creative writing roleplay simple question answering data reasoning data was generated by expert models non reasoning data was generated by deepseek v 2 5 and checked by humans the expert models were trained by starting with an unspecified base model then sft on both problem original response data and synthetic system prompt problem r 1 response data generated by an internal deepseek r 1 model the system prompt asked the r 1 to', 'r 1 model the system prompt asked the r 1 to reflect and verify during thinking then the expert models were rl using an unspecified reward function each expert model was trained to generate just synthetic reasoning data in one specific domain math programming logic expert models were used instead of r 1 itself since the output from r 1 itself suffered overthinking poor formatting and excessive length model based reward models were made by starting with a sft checkpoint of v 3 then finetuning on', 'with a sft checkpoint of v 3 then finetuning on human preference data containing both final reward and chain of thought leading to the final reward the reward model produced reward signals for both questions with objective but free form answers and questions without objective answers such as creative writing a sft checkpoint of v 3 was trained by grpo using both reward models and rule based reward the rule based reward was computed for math problems with a final answer put in a box and for', 'problems with a final answer put in a box and for programming problems by unit tests this produced deepseek v 3 deepseek v 3 properties 38 section 4 2 39 name params active params n layers displaystyle n text layers context length n shared experts displaystyle n text shared experts n routed experts displaystyle n text routed experts v 3 671 b 37 b 61 128 k 1 256 they performed extensive low level engineering to achieve efficiency they used mixed precision arithmetic much of the forward pass was', 'precision arithmetic much of the forward pass was performed in 8 bit floating point numbers 5 e 2 m 5 bit exponent and 2 bit mantissa rather than the standard 32 bit requiring special gemm routines to accumulate accurately they used a custom 12 bit float e 5 m 6 for only the inputs to the linear layers after the attention modules optimizer states were in 16 bit bf 16 they minimized the communication latency by overlapping extensively computation and communication such as dedicating 20 streaming', 'and communication such as dedicating 20 streaming multiprocessors out of 132 per h 800 for just inter gpu communication they lowered communication by rearranging every 10 minutes the exact machine each expert was on in order to avoid certain machines being queried more often than the others adding auxiliary load balancing losses to the training loss function and other load balancing techniques 38 after training it was deployed on h 800 clusters the h 800 within a cluster are connected by nvlink', 'h 800 within a cluster are connected by nvlink the clusters are connected by infiniband 38 total cost of training the deepseek v 3 model 38 table 1 stage cost in one thousand gpu hours cost in one million usd pre training 2 664 5 328 context extension 119 0 24 fine tuning 5 0 01 total 2 788 5 576 benchmark tests show that deepseek v 3 outperformed llama 3 1 and qwen 2 5 whilst matching gpt 4 o and claude 3 5 sonnet 19 40 41 42 r 1 on 20 november 2024 deepseek r 1 lite preview became accessible', '2024 deepseek r 1 lite preview became accessible via deepseek s api 43 it was trained for logical inference mathematical reasoning and real time problem solving deepseek claimed that it exceeded performance of openai o 1 on benchmarks such as american invitational mathematics examination aime and math 44 however the wall street journal stated when it used 15 problems from the 2024 edition of aime the o 1 model reached a solution faster than deepseek r 1 lite preview 45 on 20 january 2025', 'deepseek r 1 lite preview 45 on 20 january 2025 deepseek r 1 and deepseek r 1 zero were released 46 both were initialized from deepseek v 3 base and share its architecture the company also released some deepseek r 1 distill models which are not initialized on v 3 base but instead are initialized from other pretrained open weight models including llama and qwen then fine tuned on synthetic data generated by r 1 47 template for deepseek r 1 zero a conversation between user and assistant the user', 'conversation between user and assistant the user asks a question and the assistant solves it the assistant first thinks about the reasoning process in the mind and then provides the user with the answer the reasoning process and answer are enclosed within think think and answer answer tags respectively i e think reasoning process here think answer answer here answer user prompt assistant prompt is replaced with the specific reasoning question during training deepseek r 1 zero was trained', 'during training deepseek r 1 zero was trained exclusively using grpo rl without sft unlike previous versions they used no model based reward all reward functions were rule based mainly of two types other types were not specified accuracy rewards and format rewards accuracy reward was checking whether a boxed answer is correct for math or whether a code passes tests for programming format reward was checking whether the model puts its thinking trace within think think 47 as r 1 zero has issues', 'within think think 47 as r 1 zero has issues with readability and mixing languages r 1 was trained to address these issues and further improve reasoning 47 sft deepseek v 3 base on thousands of cold start data all with the standard format of special token reasoning process special token summary apply the same rl process as r 1 zero but also with a language consistency reward to encourage it to respond monolingually this produced an internal model not released synthesize 600 k reasoning data', 'not released synthesize 600 k reasoning data from the internal model with rejection sampling i e if the generated reasoning had a wrong final answer then it is removed synthesize 200 k non reasoning data writing factual qa self cognition translation using deepseek v 3 sft deepseek v 3 base on the 800 k synthetic data for 2 epochs grpo rl with both rule based reward for reasoning tasks and model based reward for non reasoning tasks helpfulness and harmlessness this produced deepseek r 1', 'and harmlessness this produced deepseek r 1 distilled models were trained by sft on 800 k data synthesized from deepseek r 1 in a similar way as step 3 above they were not trained with rl 47 assessment and reactions deepseek released its a i assistant which utilizes the v 3 model as a chatbot app for apple ios and android by 27 january 2025 the app had surpassed chatgpt as the highest rated free app on the ios app store in the united states its chatbot reportedly answers questions solves logic', 'chatbot reportedly answers questions solves logic problems and writes computer programs on par with other chatbots on the market according to benchmark tests used by american a i companies 4 deepseek v 3 uses significantly fewer resources compared to its peers for example whereas the world s leading a i companies train their chatbots with supercomputers using as many as 16 000 graphics processing units gpus if not more deepseek claims to have needed only about 2 000 gpus namely the h 800 series', 'only about 2 000 gpus namely the h 800 series chip from nvidia citation needed it was trained in around 55 days at a cost of us 5 58 million 38 which is roughly 10 times less than what u s tech giant meta spent building its latest a i technology 4 deepseek s competitive performance at relatively minimal cost has been recognized as potentially challenging the global dominance of american a i models 48 various publications and news media such as the hill and the guardian described the release of', 'hill and the guardian described the release of its chatbot as a sputnik moment for american a i 49 50 the performance of its r 1 model was reportedly on par with one of openai s latest models when used for tasks such as mathematics coding and natural language reasoning 51 echoing other commentators american silicon valley venture capitalist marc andreessen likewise described r 1 as ai s sputnik moment 51 deepseek s founder liang wenfeng has been compared to open ai ceo sam altman with cnn', 'been compared to open ai ceo sam altman with cnn calling him the sam altman of china and an evangelist for ai 52 the login error deepseek gave on 28 jan 2025 following a cyberattackdeepseek s optimization of limited resources has highlighted potential limits of u s sanctions on china s a i development which include export restrictions on advanced a i chips to china 19 53 the success of the company s a i models consequently sparked market turmoil 54 and caused shares in major global technology', '54 and caused shares in major global technology companies to plunge on 27 january nvidia s stock fell by as much as 17 18 55 as did the stock of rival broadcom other tech firms also sank including microsoft down 2 5 google s owner alphabet down over 4 and dutch chip equipment maker asml down over 7 51 a global selloff of technology stocks on nasdaq prompted by the release of the r 1 model had led to record losses of about 593 billion in the market capitalizations of ai and computer hardware', 'capitalizations of ai and computer hardware companies 56 by 28 january a total of 1 trillion of value was wiped off american stocks 50 leading figures in the american a i sector had mixed reactions to deepseek s success and performance 57 microsoft ceo satya nadella and openai ceo sam altman whose companies are involved in the u s government backed stargate project to develop american a i infrastructure both called deepseek super impressive 58 59 american president donald trump who announced', '59 american president donald trump who announced the stargate project called deepseek a wake up call 60 and a positive development 61 50 62 63 other leaders in the field including scale ai ceo alexandr wang anthropic cofounder and ceo dario amodei and elon musk expressed skepticism of the app s performance or of the sustainability of its success 57 64 65 various companies including amazon web services toyota and stripe are seeking to use the model in their program 66 on 27 january deepseek', 'model in their program 66 on 27 january deepseek limited its new user registration to chinese mainland phone numbers email and google login after a reported cyberattack that caused a slowdown to its servers and services 67 68 concerns censorship see also chinese censorship abroad and censorship in china deepseek responses when asked about xi jinping and narendra modi some sources have observed that the official api version of r 1 uses censorship mechanisms for topics that are considered', 'mechanisms for topics that are considered politically sensitive for the government of the people s republic of china for example the model refuses to answer questions about the 1989 tiananmen square protests and massacre persecution of uyghurs or human rights in china 69 70 the ai may initially generate an answer but then deletes it shortly afterwards and replaces it with a message such as sorry that s beyond my current scope let s talk about something else 70 the integrated censorship', 'about something else 70 the integrated censorship mechanisms and restrictions can only be removed to a limited extent in the open source version of the r 1 model if the core socialist values defined by the chinese internet regulatory authorities are touched upon or the political status of taiwan is raised discussions are terminated 71 when tested by nbc news deepseek s r 1 described taiwan as an inalienable part of china s territory and stated we firmly oppose any form of taiwan independence', 'we firmly oppose any form of taiwan independence separatist activities and are committed to achieving the complete reunification of the motherland through peaceful means 72 western researchers were able in january 2025 to trick deepseek into giving accurate answers to some of these topics by tailoring the question asked 73 security and privacy see also chinese information operations and information warfare there are also fears that the ai system could be used for foreign influence operations', 'could be used for foreign influence operations spreading disinformation surveillance and the development of cyberweapons for the government of the people s republic of china 74 75 76 deepseek s privacy terms and conditions say we store the information we collect in secure servers located in the people s republic of china we may collect your text or audio input prompt uploaded files feedback chat history or other content that you provide to our model and services although the data storage and', 'model and services although the data storage and collection policy is consistent with chatgpt s privacy policy 77 a media article reports this as security concerns 78 in response the italian data protection authority is seeking additional information on deepseek s collection and use of personal data and the united states national security council announced that it had started a national security review 79 80 see also artificial intelligence industry in china notes the number of heads does not', 'in china notes the number of heads does not equal the number of kv heads due to gqa the number of heads does not equal the number of kv heads due to gqa the number of heads does not equal the number of kv heads due to gqa inexplicably the model named deepseek coder v 2 chat in the paper was released as deepseek coder v 2 instruct in huggingface references gibney elizabeth 23 january 2025 china s cheap open ai model deepseek thrills scientists nature doi 10 1038 d 41586 025 00229 6 issn 1476', 'nature doi 10 1038 d 41586 025 00229 6 issn 1476 4687 pmid 39849139 a b vincent james 28 january 2025 the deepseek panic reveals an ai world ready to blow the guardian hoskins peter rahman jones imran 27 january 2025 nvidia shares sink as chinese ai app spooks markets bbc retrieved 28 january 2025 a b c d e f g metz cade tobin meaghan 23 january 2025 how chinese a i start up deepseek is competing with silicon valley giants the new york times issn 0362 4331 retrieved 27 january 2025 cosgrove', 'issn 0362 4331 retrieved 27 january 2025 cosgrove emma 27 january 2025 deepseek s cheaper models and weaker chips call into question trillions in ai infrastructure spending business insider mallick subhrojit 16 january 2024 biden admin s cap on gpu exports may hit india s ai ambitions the economic times retrieved 29 january 2025 saran cliff 10 december 2024 nvidia investigation signals widening of us and china chip war computer weekly computer weekly retrieved 27 january 2025 sherman natalie 9', 'retrieved 27 january 2025 sherman natalie 9 december 2024 nvidia targeted by china in new chip war probe bbc retrieved 27 january 2025 a b c metz cade 27 january 2025 what is deepseek and how is it upending a i the new york times issn 0362 4331 retrieved 27 january 2025 field hayden 27 january 2025 china s deepseek ai dethrones chatgpt on app store here s what you should know cnbc what is deepseek and why is it causing nvidia and other stocks to slump www cbsnews com 27 january 2025 zahn max', 'to slump www cbsnews com 27 january 2025 zahn max nvidia microsoft shares tumble as china based ai app deepseek hammers tech giants abc news retrieved 27 january 2025 roose kevin 28 january 2025 why deepseek could change what silicon valley believe about a i the new york times issn 0362 4331 retrieved 28 january 2025 a b romero luis e chatgpt deepseek or llama meta s lecun says open source is the key forbes panda aishwarya 28 january 2025 deepseek wounds redirected to low cost h 1 bs m 9 news', 'wounds redirected to low cost h 1 bs m 9 news retrieved 28 january 2025 a b chen caiwei 24 january 2025 how a top chinese ai model overcame us sanctions mit technology review archived from the original on 25 january 2025 a b c d ottinger lily 9 december 2024 deepseek from hedge fund to frontier model maker chinatalk archived from the original on 28 december 2024 retrieved 28 december 2024 yu xu 17 april 2023 exclusive chinese quant hedge fund high flyer won t use agi to trade stocks md says', 'high flyer won t use agi to trade stocks md says yicai global archived from the original on 31 december 2023 retrieved 28 december 2024 a b c d e jiang ben perezi bien 1 january 2025 meet deepseek the chinese start up that is changing how ai models are trained south china morning post archived from the original on 22 january 2025 retrieved 1 january 2025 a b mcmorrow ryan olcott eleanor 9 june 2024 the chinese quant fund turned ai pioneer financial times archived from the original on 17 july', 'times archived from the original on 17 july 2024 retrieved 28 december 2024 a b schneider jordan 27 november 2024 deepseek the quiet giant leading china s ai race chinatalk retrieved 28 december 2024 deepseek coder license model at main deepseek ai deepseek coder github archived from the original on 22 january 2025 retrieved 24 january 2025 a b c guo daya zhu qihao yang dejian xie zhenda dong kai zhang wentao chen guanting bi xiao wu y 26 january 2024 deepseek coder when the large language', '2024 deepseek coder when the large language model meets programming the rise of code intelligence arxiv 2401 14196 deepseek coder deepseekcoder github io retrieved 27 january 2025 deepseek ai deepseek coder deepseek 27 january 2025 retrieved 27 january 2025 deepseek ai deepseek coder 5 7 bmqa base hugging face huggingface co retrieved 27 january 2025 a b c d deepseek ai bi xiao chen deli chen guanting chen shanhuang dai damai deng chengqi ding honghui dong kai 5 january 2024 deepseek llm', 'ding honghui dong kai 5 january 2024 deepseek llm scaling open source language models with longtermism arxiv 2401 02954 deepseek ai deepseek llm deepseek 27 january 2025 retrieved 27 january 2025 shao zhihong wang peiyi zhu qihao xu runxin song junxiao bi xiao zhang haowei zhang mingchuan li y k 27 april 2024 deepseekmath pushing the limits of mathematical reasoning in open language models arxiv 2402 03300 wang peiyi li lei shao zhihong xu r x dai damai li yifei chen deli wu y sui zhifang 19', 'dai damai li yifei chen deli wu y sui zhifang 19 february 2024 math shepherd verify and reinforce llms step by step without human annotations arxiv 2312 08935 a b c d deepseek ai liu aixin feng bei wang bin wang bingxuan liu bo zhao chenggang dengr chengqi ruan chong 19 june 2024 deepseek v 2 a strong economical and efficient mixture of experts language model arxiv 2405 04434 a b peng bowen quesnelle jeffrey fan honglu shippole enrico 1 november 2023 yarn efficient context window extension of', '2023 yarn efficient context window extension of large language models arxiv 2309 00071 dai damai deng chengqi zhao chenggang xu r x gao huazuo chen deli li jiashi zeng wangding yu xingkai 11 january 2024 deepseekmoe towards ultimate expert specialization in mixture of experts language models arxiv 2401 06066 config json deepseek ai deepseek v 2 lite at main huggingface co 15 may 2024 retrieved 28 january 2025 config json deepseek ai deepseek v 2 at main huggingface co 6 may 2024 retrieved 28', '2 at main huggingface co 6 may 2024 retrieved 28 january 2025 deepseek ai zhu qihao guo daya shao zhihong yang dejian wang peiyi xu runxin wu y li yukun 17 june 2024 deepseek coder v 2 breaking the barrier of closed source models in code intelligence arxiv 2406 11931 deepseek ai deepseek v 2 5 hugging face huggingface co 3 january 2025 retrieved 28 january 2025 a b c d e f deepseek ai liu aixin feng bei xue bing wang bingxuan wu bochao lu chengda zhao chenggang deng chengqi 27 december 2024', 'zhao chenggang deng chengqi 27 december 2024 deepseek v 3 technical report arxiv 2412 19437 config json deepseek ai deepseek v 3 at main huggingface co 26 december 2024 retrieved 28 january 2025 jiang ben 27 december 2024 chinese start up deepseek s new ai model outperforms meta openai products south china morning post archived from the original on 27 december 2024 retrieved 28 december 2024 sharma shubham 26 december 2024 deepseek v 3 ultra large open source ai outperforms llama and qwen on', 'open source ai outperforms llama and qwen on launch venturebeat archived from the original on 27 december 2024 retrieved 28 december 2024 wiggers kyle 26 december 2024 deepseek s new ai model appears to be one of the best open challengers yet techcrunch archived from the original on 2 january 2025 retrieved 31 december 2024 news deepseek r 1 lite release 2024 11 20 deepseek r 1 lite preview is now live unleashing supercharged reasoning power deepseek api docs retrieved 28 january 2025 franzen', 'api docs retrieved 28 january 2025 franzen carl 20 november 2024 deepseek s first reasoning model r 1 lite preview turns heads beating openai o 1 performance venturebeat archived from the original on 22 november 2024 retrieved 28 december 2024 huang raffaele 24 december 2024 don t look now but china s ai is catching up fast the wall street journal archived from the original on 27 december 2024 retrieved 28 december 2024 release deepseek r 1 deepseek ai deepseek r 1 23807 ce github archived from', 'ai deepseek r 1 23807 ce github archived from the original on 21 january 2025 retrieved 21 january 2025 a b c d deepseek ai guo daya yang dejian zhang haowei song junxiao zhang ruoyu xu runxin zhu qihao ma shirong 22 january 2025 deepseek r 1 incentivizing reasoning capability in llms via reinforcement learning arxiv 2501 12948 chinese ai startup deepseek overtakes chatgpt on apple app store reuters 27 january 2025 retrieved 27 january 2025 wade david 6 december 2024 american ai has reached its', 'david 6 december 2024 american ai has reached its sputnik moment the hill archived from the original on 8 december 2024 retrieved 25 january 2025 a b c milmo dan hawkins amy booth robert kollewe julia 28 january 2025 sputnik moment 1 tn wiped off us stocks after chinese firm unveils ai chatbot via the guardian a b c deepseek chinese ai chatbot sparks market turmoil for rivals www bbc com 27 january 2025 retrieved 27 january 2025 goldman david 27 january 2025 what is deepseek the chinese ai', '27 january 2025 what is deepseek the chinese ai startup that shook the tech world cnn business cnn retrieved 29 january 2025 shilov anton 27 december 2024 chinese ai company s ai model breakthrough highlights limits of us sanctions tom s hardware archived from the original on 28 december 2024 retrieved 28 december 2024 deepseek updates chinese ai chatbot sparks us market turmoil wiping 500 bn off nvidia bbc news retrieved 27 january 2025 nazareth rita 26 january 2025 stock rout gets ugly as', 'rita 26 january 2025 stock rout gets ugly as nvidia extends loss to 17 markets wrap bloomberg retrieved 27 january 2025 carew sin ad cooper amanda banerjee ankur 27 january 2025 deepseek sparks global ai selloff nvidia losses about 593 billion of value reuters a b sherry ben 28 january 2025 deepseek calling it impressive but staying skeptical inc retrieved 29 january 2025 kevin okemwa 28 january 2025 microsoft ceo satya nadella touts deepseek s open source ai as super impressive we should take', 'open source ai as super impressive we should take the developments out of china very very seriously windows central retrieved 28 january 2025 nazzaro miranda 28 january 2025 openai s sam altman calls deepseek model impressive the hill retrieved 28 january 2025 dou eva gregg aaron zakrzewski cat tiku nitasha najmabadi shannon 28 january 2025 trump calls china s deepseek ai app a wake up call after tech stocks slide the washington post retrieved 28 january 2025 habeshian sareen 28 january 2025', '28 january 2025 habeshian sareen 28 january 2025 johnson bashes china on ai trump calls deepseek development positive axios hoskins peter rahman jones imran 27 january 2025 nvidia shares sink as chinese ai app spooks markets bbc retrieved 28 january 2025 karaian jason rennison joe 27 january 2025 china s a i advances spook big tech investors on wall street via nytimes com sharma manoj 6 january 2025 musk dismisses altman applauds what leaders say on deepseek s disruption fortune india retrieved', 'on deepseek s disruption fortune india retrieved 28 january 2025 elon musk questions deepseek s claims suggests massive nvidia gpu infrastructure financialexpress 28 january 2025 retrieved 28 january 2025 kim eugene big aws customers including stripe and toyota are hounding the cloud giant for access to deepseek ai models business insider kerr dara 27 january 2025 deepseek hit with large scale cyber attack after ai chatbot tops app stores the guardian retrieved 28 january 2025 tweedie steven', 'guardian retrieved 28 january 2025 tweedie steven altchek ana deepseek temporarily limited new sign ups citing large scale malicious attacks business insider field matthew titcomb james 27 january 2025 chinese ai has sparked a 1 trillion panic and it doesn t care about free speech the daily telegraph issn 0307 1235 retrieved 27 january 2025 a b steinschaden jakob 27 january 2025 deepseek this is what live censorship looks like in the chinese ai chatbot trending topics retrieved 27 january 2025', 'chatbot trending topics retrieved 27 january 2025 the guardian view on a global ai race geopolitics innovation and the rise of chaos the guardian 26 january 2025 issn 0261 3077 retrieved 27 january 2025 yang angela cui jasmine 27 january 2025 chinese ai deepseek jolts silicon valley giving the ai race its sputnik moment nbc news retrieved 27 january 2025 lu donna 28 january 2025 we tried out deepseek it worked well until we asked it about tiananmen square and taiwan the guardian issn 0261 3077', 'square and taiwan the guardian issn 0261 3077 retrieved 28 january 2025 kimery anthony 26 january 2025 china s deepseek ai poses formidable cyber data privacy threats biometric update retrieved 27 january 2025 booth robert milmo dan 28 january 2025 experts urge caution over use of chinese ai deepseek the guardian issn 0261 3077 retrieved 28 january 2025 hornby rael 28 january 2025 deepseek s success has painted a huge tiktok shaped target on its back laptopmag retrieved 28 january 2025 privacy', 'back laptopmag retrieved 28 january 2025 privacy policy open ai retrieved 28 january 2025 burgess matt deepseek s popular ai app is explicitly sending us data to china wired issn 1059 1028 retrieved 28 january 2025 italy regulator seeks information from deepseek on data protection reuters 28 january 2025 retrieved 28 january 2025 shalal andrea shepardson david 28 january 2025 white house evaluates effect of china ai app deepseek on national security official says reuters retrieved 28 january', 'official says reuters retrieved 28 january 2025 external links free and open source software portal wikimedia commons has media related to deepseek anthology of deepseek papers deepseek ai on github official api documentation deepseek ai on hugging face vtegenerative ai chatbotsunited states chatgpt claude gemini grok microsoft copilot poe replika you com europe mistral france minerva italy china deepseek qwen defunct bard related large language models category vtegenerative aiconcepts', 'language models category vtegenerative aiconcepts autoencoder deep learning generative adversarial network generative pre trained transformer large language model neural network prompt engineering retrieval augmented generation reinforcement learning from human feedback self supervised learning transformer variational autoencoder vision transformer word embedding modelstext claude dbrx gemini gpt 1 2 3 j chatgpt 4 4 o o 1 o 3 grok granite llama mistral large pangu qwen image aurora dall e', 'mistral large pangu qwen image aurora dall e firefly flux ideogram midjourney stable diffusion video dream machine gen 3 alpha hailuo ai kling sora veo videopoet music udio suno ai companies 01 ai alibaba anthropic baichuan deepseek elevenlabs google deepmind hugging face kuaishou meta ai minimax mistral ai moonshot ai openai runway stability ai synthesia xai zhipu ai category commons retrieved from https en wikipedia org w index php title deepseek oldid 1272628972 categories 2023', 'title deepseek oldid 1272628972 categories 2023 establishments in chinaartificial intelligence companiesartificial intelligence laboratoriescompanies based in hangzhoutechnology companies established in 2023 hidden categories articles with short descriptionshort description matches wikidatawikipedia pages semi protected against vandalismuse dmy dates from january 2025 articles containing chinese language textarticles containing simplified chinese language textall articles with unsourced', 'chinese language textall articles with unsourced statementsarticles with unsourced statements from january 2025 commons category link from wikidata this page was last edited on 29 january 2025 at 16 18 utc text is available under the creative commons attribution sharealike 4 0 license additional terms may apply by using this site you agree to the terms of use and privacy policy wikipedia is a registered trademark of the wikimedia foundation inc a non profit organization privacy policy about', 'a non profit organization privacy policy about wikipedia disclaimers contact wikipedia code of conduct developers statistics cookie statement mobile view search search toggle the table of contents deepseek 50 languages add topic']\n"
     ]
    }
   ],
   "source": [
    "with open(filename, \"r\", encoding=\"utf-8\") as f:\n",
    "    chunks = json.load(f)  # Load list from JSON\n",
    "\n",
    "print(chunks)\n"
   ]
  },
  {
   "cell_type": "code",
   "execution_count": 60,
   "metadata": {},
   "outputs": [
    {
     "data": {
      "text/plain": [
       "'https en wikipedia org wiki deepseek deepseek wikipedia jump to content main menu main menu move to sidebar hide navigation main pagecontentscurrent eventsrandom articleabout wikipediacontact us contribute helplearn to editcommunity portalrecent changesupload file search search appearance donate create account log in personal tools donate create account log in pages for logged out editors learn more contributionstalk contents move to sidebar hide top 1 background 2 release history toggle release'"
      ]
     },
     "execution_count": 60,
     "metadata": {},
     "output_type": "execute_result"
    }
   ],
   "source": [
    "chunks[0]"
   ]
  },
  {
   "cell_type": "markdown",
   "metadata": {},
   "source": [
    "# vectordb"
   ]
  },
  {
   "cell_type": "code",
   "execution_count": 61,
   "metadata": {},
   "outputs": [
    {
     "name": "stderr",
     "output_type": "stream",
     "text": [
      "e:\\GENAI\\genaivenv\\Lib\\site-packages\\tqdm\\auto.py:21: TqdmWarning: IProgress not found. Please update jupyter and ipywidgets. See https://ipywidgets.readthedocs.io/en/stable/user_install.html\n",
      "  from .autonotebook import tqdm as notebook_tqdm\n"
     ]
    }
   ],
   "source": [
    "from langchain_google_genai.embeddings import GoogleGenerativeAIEmbeddings\n",
    "\n",
    "embeddings=GoogleGenerativeAIEmbeddings(\n",
    "   google_api_key=os.getenv('GEMINI_API_KEY'),\n",
    "   model=\"models/embedding-001\"\n",
    ")"
   ]
  },
  {
   "cell_type": "code",
   "execution_count": null,
   "metadata": {},
   "outputs": [],
   "source": [
    "embeddings"
   ]
  },
  {
   "cell_type": "code",
   "execution_count": 62,
   "metadata": {},
   "outputs": [
    {
     "data": {
      "text/plain": [
       "768"
      ]
     },
     "execution_count": 62,
     "metadata": {},
     "output_type": "execute_result"
    }
   ],
   "source": [
    "d=embeddings.embed_query('how are you')\n",
    "len(d)"
   ]
  },
  {
   "cell_type": "code",
   "execution_count": 63,
   "metadata": {},
   "outputs": [
    {
     "data": {
      "text/plain": [
       "768"
      ]
     },
     "execution_count": 63,
     "metadata": {},
     "output_type": "execute_result"
    }
   ],
   "source": [
    "d=embeddings.embed_query(' jdsv udpv vsouvepu \\buj\\\\')\n",
    "len(d)"
   ]
  },
  {
   "cell_type": "code",
   "execution_count": 142,
   "metadata": {},
   "outputs": [],
   "source": [
    "import time\n",
    "from pinecone import Pinecone,ServerlessSpec\n",
    "\n",
    "pinecone_api_key = os.environ.get(\"PINECONE_API_KEY\")\n",
    "\n",
    "pc = Pinecone(api_key='pcsk_2e9E7E_PTURkSdk3ktVBRXriXwcd8XmbcTD8dqKhcqNDbRomkKcVA6QexdHcrCcdxEP4dD')\n",
    "index_name = \"rag\" \n",
    "\n",
    "existing_indexes = [index_info[\"name\"] for index_info in pc.list_indexes()]\n",
    "\n",
    "if index_name not in existing_indexes:\n",
    "    pc.create_index(\n",
    "        name=index_name,\n",
    "        dimension=3072,\n",
    "        metric=\"cosine\",\n",
    "        spec=ServerlessSpec(cloud=\"aws\", region=\"us-east-1\"),\n",
    "    )\n",
    "    while not pc.describe_index(index_name).status[\"ready\"]:\n",
    "        time.sleep(1)\n",
    "\n",
    "index = pc.Index(index_name)"
   ]
  },
  {
   "cell_type": "code",
   "execution_count": 143,
   "metadata": {},
   "outputs": [],
   "source": [
    "from langchain_pinecone import PineconeVectorStore\n",
    "vector_store = PineconeVectorStore(index=index, embedding=embeddings)"
   ]
  },
  {
   "cell_type": "code",
   "execution_count": 145,
   "metadata": {},
   "outputs": [
    {
     "data": {
      "text/plain": [
       "['91430d65-3ae8-49b6-86fb-11be62e2955e',\n",
       " 'ef22e4cf-3b66-4c2f-b2f6-9911a007ace3',\n",
       " '7fdd630f-8bab-4b97-a7fd-d0d14e7eb475',\n",
       " 'de94371f-6299-4d28-81b0-f12b3dd146c5',\n",
       " 'fa25e20d-552f-4081-a6a7-40bf5ad36de0',\n",
       " 'fdaef7f9-a0ad-4789-ba90-2c6d3a8bdee6',\n",
       " 'b132ca4d-88b1-49b5-9596-f31b66ba4c99',\n",
       " 'de336e36-1f92-4730-8934-0364e8df2770',\n",
       " '3f169102-3bb9-4af1-beca-ea2db73a71be',\n",
       " '669ea975-098b-4534-b1d7-8b2c91a7c60f',\n",
       " 'cdb8ca66-5b73-44e2-b81c-882eaa5db020',\n",
       " 'ac65f7df-8ee7-4f97-95cc-2a0a6e7b6d1a',\n",
       " 'fff35f81-fa0b-4e85-b997-dc86acd0a120',\n",
       " '5b6d6e15-74eb-45e6-bb55-c8746f70a4fa',\n",
       " '0c276a49-a454-4e64-986a-051be4e0f671',\n",
       " 'd1d7556c-ee91-4252-894c-08ff2a96212d',\n",
       " 'd4d4fbd0-583b-4d4a-ab9e-51e62a278cb2',\n",
       " 'c7c0df9b-1621-42f8-a5df-baccbfce1481',\n",
       " 'f1b5624c-363e-499f-a369-b1ab1206d8e4',\n",
       " '05eec6c1-12d4-405c-9d6d-0d3d520b7c86',\n",
       " 'f0d9c070-171b-4937-9fc5-82c1756d2e0d',\n",
       " '03f656f1-1eb2-451a-87c1-77c517cdc2db',\n",
       " '95c9b040-1c64-48bf-8135-6b7da509c6fa',\n",
       " '9aebb245-c788-474d-a399-3c5eb65911f6',\n",
       " '10368cb3-90f4-467c-b1dd-e9267501f3d9',\n",
       " '9df6bf96-1aca-4ece-b535-95a28c7cef85',\n",
       " 'df6ee5b2-7ac7-4739-af20-fa0fe5e0fd00',\n",
       " 'f14e528c-9b71-4ccc-a5a6-59d21de4f6e9',\n",
       " '3645fb71-5c21-4b06-bd93-19449a111ca6',\n",
       " '88ad52af-2b1a-4ffe-b601-5fae03d483f0',\n",
       " 'b205c01b-85cf-4673-96c0-81ff1d6346ef',\n",
       " '613e23b6-9995-4b1f-9e7f-3936e15e851e',\n",
       " '34876165-eb77-44b2-9470-e1b3ee66ec75',\n",
       " '36368766-a29f-46de-80da-e383778a2200',\n",
       " 'dfb161e7-3d6b-46e4-ae2f-9f83817e5ee8',\n",
       " '007390c6-c352-4bc1-9bd0-7e1093281478',\n",
       " 'dcd9bb8c-6fce-4f70-8f79-6072618b4fc8',\n",
       " '4602987c-3fed-44ee-8c04-81a03b724ada',\n",
       " '0a5181ba-9b09-4b9a-b251-fe14bc2e0aa7',\n",
       " 'd311df1d-21b3-4e63-b4aa-9f65429e252a',\n",
       " '710a5864-fbbc-4a28-aaec-881d8278af34',\n",
       " '5cd6308c-f799-463a-991c-aff4a8da7dd4',\n",
       " '35f4b4a1-697b-417f-90cd-b69b804269e4',\n",
       " '9f7d2aec-8569-4eda-b7d8-a6a803363dac',\n",
       " '65ac00f2-ee8d-4ceb-b3fe-b791c53e4e1f',\n",
       " 'c12f64e1-00c3-4db0-b543-8c867e60c0b7',\n",
       " 'b098062e-0d47-4094-896f-473cc0912ae8',\n",
       " 'e32ca0b6-b6bb-4967-b844-6af3905908c9',\n",
       " '2b0d40d0-47e1-4c52-bb75-14ded3a40b3b',\n",
       " '6f0971b9-e809-41ac-a5bf-7ca4f87f1c52',\n",
       " '3dc633a6-ed32-4d68-9f08-8258d68c5af4',\n",
       " '8730069f-a90d-4ecc-bb46-900956af9dfa',\n",
       " '73298a31-601d-48c8-bc20-63f08465b711',\n",
       " 'bcfd5ce3-22ae-4487-a171-4393e5bd9107',\n",
       " '40c09183-0f07-4e66-b462-877d650f25ad',\n",
       " 'd9d545e0-8ae0-4a09-a1ec-c2bdedec7772',\n",
       " '79a87db3-ec7b-4abc-b3aa-228e2c875308',\n",
       " 'deae22f7-3b17-4ffc-929c-396782f2bf0e',\n",
       " '8206744b-d841-4fed-a727-223df19ae9f7',\n",
       " '990f812c-8126-43f1-80ac-50826cbb6ee1',\n",
       " '7d88b737-60b7-4b13-b8c0-c2158d91cf0b',\n",
       " 'eb24eb9d-5356-4420-8699-9ab07ab98e2c',\n",
       " '44ab4aae-11dc-424e-8553-711380e06536',\n",
       " '3dd7d472-d7fd-47e1-9518-86d4c02d238f',\n",
       " '7793db3e-a6fa-4fa0-8ece-af9d0cef3ce0',\n",
       " '5bdd09c0-f7d2-4649-b133-85afc124d9c2',\n",
       " '227c731a-2773-4af1-978b-955e33ec8be5',\n",
       " '72ce197b-0c52-4259-8f7a-8a2112836ca1',\n",
       " '00864c21-0a70-4373-a044-ace6b65d1340',\n",
       " 'c5927046-869e-4696-a268-df728218e16d',\n",
       " 'e126c751-4d1c-411f-a464-cd746fbe226e',\n",
       " 'a371f3e7-2e5d-4a53-9949-cace956bcf98',\n",
       " 'e0d5bb68-c2da-409d-ad1a-06cec5b43c51',\n",
       " '771c4cdf-ff42-430c-8818-46afe26b3eeb',\n",
       " '2bc99522-d0e0-4b80-b157-1f4809dafbb5',\n",
       " '5410b012-ff10-4b41-b94e-edbcde0f3dc9',\n",
       " 'a07c99ed-3311-4922-972e-65ddfffe32b1',\n",
       " 'd2bcb0a5-4609-4401-850b-01cb09053964',\n",
       " '5e28b1cb-f306-44ba-a20a-1bf56d995307',\n",
       " '0727907c-8aa3-41d7-8b55-d10c12ff0ce5',\n",
       " 'df7bcfc6-5aee-4154-9de8-b5e319ca77b4',\n",
       " '988594b5-d4b2-4436-898a-0ddff6b49f94',\n",
       " '1705a154-81c3-4c63-a62a-3f33f8467d13',\n",
       " '90bdd136-9cb4-40cc-b797-11f0add283a9',\n",
       " 'f0d3fcda-523a-4779-9c57-ce0b19d7cded',\n",
       " '2e39e7fe-76da-450e-b90b-95cb8dcff947',\n",
       " '2bf0e315-5764-4a80-91ee-f2fb946ae0fd',\n",
       " 'd3982d66-2ed5-48bf-8ad8-3529526d27b0',\n",
       " '62f2d4fa-dc37-4845-a336-392c7fc6e29e',\n",
       " '1a8380e3-0ab6-424f-8210-c728c6abb5d5']"
      ]
     },
     "execution_count": 145,
     "metadata": {},
     "output_type": "execute_result"
    }
   ],
   "source": [
    "vector_store.add_texts(texts=chunks)"
   ]
  },
  {
   "cell_type": "code",
   "execution_count": 146,
   "metadata": {},
   "outputs": [],
   "source": [
    "query='what is deepseek model'\n",
    "\n",
    "similarity_search=vector_store.similarity_search(query)"
   ]
  },
  {
   "cell_type": "code",
   "execution_count": 149,
   "metadata": {},
   "outputs": [
    {
     "data": {
      "text/plain": [
       "'for math problems was computed by comparing with the ground truth label the reward for code problems was generated by a reward model trained to predict whether a program would pass the unit tests deepseek v 2 5 was released in september and updated in december it was made by combining deepseek v 2 chat and deepseek coder v 2 instruct 36 v 3 in december 2024 they released a base model deepseek v 3 base and a chat model deepseek v 3 the model architecture is essentially the same as v 2 they were'"
      ]
     },
     "execution_count": 149,
     "metadata": {},
     "output_type": "execute_result"
    }
   ],
   "source": [
    "similarity_search[0].page_content"
   ]
  },
  {
   "cell_type": "code",
   "execution_count": 65,
   "metadata": {},
   "outputs": [],
   "source": [
    "from langchain_community.vectorstores import FAISS\n",
    "db= FAISS.from_texts(chunks,embeddings)"
   ]
  },
  {
   "cell_type": "code",
   "execution_count": 66,
   "metadata": {},
   "outputs": [
    {
     "data": {
      "text/plain": [
       "91"
      ]
     },
     "execution_count": 66,
     "metadata": {},
     "output_type": "execute_result"
    }
   ],
   "source": [
    "db.index.ntotal"
   ]
  },
  {
   "cell_type": "code",
   "execution_count": 67,
   "metadata": {},
   "outputs": [],
   "source": [
    "db.save_local('vectordb/Faiss_db')"
   ]
  },
  {
   "cell_type": "markdown",
   "metadata": {},
   "source": [
    "## Retrival"
   ]
  },
  {
   "cell_type": "code",
   "execution_count": 152,
   "metadata": {},
   "outputs": [],
   "source": [
    "from langchain_google_genai import GoogleGenerativeAI\n",
    "from langchain.chains import RetrievalQA\n",
    "\n",
    "llm=GoogleGenerativeAI(\n",
    "   api_key=os.getenv('GEMINI_API_KEY'),\n",
    "   model='gemini-pro',\n",
    "   top_k=3\n",
    ")"
   ]
  },
  {
   "cell_type": "code",
   "execution_count": 153,
   "metadata": {},
   "outputs": [],
   "source": [
    "qa= RetrievalQA.from_chain_type(\n",
    "    llm=llm,\n",
    "    chain_type='stuff',\n",
    "    retriever=vector_store.as_retriever()\n",
    ")"
   ]
  },
  {
   "cell_type": "code",
   "execution_count": 154,
   "metadata": {},
   "outputs": [
    {
     "data": {
      "text/plain": [
       "{'query': 'Tell me about Deepseak models',\n",
       " 'result': 'Deepseak models are a series of large language models developed by Deepseak AI. The models are trained on a massive dataset of English and Chinese text, and they are designed to perform a variety of natural language processing tasks, such as text generation, translation, and question answering. Deepseak models have been used to develop a variety of applications, including chatbots, search engines, and language translation tools.'}"
      ]
     },
     "execution_count": 154,
     "metadata": {},
     "output_type": "execute_result"
    }
   ],
   "source": [
    "qa.invoke('Tell me about Deepseak models')"
   ]
  },
  {
   "cell_type": "code",
   "execution_count": 155,
   "metadata": {},
   "outputs": [
    {
     "data": {
      "text/plain": [
       "{'query': 'Tell me about Deepseak model architechure',\n",
       " 'result': 'v2 models were significantly modified from the deepseek llm series, they changed the standard attention mechanism by a low rank approximation called multi head latent attention mla and used the mixture of experts moe variant previously published in january compared'}"
      ]
     },
     "execution_count": 155,
     "metadata": {},
     "output_type": "execute_result"
    }
   ],
   "source": [
    "qa.invoke('Tell me about Deepseak model architechure')"
   ]
  },
  {
   "cell_type": "code",
   "execution_count": 172,
   "metadata": {},
   "outputs": [],
   "source": [
    "## fiaas db\n",
    "qa= RetrievalQA.from_chain_type(\n",
    "    llm=llm,\n",
    "    chain_type='stuff',\n",
    "    retriever=db.as_retriever()\n",
    ")"
   ]
  },
  {
   "cell_type": "code",
   "execution_count": 173,
   "metadata": {},
   "outputs": [
    {
     "data": {
      "text/plain": [
       "{'query': 'Tell me about Deepseak models',\n",
       " 'result': 'Deepseak models are a series of large language models (LLMs) developed by Chinese software engineers. The models are trained on a massive dataset of English and Chinese text, and they are capable of performing a wide range of natural language processing tasks, such as text generation, translation, question answering, and dialogue. Deepseak models have been used to develop a variety of applications, including chatbots, search engines, and language learning tools.'}"
      ]
     },
     "execution_count": 173,
     "metadata": {},
     "output_type": "execute_result"
    }
   ],
   "source": [
    "qa.invoke('Tell me about Deepseak models')"
   ]
  },
  {
   "cell_type": "code",
   "execution_count": 174,
   "metadata": {},
   "outputs": [
    {
     "data": {
      "text/plain": [
       "{'query': 'Tell me about Deepseak model architechure',\n",
       " 'result': 'Deepseak v2 models were significantly modified from the DeepSeek LLM series. They changed the standard attention mechanism to a low rank approximation called Multi-Head Latent Attention (MLA) and used the Mixture of Experts (MoE) variant published in January. DeepSeek v3 models have essentially the same architecture as v2, but are trained differently.'}"
      ]
     },
     "execution_count": 174,
     "metadata": {},
     "output_type": "execute_result"
    }
   ],
   "source": [
    "qa.invoke('Tell me about Deepseak model architechure')"
   ]
  },
  {
   "cell_type": "code",
   "execution_count": 98,
   "metadata": {},
   "outputs": [
    {
     "ename": "TypeError",
     "evalue": "no default __reduce__ due to non-trivial __cinit__",
     "output_type": "error",
     "traceback": [
      "\u001b[1;31m---------------------------------------------------------------------------\u001b[0m",
      "\u001b[1;31mTypeError\u001b[0m                                 Traceback (most recent call last)",
      "Cell \u001b[1;32mIn[98], line 2\u001b[0m\n\u001b[0;32m      1\u001b[0m \u001b[38;5;28;01mimport\u001b[39;00m \u001b[38;5;21;01mnumpy\u001b[39;00m \u001b[38;5;28;01mas\u001b[39;00m \u001b[38;5;21;01mnp\u001b[39;00m\n\u001b[1;32m----> 2\u001b[0m \u001b[43mnp\u001b[49m\u001b[38;5;241;43m.\u001b[39;49m\u001b[43msave\u001b[49m\u001b[43m(\u001b[49m\u001b[43mfile\u001b[49m\u001b[38;5;241;43m=\u001b[39;49m\u001b[38;5;124;43m'\u001b[39;49m\u001b[38;5;124;43membed/embeding.npy\u001b[39;49m\u001b[38;5;124;43m'\u001b[39;49m\u001b[43m,\u001b[49m\u001b[43marr\u001b[49m\u001b[38;5;241;43m=\u001b[39;49m\u001b[43m \u001b[49m\u001b[43membeddings\u001b[49m\u001b[43m)\u001b[49m\n",
      "File \u001b[1;32me:\\GENAI\\genaivenv\\Lib\\site-packages\\numpy\\lib\\npyio.py:546\u001b[0m, in \u001b[0;36msave\u001b[1;34m(file, arr, allow_pickle, fix_imports)\u001b[0m\n\u001b[0;32m    544\u001b[0m \u001b[38;5;28;01mwith\u001b[39;00m file_ctx \u001b[38;5;28;01mas\u001b[39;00m fid:\n\u001b[0;32m    545\u001b[0m     arr \u001b[38;5;241m=\u001b[39m np\u001b[38;5;241m.\u001b[39masanyarray(arr)\n\u001b[1;32m--> 546\u001b[0m     \u001b[38;5;28;43mformat\u001b[39;49m\u001b[38;5;241;43m.\u001b[39;49m\u001b[43mwrite_array\u001b[49m\u001b[43m(\u001b[49m\u001b[43mfid\u001b[49m\u001b[43m,\u001b[49m\u001b[43m \u001b[49m\u001b[43marr\u001b[49m\u001b[43m,\u001b[49m\u001b[43m \u001b[49m\u001b[43mallow_pickle\u001b[49m\u001b[38;5;241;43m=\u001b[39;49m\u001b[43mallow_pickle\u001b[49m\u001b[43m,\u001b[49m\n\u001b[0;32m    547\u001b[0m \u001b[43m                       \u001b[49m\u001b[43mpickle_kwargs\u001b[49m\u001b[38;5;241;43m=\u001b[39;49m\u001b[38;5;28;43mdict\u001b[39;49m\u001b[43m(\u001b[49m\u001b[43mfix_imports\u001b[49m\u001b[38;5;241;43m=\u001b[39;49m\u001b[43mfix_imports\u001b[49m\u001b[43m)\u001b[49m\u001b[43m)\u001b[49m\n",
      "File \u001b[1;32me:\\GENAI\\genaivenv\\Lib\\site-packages\\numpy\\lib\\format.py:719\u001b[0m, in \u001b[0;36mwrite_array\u001b[1;34m(fp, array, version, allow_pickle, pickle_kwargs)\u001b[0m\n\u001b[0;32m    717\u001b[0m     \u001b[38;5;28;01mif\u001b[39;00m pickle_kwargs \u001b[38;5;129;01mis\u001b[39;00m \u001b[38;5;28;01mNone\u001b[39;00m:\n\u001b[0;32m    718\u001b[0m         pickle_kwargs \u001b[38;5;241m=\u001b[39m {}\n\u001b[1;32m--> 719\u001b[0m     \u001b[43mpickle\u001b[49m\u001b[38;5;241;43m.\u001b[39;49m\u001b[43mdump\u001b[49m\u001b[43m(\u001b[49m\u001b[43marray\u001b[49m\u001b[43m,\u001b[49m\u001b[43m \u001b[49m\u001b[43mfp\u001b[49m\u001b[43m,\u001b[49m\u001b[43m \u001b[49m\u001b[43mprotocol\u001b[49m\u001b[38;5;241;43m=\u001b[39;49m\u001b[38;5;241;43m3\u001b[39;49m\u001b[43m,\u001b[49m\u001b[43m \u001b[49m\u001b[38;5;241;43m*\u001b[39;49m\u001b[38;5;241;43m*\u001b[39;49m\u001b[43mpickle_kwargs\u001b[49m\u001b[43m)\u001b[49m\n\u001b[0;32m    720\u001b[0m \u001b[38;5;28;01melif\u001b[39;00m array\u001b[38;5;241m.\u001b[39mflags\u001b[38;5;241m.\u001b[39mf_contiguous \u001b[38;5;129;01mand\u001b[39;00m \u001b[38;5;129;01mnot\u001b[39;00m array\u001b[38;5;241m.\u001b[39mflags\u001b[38;5;241m.\u001b[39mc_contiguous:\n\u001b[0;32m    721\u001b[0m     \u001b[38;5;28;01mif\u001b[39;00m isfileobj(fp):\n",
      "File \u001b[1;32m<stringsource>:2\u001b[0m, in \u001b[0;36mgrpc._cython.cygrpc.Channel.__reduce_cython__\u001b[1;34m()\u001b[0m\n",
      "\u001b[1;31mTypeError\u001b[0m: no default __reduce__ due to non-trivial __cinit__"
     ]
    }
   ],
   "source": [
    "import numpy as np\n",
    "np.save(file='embed/embeding.npy',arr= embeddings)"
   ]
  },
  {
   "cell_type": "code",
   "execution_count": 95,
   "metadata": {},
   "outputs": [
    {
     "ename": "TypeError",
     "evalue": "no default __reduce__ due to non-trivial __cinit__",
     "output_type": "error",
     "traceback": [
      "\u001b[1;31m---------------------------------------------------------------------------\u001b[0m",
      "\u001b[1;31mTypeError\u001b[0m                                 Traceback (most recent call last)",
      "Cell \u001b[1;32mIn[95], line 8\u001b[0m\n\u001b[0;32m      5\u001b[0m os\u001b[38;5;241m.\u001b[39mmakedirs(dir_path, exist_ok\u001b[38;5;241m=\u001b[39m\u001b[38;5;28;01mTrue\u001b[39;00m) \n\u001b[0;32m      7\u001b[0m \u001b[38;5;28;01mwith\u001b[39;00m \u001b[38;5;28mopen\u001b[39m(filename, \u001b[38;5;124m\"\u001b[39m\u001b[38;5;124mwb\u001b[39m\u001b[38;5;124m\"\u001b[39m) \u001b[38;5;28;01mas\u001b[39;00m f: \n\u001b[1;32m----> 8\u001b[0m     \u001b[43mpickle\u001b[49m\u001b[38;5;241;43m.\u001b[39;49m\u001b[43mdump\u001b[49m\u001b[43m(\u001b[49m\u001b[43membeddings\u001b[49m\u001b[43m,\u001b[49m\u001b[43m \u001b[49m\u001b[43mf\u001b[49m\u001b[43m)\u001b[49m\n",
      "File \u001b[1;32m<stringsource>:2\u001b[0m, in \u001b[0;36mgrpc._cython.cygrpc.Channel.__reduce_cython__\u001b[1;34m()\u001b[0m\n",
      "\u001b[1;31mTypeError\u001b[0m: no default __reduce__ due to non-trivial __cinit__"
     ]
    }
   ],
   "source": [
    "import pickle\n",
    "\n",
    "filename = 'embed/embeding.pkl' \n",
    "dir_path = os.path.dirname(filename) \n",
    "os.makedirs(dir_path, exist_ok=True) \n",
    "\n",
    "with open(filename, \"wb\") as f: \n",
    "    pickle.dump(embeddings, f)"
   ]
  },
  {
   "cell_type": "code",
   "execution_count": 86,
   "metadata": {},
   "outputs": [
    {
     "ename": "TypeError",
     "evalue": "FAISS.load_local() missing 1 required positional argument: 'embeddings'",
     "output_type": "error",
     "traceback": [
      "\u001b[1;31m---------------------------------------------------------------------------\u001b[0m",
      "\u001b[1;31mTypeError\u001b[0m                                 Traceback (most recent call last)",
      "Cell \u001b[1;32mIn[86], line 1\u001b[0m\n\u001b[1;32m----> 1\u001b[0m new_db\u001b[38;5;241m=\u001b[39m \u001b[43mFAISS\u001b[49m\u001b[38;5;241;43m.\u001b[39;49m\u001b[43mload_local\u001b[49m\u001b[43m(\u001b[49m\u001b[38;5;124;43m'\u001b[39;49m\u001b[38;5;124;43mvectordb/Faiss_db\u001b[39;49m\u001b[38;5;124;43m'\u001b[39;49m\u001b[43m,\u001b[49m\u001b[43mallow_dangerous_deserialization\u001b[49m\u001b[38;5;241;43m=\u001b[39;49m\u001b[38;5;28;43;01mTrue\u001b[39;49;00m\u001b[43m)\u001b[49m\n",
      "\u001b[1;31mTypeError\u001b[0m: FAISS.load_local() missing 1 required positional argument: 'embeddings'"
     ]
    }
   ],
   "source": [
    "new_db= FAISS.load_local('vectordb/Faiss_db',allow_dangerous_deserialization=True)"
   ]
  },
  {
   "cell_type": "code",
   "execution_count": 182,
   "metadata": {},
   "outputs": [
    {
     "data": {
      "text/plain": [
       "[Document(id='5b2895cc-825d-4f32-9c21-25f01f80e19d', metadata={}, page_content='the two v 2 lite models were smaller and trained similarly though deepseek v 2 lite chat only underwent sft not rl they trained the lite version to help further research and development on mla and deepseekmoe 30 architecturally the v 2 models were significantly modified from the deepseek llm series they changed the standard attention mechanism by a low rank approximation called multi head latent attention mla and used the mixture of experts moe variant previously published in january compared'),\n",
       " Document(id='0087d14b-1988-4178-b987-216b5b67ff5f', metadata={}, page_content='models and training details open source allowing its code to be freely available for use modification viewing and designing documents for building purposes 13 the company reportedly vigorously recruits young a i researchers from top chinese universities 8 and hires from outside the computer science field to diversify its models knowledge and abilities 4 deepseek ai chatbot is developed entirely by chinese software engineers whereas ai models established in silicon valley are created by people'),\n",
       " Document(id='02625a07-bfaf-4c06-a7d2-a5c6a1a38c0e', metadata={}, page_content='5 like deepseek coder the code for the model was under mit license with deepseek license for the model itself 27 the architecture was essentially the same as those of the llama series they used the pre norm decoder only transformer with rmsnorm as the normalization swiglu in the feedforward layers rotary positional embedding rope and grouped query attention gqa both had vocabulary size 102400 byte level bpe and context length of 4096 they trained on 2 trillion tokens of english and chinese text'),\n",
       " Document(id='dbe95373-a1ee-433e-9029-828c2d818c45', metadata={}, page_content='is essentially the same as v 2 they were trained as follows 37 pretraining on 14 8 t tokens of a multilingual corpus mostly english and chinese it contained a higher ratio of math and programming than the pretraining dataset of v 2 extend context length twice from 4 k to 32 k and then to 128 k using yarn 31 this produced deepseek v 3 base sft for 2 epochs on 1 5 m samples of reasoning math programming logic and non reasoning creative writing roleplay simple question answering data reasoning')]"
      ]
     },
     "execution_count": 182,
     "metadata": {},
     "output_type": "execute_result"
    }
   ],
   "source": [
    "new_db.similarity_search('Tell me about Deepseak model architechure')"
   ]
  },
  {
   "cell_type": "markdown",
   "metadata": {},
   "source": [
    "## Hybrid Search"
   ]
  },
  {
   "cell_type": "code",
   "execution_count": 68,
   "metadata": {},
   "outputs": [],
   "source": [
    "from langchain.retrievers import BM25Retriever, EnsembleRetriever"
   ]
  },
  {
   "cell_type": "code",
   "execution_count": 69,
   "metadata": {},
   "outputs": [],
   "source": [
    "faiss_retriever= db.as_retriever(search_kwargs={'k':2})"
   ]
  },
  {
   "cell_type": "code",
   "execution_count": 70,
   "metadata": {},
   "outputs": [
    {
     "name": "stderr",
     "output_type": "stream",
     "text": [
      "C:\\Users\\www58\\AppData\\Local\\Temp\\ipykernel_10036\\1134214075.py:1: LangChainDeprecationWarning: The method `BaseRetriever.get_relevant_documents` was deprecated in langchain-core 0.1.46 and will be removed in 1.0. Use :meth:`~invoke` instead.\n",
      "  faiss_retriever.get_relevant_documents('what is deepseek model')\n"
     ]
    },
    {
     "data": {
      "text/plain": [
       "[Document(id='07326528-a625-4255-804a-6ff884f635ac', metadata={}, page_content='called multi head latent attention mla and used the mixture of experts moe variant previously published in january compared to the standard sparsely gated moe their variant had shared experts that are always queried and routed experts that might not be 33 deepseek v 2 properties 31 section 3 1 2 appendix b 34 35 name params active params n layers displaystyle n text layers context length n shared experts displaystyle n text shared experts n routed experts displaystyle n text routed experts v 2'),\n",
       " Document(id='3f4a69e6-e38e-48cf-9d31-d2c9d6a076b3', metadata={}, page_content='n heads displaystyle n text heads n kv heads displaystyle n text kv heads 1 3 b 24 2048 5504 16 16 5 7 b 32 4096 11008 32 1 note 1 6 7 b 32 4096 11008 32 32 33 b 62 7168 19200 56 7 note 2 on 29 november 2023 deepseek released the deepseek llm series of models with 7 b and 67 b parameters in both base and chat forms no instruct was released it was developed to compete with other llms available at the time the paper claimed benchmark results higher than most open source llms at the time')]"
      ]
     },
     "execution_count": 70,
     "metadata": {},
     "output_type": "execute_result"
    }
   ],
   "source": [
    "faiss_retriever.get_relevant_documents('what is deepseek model')"
   ]
  },
  {
   "cell_type": "code",
   "execution_count": 72,
   "metadata": {},
   "outputs": [
    {
     "name": "stdout",
     "output_type": "stream",
     "text": [
      "Collecting rank_bm25Note: you may need to restart the kernel to use updated packages.\n",
      "\n",
      "  Downloading rank_bm25-0.2.2-py3-none-any.whl.metadata (3.2 kB)\n",
      "Requirement already satisfied: numpy in e:\\genai\\genaivenv\\lib\\site-packages (from rank_bm25) (1.26.4)\n",
      "Downloading rank_bm25-0.2.2-py3-none-any.whl (8.6 kB)\n",
      "Installing collected packages: rank_bm25\n",
      "Successfully installed rank_bm25-0.2.2\n"
     ]
    }
   ],
   "source": [
    "pip install rank_bm25"
   ]
  },
  {
   "cell_type": "code",
   "execution_count": 73,
   "metadata": {},
   "outputs": [],
   "source": [
    "bm25_retriever= BM25Retriever.from_texts(chunks)"
   ]
  },
  {
   "cell_type": "code",
   "execution_count": 74,
   "metadata": {},
   "outputs": [],
   "source": [
    "bm25_retriever.k=2"
   ]
  },
  {
   "cell_type": "code",
   "execution_count": 75,
   "metadata": {},
   "outputs": [
    {
     "data": {
      "text/plain": [
       "[Document(metadata={}, page_content='retrieved 27 january 2025 sherman natalie 9 december 2024 nvidia targeted by china in new chip war probe bbc retrieved 27 january 2025 a b c metz cade 27 january 2025 what is deepseek and how is it upending a i the new york times issn 0362 4331 retrieved 27 january 2025 field hayden 27 january 2025 china s deepseek ai dethrones chatgpt on app store here s what you should know cnbc what is deepseek and why is it causing nvidia and other stocks to slump www cbsnews com 27 january 2025 zahn max'),\n",
       " Document(metadata={}, page_content='to slump www cbsnews com 27 january 2025 zahn max nvidia microsoft shares tumble as china based ai app deepseek hammers tech giants abc news retrieved 27 january 2025 roose kevin 28 january 2025 why deepseek could change what silicon valley believe about a i the new york times issn 0362 4331 retrieved 28 january 2025 a b romero luis e chatgpt deepseek or llama meta s lecun says open source is the key forbes panda aishwarya 28 january 2025 deepseek wounds redirected to low cost h 1 bs m 9 news')]"
      ]
     },
     "execution_count": 75,
     "metadata": {},
     "output_type": "execute_result"
    }
   ],
   "source": [
    "bm25_retriever.get_relevant_documents('what is deepseek mode')"
   ]
  },
  {
   "cell_type": "code",
   "execution_count": 76,
   "metadata": {},
   "outputs": [],
   "source": [
    "# Ensemble retriever\n",
    "ensemble_retriever = EnsembleRetriever(\n",
    "   retrievers=[bm25_retriever,faiss_retriever],\n",
    "   weights=[0.5,0.5]\n",
    ")"
   ]
  },
  {
   "cell_type": "code",
   "execution_count": 77,
   "metadata": {},
   "outputs": [
    {
     "data": {
      "text/plain": [
       "[Document(metadata={}, page_content='retrieved 27 january 2025 sherman natalie 9 december 2024 nvidia targeted by china in new chip war probe bbc retrieved 27 january 2025 a b c metz cade 27 january 2025 what is deepseek and how is it upending a i the new york times issn 0362 4331 retrieved 27 january 2025 field hayden 27 january 2025 china s deepseek ai dethrones chatgpt on app store here s what you should know cnbc what is deepseek and why is it causing nvidia and other stocks to slump www cbsnews com 27 january 2025 zahn max'),\n",
       " Document(id='07326528-a625-4255-804a-6ff884f635ac', metadata={}, page_content='called multi head latent attention mla and used the mixture of experts moe variant previously published in january compared to the standard sparsely gated moe their variant had shared experts that are always queried and routed experts that might not be 33 deepseek v 2 properties 31 section 3 1 2 appendix b 34 35 name params active params n layers displaystyle n text layers context length n shared experts displaystyle n text shared experts n routed experts displaystyle n text routed experts v 2'),\n",
       " Document(metadata={}, page_content='to slump www cbsnews com 27 january 2025 zahn max nvidia microsoft shares tumble as china based ai app deepseek hammers tech giants abc news retrieved 27 january 2025 roose kevin 28 january 2025 why deepseek could change what silicon valley believe about a i the new york times issn 0362 4331 retrieved 28 january 2025 a b romero luis e chatgpt deepseek or llama meta s lecun says open source is the key forbes panda aishwarya 28 january 2025 deepseek wounds redirected to low cost h 1 bs m 9 news'),\n",
       " Document(id='bbd84175-97dd-40bc-a06c-0a506bdfd901', metadata={}, page_content='zhao chenggang deng chengqi 27 december 2024 deepseek v 3 technical report arxiv 2412 19437 config json deepseek ai deepseek v 3 at main huggingface co 26 december 2024 retrieved 28 january 2025 jiang ben 27 december 2024 chinese start up deepseek s new ai model outperforms meta openai products south china morning post archived from the original on 27 december 2024 retrieved 28 december 2024 sharma shubham 26 december 2024 deepseek v 3 ultra large open source ai outperforms llama and qwen on')]"
      ]
     },
     "execution_count": 77,
     "metadata": {},
     "output_type": "execute_result"
    }
   ],
   "source": [
    "ensemble_retriever.get_relevant_documents('what is deepseek mode')"
   ]
  },
  {
   "cell_type": "code",
   "execution_count": 81,
   "metadata": {},
   "outputs": [],
   "source": [
    "from langchain_google_genai import GoogleGenerativeAI\n",
    "from langchain.chains import RetrievalQA\n",
    "\n",
    "llm=GoogleGenerativeAI(\n",
    "   api_key=os.getenv('GEMINI_API_KEY'),\n",
    "   model='gemini-pro',\n",
    "   top_k=3\n",
    ")\n",
    "\n",
    "qa= RetrievalQA.from_chain_type(\n",
    "    llm=llm,\n",
    "    chain_type='stuff',\n",
    "    retriever=ensemble_retriever\n",
    ")"
   ]
  },
  {
   "cell_type": "code",
   "execution_count": 83,
   "metadata": {},
   "outputs": [
    {
     "data": {
      "text/plain": [
       "{'query': 'what is deepseek model', 'result': \"I don't know.\"}"
      ]
     },
     "execution_count": 83,
     "metadata": {},
     "output_type": "execute_result"
    }
   ],
   "source": [
    "qa.invoke('what is deepseek model')"
   ]
  },
  {
   "cell_type": "code",
   "execution_count": 99,
   "metadata": {},
   "outputs": [
    {
     "ename": "AttributeError",
     "evalue": "module 'src.constants.traning_pipline' has no attribute 'VECTOR_DATABASE_DIR_PATH'",
     "output_type": "error",
     "traceback": [
      "\u001b[1;31m---------------------------------------------------------------------------\u001b[0m",
      "\u001b[1;31mAttributeError\u001b[0m                            Traceback (most recent call last)",
      "Cell \u001b[1;32mIn[99], line 4\u001b[0m\n\u001b[0;32m      1\u001b[0m \u001b[38;5;66;03m# test\u001b[39;00m\n\u001b[0;32m      2\u001b[0m \u001b[38;5;28;01mfrom\u001b[39;00m \u001b[38;5;21;01msrc\u001b[39;00m\u001b[38;5;21;01m.\u001b[39;00m\u001b[38;5;21;01mpipline\u001b[39;00m\u001b[38;5;21;01m.\u001b[39;00m\u001b[38;5;21;01mretrieever_pipline\u001b[39;00m \u001b[38;5;28;01mimport\u001b[39;00m HybridRetriever\n\u001b[1;32m----> 4\u001b[0m r\u001b[38;5;241m=\u001b[39m\u001b[43mHybridRetriever\u001b[49m\u001b[43m(\u001b[49m\u001b[43m)\u001b[49m\n\u001b[0;32m      5\u001b[0m r\u001b[38;5;241m.\u001b[39mget_relevant_documents(\u001b[38;5;124m'\u001b[39m\u001b[38;5;124mwhat is deepseek\u001b[39m\u001b[38;5;124m'\u001b[39m)\n",
      "File \u001b[1;32md:\\assamement-project\\wikipedia-rag-based-application\\src\\pipline\\retrieever_pipline.py:14\u001b[0m, in \u001b[0;36mHybridRetriever.__init__\u001b[1;34m(self)\u001b[0m\n\u001b[0;32m     13\u001b[0m \u001b[38;5;28;01mdef\u001b[39;00m \u001b[38;5;21m__init__\u001b[39m(\u001b[38;5;28mself\u001b[39m):\n\u001b[1;32m---> 14\u001b[0m     \u001b[38;5;28mself\u001b[39m\u001b[38;5;241m.\u001b[39mtraning_pipline_config \u001b[38;5;241m=\u001b[39m \u001b[43mTraningPiplineConfig\u001b[49m\u001b[43m(\u001b[49m\u001b[43m)\u001b[49m\n\u001b[0;32m     15\u001b[0m     \u001b[38;5;28mself\u001b[39m\u001b[38;5;241m.\u001b[39mchunking_data \u001b[38;5;241m=\u001b[39m DataChunkingConfig(traning_pipline_config\u001b[38;5;241m=\u001b[39m\u001b[38;5;28mself\u001b[39m\u001b[38;5;241m.\u001b[39mtraning_pipline_config)\n\u001b[0;32m     16\u001b[0m     logging\u001b[38;5;241m.\u001b[39minfo(\u001b[38;5;124m\"\u001b[39m\u001b[38;5;124mRetrieval Process Started\u001b[39m\u001b[38;5;124m\"\u001b[39m)\n",
      "File \u001b[1;32md:\\assamement-project\\wikipedia-rag-based-application\\src\\config\\config.py:10\u001b[0m, in \u001b[0;36mTraningPiplineConfig.__init__\u001b[1;34m(self)\u001b[0m\n\u001b[0;32m      8\u001b[0m \u001b[38;5;28mself\u001b[39m\u001b[38;5;241m.\u001b[39mtimestamp\u001b[38;5;241m=\u001b[39mdatetime\u001b[38;5;241m.\u001b[39mnow()\u001b[38;5;241m.\u001b[39mstrftime(\u001b[38;5;124m'\u001b[39m\u001b[38;5;124m%\u001b[39m\u001b[38;5;124mY_\u001b[39m\u001b[38;5;124m%\u001b[39m\u001b[38;5;124mm_\u001b[39m\u001b[38;5;132;01m%d\u001b[39;00m\u001b[38;5;124m_\u001b[39m\u001b[38;5;124m%\u001b[39m\u001b[38;5;124mH_\u001b[39m\u001b[38;5;124m%\u001b[39m\u001b[38;5;124mM_\u001b[39m\u001b[38;5;124m%\u001b[39m\u001b[38;5;124mS\u001b[39m\u001b[38;5;124m'\u001b[39m)\n\u001b[0;32m      9\u001b[0m \u001b[38;5;28mself\u001b[39m\u001b[38;5;241m.\u001b[39martifacts_path\u001b[38;5;241m=\u001b[39mos\u001b[38;5;241m.\u001b[39mpath\u001b[38;5;241m.\u001b[39mjoin(traning_pipline\u001b[38;5;241m.\u001b[39mARTIFACTS_PATH,\u001b[38;5;28mself\u001b[39m\u001b[38;5;241m.\u001b[39mtimestamp)\u001b[38;5;66;03m# Artifacts path\u001b[39;00m\n\u001b[1;32m---> 10\u001b[0m \u001b[38;5;28mself\u001b[39m\u001b[38;5;241m.\u001b[39mvector_database\u001b[38;5;241m=\u001b[39m\u001b[43mtraning_pipline\u001b[49m\u001b[38;5;241;43m.\u001b[39;49m\u001b[43mVECTOR_DATABASE_DIR_PATH\u001b[49m\n",
      "\u001b[1;31mAttributeError\u001b[0m: module 'src.constants.traning_pipline' has no attribute 'VECTOR_DATABASE_DIR_PATH'"
     ]
    }
   ],
   "source": [
    "# test\n",
    "from src.pipline.retrieever_pipline import HybridRetriever\n",
    "\n",
    "r=HybridRetriever()\n",
    "r.get_relevant_documents('what is deepseek')"
   ]
  },
  {
   "cell_type": "markdown",
   "metadata": {},
   "source": [
    "## Genaration"
   ]
  },
  {
   "cell_type": "code",
   "execution_count": 1,
   "metadata": {},
   "outputs": [],
   "source": [
    "from src.config.config import TraningPiplineConfig, DataChunkingConfig\n",
    "traning_pipline_config = TraningPiplineConfig()\n",
    "chunking_data = DataChunkingConfig(traning_pipline_config=traning_pipline_config)"
   ]
  },
  {
   "cell_type": "code",
   "execution_count": 2,
   "metadata": {},
   "outputs": [
    {
     "name": "stderr",
     "output_type": "stream",
     "text": [
      "e:\\GENAI\\genaivenv\\Lib\\site-packages\\tqdm\\auto.py:21: TqdmWarning: IProgress not found. Please update jupyter and ipywidgets. See https://ipywidgets.readthedocs.io/en/stable/user_install.html\n",
      "  from .autonotebook import tqdm as notebook_tqdm\n"
     ]
    }
   ],
   "source": [
    "import os\n",
    "from dotenv import load_dotenv\n",
    "load_dotenv()\n",
    "from langchain_google_genai.embeddings import GoogleGenerativeAIEmbeddings\n",
    "\n",
    "embeddings = GoogleGenerativeAIEmbeddings(\n",
    "                google_api_key=os.getenv(\"GEMINI_API_KEY\"),\n",
    "                model=\"models/embedding-001\"\n",
    "            )"
   ]
  },
  {
   "cell_type": "code",
   "execution_count": 3,
   "metadata": {},
   "outputs": [
    {
     "name": "stdout",
     "output_type": "stream",
     "text": [
      "Vector_db\\fiass_db\n"
     ]
    }
   ],
   "source": [
    "print(traning_pipline_config.vector_database)"
   ]
  },
  {
   "cell_type": "code",
   "execution_count": 4,
   "metadata": {},
   "outputs": [
    {
     "name": "stdout",
     "output_type": "stream",
     "text": [
      "FAISS index file does not exist.\n"
     ]
    }
   ],
   "source": [
    "import os\n",
    "\n",
    "path = traning_pipline_config.vector_database\n",
    "\n",
    "if os.path.exists(path):\n",
    "    print(\"FAISS index file exists.\")\n",
    "else:\n",
    "    print(\"FAISS index file does not exist.\")\n"
   ]
  },
  {
   "cell_type": "code",
   "execution_count": 11,
   "metadata": {},
   "outputs": [
    {
     "name": "stdout",
     "output_type": "stream",
     "text": [
      "Vector_db\\fiass_db\n",
      "FAISS index not found. Please create and save it first.\n"
     ]
    }
   ],
   "source": [
    "from langchain_community.vectorstores import FAISS\n",
    "\n",
    "vector_db_path = traning_pipline_config.vector_database\n",
    "print(vector_db_path)\n",
    "\n",
    "if os.path.exists(vector_db_path):\n",
    "    faiss_db = FAISS.load_local(vector_db_path, embeddings=embeddings, allow_dangerous_deserialization=True)\n",
    "    print(\"FAISS index loaded successfully.\")\n",
    "else:\n",
    "    print(\"FAISS index not found. Please create and save it first.\")\n"
   ]
  },
  {
   "cell_type": "code",
   "execution_count": 6,
   "metadata": {},
   "outputs": [],
   "source": [
    "from langchain_google_genai import GoogleGenerativeAI\n",
    "from langchain.chains import RetrievalQA\n",
    "\n",
    "llm=GoogleGenerativeAI(\n",
    "   api_key=os.getenv('GEMINI_API_KEY'),\n",
    "   model='gemini-pro',\n",
    "   top_k=3\n",
    ")\n",
    "\n",
    "qa= RetrievalQA.from_chain_type(\n",
    "    llm=llm,\n",
    "    chain_type='stuff',\n",
    "    retriever=faiss_db.as_retriever()\n",
    ")"
   ]
  },
  {
   "cell_type": "code",
   "execution_count": 7,
   "metadata": {},
   "outputs": [
    {
     "data": {
      "text/plain": [
       "{'query': 'what is deepseek llm',\n",
       " 'result': 'Deepseek LLM is a series of open source large language models developed by Deepseek, a Chinese artificial intelligence company.'}"
      ]
     },
     "execution_count": 7,
     "metadata": {},
     "output_type": "execute_result"
    }
   ],
   "source": [
    "qa.invoke('what is deepseek llm')"
   ]
  },
  {
   "cell_type": "code",
   "execution_count": null,
   "metadata": {},
   "outputs": [],
   "source": []
  }
 ],
 "metadata": {
  "kernelspec": {
   "display_name": "genaivenv",
   "language": "python",
   "name": "python3"
  },
  "language_info": {
   "codemirror_mode": {
    "name": "ipython",
    "version": 3
   },
   "file_extension": ".py",
   "mimetype": "text/x-python",
   "name": "python",
   "nbconvert_exporter": "python",
   "pygments_lexer": "ipython3",
   "version": "3.12.0"
  }
 },
 "nbformat": 4,
 "nbformat_minor": 2
}
